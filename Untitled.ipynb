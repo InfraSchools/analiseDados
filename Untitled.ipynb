{
 "cells": [
  {
   "cell_type": "code",
   "execution_count": 83,
   "metadata": {},
   "outputs": [],
   "source": [
    "import pandas as pd\n",
    "import numpy as np\n",
    "import matplotlib.pyplot as plt\n",
    "\n",
    "%matplotlib inline"
   ]
  },
  {
   "cell_type": "code",
   "execution_count": 84,
   "metadata": {},
   "outputs": [],
   "source": [
    "def ler_csv(file, separador, encode, zebrado=False):\n",
    "    return pd.read_csv(file, sep=separador, encoding=encode, squeeze = zebrado)"
   ]
  },
  {
   "cell_type": "code",
   "execution_count": 85,
   "metadata": {},
   "outputs": [],
   "source": [
    "df = ler_csv(\"ESCOLAS.CSV\", '|', 'iso-8859-1', True)"
   ]
  },
  {
   "cell_type": "code",
   "execution_count": 86,
   "metadata": {},
   "outputs": [
    {
     "data": {
      "text/html": [
       "<div>\n",
       "<style scoped>\n",
       "    .dataframe tbody tr th:only-of-type {\n",
       "        vertical-align: middle;\n",
       "    }\n",
       "\n",
       "    .dataframe tbody tr th {\n",
       "        vertical-align: top;\n",
       "    }\n",
       "\n",
       "    .dataframe thead th {\n",
       "        text-align: right;\n",
       "    }\n",
       "</style>\n",
       "<table border=\"1\" class=\"dataframe\">\n",
       "  <thead>\n",
       "    <tr style=\"text-align: right;\">\n",
       "      <th></th>\n",
       "      <th>NU_ANO_CENSO</th>\n",
       "      <th>CO_ENTIDADE</th>\n",
       "      <th>NO_ENTIDADE</th>\n",
       "      <th>CO_ORGAO_REGIONAL</th>\n",
       "      <th>TP_SITUACAO_FUNCIONAMENTO</th>\n",
       "      <th>DT_ANO_LETIVO_INICIO</th>\n",
       "      <th>DT_ANO_LETIVO_TERMINO</th>\n",
       "      <th>CO_REGIAO</th>\n",
       "      <th>CO_MESORREGIAO</th>\n",
       "      <th>CO_MICRORREGIAO</th>\n",
       "      <th>...</th>\n",
       "      <th>IN_ESP_EXCLUSIVA_MEDIO_INTEGR</th>\n",
       "      <th>IN_ESP_EXCLUSIVA_MEDIO_NORMAL</th>\n",
       "      <th>IN_COMUM_EJA_FUND</th>\n",
       "      <th>IN_COMUM_EJA_MEDIO</th>\n",
       "      <th>IN_COMUM_EJA_PROF</th>\n",
       "      <th>IN_ESP_EXCLUSIVA_EJA_FUND</th>\n",
       "      <th>IN_ESP_EXCLUSIVA_EJA_MEDIO</th>\n",
       "      <th>IN_ESP_EXCLUSIVA_EJA_PROF</th>\n",
       "      <th>IN_COMUM_PROF</th>\n",
       "      <th>IN_ESP_EXCLUSIVA_PROF</th>\n",
       "    </tr>\n",
       "  </thead>\n",
       "  <tbody>\n",
       "    <tr>\n",
       "      <td>0</td>\n",
       "      <td>2018</td>\n",
       "      <td>11022370</td>\n",
       "      <td>EMEIEF CARLOS CHAGAS</td>\n",
       "      <td>12</td>\n",
       "      <td>1</td>\n",
       "      <td>05/02/2018</td>\n",
       "      <td>28/12/2018</td>\n",
       "      <td>1</td>\n",
       "      <td>1102</td>\n",
       "      <td>11005</td>\n",
       "      <td>...</td>\n",
       "      <td>0.0</td>\n",
       "      <td>0.0</td>\n",
       "      <td>0.0</td>\n",
       "      <td>0.0</td>\n",
       "      <td>0.0</td>\n",
       "      <td>0.0</td>\n",
       "      <td>0.0</td>\n",
       "      <td>0.0</td>\n",
       "      <td>0.0</td>\n",
       "      <td>0.0</td>\n",
       "    </tr>\n",
       "    <tr>\n",
       "      <td>1</td>\n",
       "      <td>2018</td>\n",
       "      <td>11022388</td>\n",
       "      <td>EMEIEF CARLOS GOMES</td>\n",
       "      <td>12</td>\n",
       "      <td>1</td>\n",
       "      <td>05/02/2018</td>\n",
       "      <td>28/12/2018</td>\n",
       "      <td>1</td>\n",
       "      <td>1102</td>\n",
       "      <td>11005</td>\n",
       "      <td>...</td>\n",
       "      <td>0.0</td>\n",
       "      <td>0.0</td>\n",
       "      <td>0.0</td>\n",
       "      <td>0.0</td>\n",
       "      <td>0.0</td>\n",
       "      <td>0.0</td>\n",
       "      <td>0.0</td>\n",
       "      <td>0.0</td>\n",
       "      <td>0.0</td>\n",
       "      <td>0.0</td>\n",
       "    </tr>\n",
       "    <tr>\n",
       "      <td>2</td>\n",
       "      <td>2018</td>\n",
       "      <td>11022450</td>\n",
       "      <td>EEEF DEONILDO CARAGNATTO</td>\n",
       "      <td>12</td>\n",
       "      <td>1</td>\n",
       "      <td>05/02/2018</td>\n",
       "      <td>20/12/2018</td>\n",
       "      <td>1</td>\n",
       "      <td>1102</td>\n",
       "      <td>11005</td>\n",
       "      <td>...</td>\n",
       "      <td>0.0</td>\n",
       "      <td>0.0</td>\n",
       "      <td>0.0</td>\n",
       "      <td>0.0</td>\n",
       "      <td>0.0</td>\n",
       "      <td>0.0</td>\n",
       "      <td>0.0</td>\n",
       "      <td>0.0</td>\n",
       "      <td>0.0</td>\n",
       "      <td>0.0</td>\n",
       "    </tr>\n",
       "    <tr>\n",
       "      <td>3</td>\n",
       "      <td>2018</td>\n",
       "      <td>11022469</td>\n",
       "      <td>EMEIEF DEONILDO CARAGNATTO</td>\n",
       "      <td>12</td>\n",
       "      <td>1</td>\n",
       "      <td>05/02/2018</td>\n",
       "      <td>28/12/2018</td>\n",
       "      <td>1</td>\n",
       "      <td>1102</td>\n",
       "      <td>11005</td>\n",
       "      <td>...</td>\n",
       "      <td>0.0</td>\n",
       "      <td>0.0</td>\n",
       "      <td>0.0</td>\n",
       "      <td>0.0</td>\n",
       "      <td>0.0</td>\n",
       "      <td>0.0</td>\n",
       "      <td>0.0</td>\n",
       "      <td>0.0</td>\n",
       "      <td>0.0</td>\n",
       "      <td>0.0</td>\n",
       "    </tr>\n",
       "    <tr>\n",
       "      <td>4</td>\n",
       "      <td>2018</td>\n",
       "      <td>11022558</td>\n",
       "      <td>EIEEF HAP BITT TUPARI</td>\n",
       "      <td>15</td>\n",
       "      <td>1</td>\n",
       "      <td>05/02/2018</td>\n",
       "      <td>03/12/2018</td>\n",
       "      <td>1</td>\n",
       "      <td>1102</td>\n",
       "      <td>11006</td>\n",
       "      <td>...</td>\n",
       "      <td>0.0</td>\n",
       "      <td>0.0</td>\n",
       "      <td>0.0</td>\n",
       "      <td>0.0</td>\n",
       "      <td>0.0</td>\n",
       "      <td>0.0</td>\n",
       "      <td>0.0</td>\n",
       "      <td>0.0</td>\n",
       "      <td>0.0</td>\n",
       "      <td>0.0</td>\n",
       "    </tr>\n",
       "  </tbody>\n",
       "</table>\n",
       "<p>5 rows × 166 columns</p>\n",
       "</div>"
      ],
      "text/plain": [
       "   NU_ANO_CENSO  CO_ENTIDADE                 NO_ENTIDADE CO_ORGAO_REGIONAL  \\\n",
       "0          2018     11022370        EMEIEF CARLOS CHAGAS                12   \n",
       "1          2018     11022388         EMEIEF CARLOS GOMES                12   \n",
       "2          2018     11022450    EEEF DEONILDO CARAGNATTO                12   \n",
       "3          2018     11022469  EMEIEF DEONILDO CARAGNATTO                12   \n",
       "4          2018     11022558       EIEEF HAP BITT TUPARI                15   \n",
       "\n",
       "   TP_SITUACAO_FUNCIONAMENTO DT_ANO_LETIVO_INICIO DT_ANO_LETIVO_TERMINO  \\\n",
       "0                          1           05/02/2018            28/12/2018   \n",
       "1                          1           05/02/2018            28/12/2018   \n",
       "2                          1           05/02/2018            20/12/2018   \n",
       "3                          1           05/02/2018            28/12/2018   \n",
       "4                          1           05/02/2018            03/12/2018   \n",
       "\n",
       "   CO_REGIAO  CO_MESORREGIAO  CO_MICRORREGIAO  ...  \\\n",
       "0          1            1102            11005  ...   \n",
       "1          1            1102            11005  ...   \n",
       "2          1            1102            11005  ...   \n",
       "3          1            1102            11005  ...   \n",
       "4          1            1102            11006  ...   \n",
       "\n",
       "   IN_ESP_EXCLUSIVA_MEDIO_INTEGR  IN_ESP_EXCLUSIVA_MEDIO_NORMAL  \\\n",
       "0                            0.0                            0.0   \n",
       "1                            0.0                            0.0   \n",
       "2                            0.0                            0.0   \n",
       "3                            0.0                            0.0   \n",
       "4                            0.0                            0.0   \n",
       "\n",
       "   IN_COMUM_EJA_FUND  IN_COMUM_EJA_MEDIO  IN_COMUM_EJA_PROF  \\\n",
       "0                0.0                 0.0                0.0   \n",
       "1                0.0                 0.0                0.0   \n",
       "2                0.0                 0.0                0.0   \n",
       "3                0.0                 0.0                0.0   \n",
       "4                0.0                 0.0                0.0   \n",
       "\n",
       "   IN_ESP_EXCLUSIVA_EJA_FUND  IN_ESP_EXCLUSIVA_EJA_MEDIO  \\\n",
       "0                        0.0                         0.0   \n",
       "1                        0.0                         0.0   \n",
       "2                        0.0                         0.0   \n",
       "3                        0.0                         0.0   \n",
       "4                        0.0                         0.0   \n",
       "\n",
       "   IN_ESP_EXCLUSIVA_EJA_PROF  IN_COMUM_PROF  IN_ESP_EXCLUSIVA_PROF  \n",
       "0                        0.0            0.0                    0.0  \n",
       "1                        0.0            0.0                    0.0  \n",
       "2                        0.0            0.0                    0.0  \n",
       "3                        0.0            0.0                    0.0  \n",
       "4                        0.0            0.0                    0.0  \n",
       "\n",
       "[5 rows x 166 columns]"
      ]
     },
     "execution_count": 86,
     "metadata": {},
     "output_type": "execute_result"
    }
   ],
   "source": [
    "df.head(5)"
   ]
  },
  {
   "cell_type": "code",
   "execution_count": 88,
   "metadata": {},
   "outputs": [
    {
     "data": {
      "text/plain": [
       "<pandas.core.groupby.generic.DataFrameGroupBy object at 0x12d81cb90>"
      ]
     },
     "execution_count": 88,
     "metadata": {},
     "output_type": "execute_result"
    }
   ],
   "source": [
    "gk = df.groupby('TP_DEPENDENCIA')"
   ]
  },
  {
   "cell_type": "code",
   "execution_count": 108,
   "metadata": {},
   "outputs": [
    {
     "data": {
      "text/plain": [
       "TP_DEPENDENCIA\n",
       "1       795\n",
       "2     37753\n",
       "3    181491\n",
       "4     65975\n",
       "Name: TP_DEPENDENCIA, dtype: int64"
      ]
     },
     "execution_count": 108,
     "metadata": {},
     "output_type": "execute_result"
    }
   ],
   "source": [
    "gk['TP_DEPENDENCIA'].count()"
   ]
  },
  {
   "cell_type": "code",
   "execution_count": 127,
   "metadata": {},
   "outputs": [
    {
     "data": {
      "text/plain": [
       "TP_DEPENDENCIA\n",
       "1    AxesSubplot(0.125,0.125;0.775x0.755)\n",
       "2    AxesSubplot(0.125,0.125;0.775x0.755)\n",
       "3    AxesSubplot(0.125,0.125;0.775x0.755)\n",
       "4    AxesSubplot(0.125,0.125;0.775x0.755)\n",
       "Name: TP_DEPENDENCIA, dtype: object"
      ]
     },
     "execution_count": 127,
     "metadata": {},
     "output_type": "execute_result"
    },
    {
     "data": {
      "image/png": "[encoded data removed]",
      "text/plain": [
       "<Figure size 432x288 with 1 Axes>"
      ]
     },
     "metadata": {
      "needs_background": "light"
     },
     "output_type": "display_data"
    }
   ],
   "source": [
    "gk['TP_DEPENDENCIA'].plot.hist( edgecolor='black')"
   ]
  },
  {
   "cell_type": "code",
   "execution_count": 130,
   "metadata": {},
   "outputs": [
    {
     "data": {
      "text/plain": [
       "[Text(0, 0, 'Federal'),\n",
       " Text(0, 0, 'Estadual'),\n",
       " Text(0, 0, 'Municipal'),\n",
       " Text(0, 0, 'Privada')]"
      ]
     },
     "execution_count": 130,
     "metadata": {},
     "output_type": "execute_result"
    },
    {
     "data": {
      "image/png": "[encoded data removed]",
      "text/plain": [
       "<Figure size 432x288 with 1 Axes>"
      ]
     },
     "metadata": {
      "needs_background": "light"
     },
     "output_type": "display_data"
    }
   ],
   "source": [
    "fig, ax = plt.subplots()\n",
    "\n",
    "gk['TP_DEPENDENCIA'].value_counts().plot.bar(title=\"++++++\")\n",
    "\n",
    "ax.set_xticklabels(['Federal','Estadual', 'Municipal','Privada'])"
   ]
  },
  {
   "cell_type": "code",
   "execution_count": 131,
   "metadata": {},
   "outputs": [
    {
     "data": {
      "text/plain": [
       "[Text(0, 0, 'Federal'),\n",
       " Text(0, 0, 'Estadual'),\n",
       " Text(0, 0, 'Municipal'),\n",
       " Text(0, 0, 'Privada')]"
      ]
     },
     "execution_count": 131,
     "metadata": {},
     "output_type": "execute_result"
    },
    {
     "data": {
      "image/png": "[encoded data removed]",
      "text/plain": [
       "<Figure size 432x288 with 1 Axes>"
      ]
     },
     "metadata": {
      "needs_background": "light"
     },
     "output_type": "display_data"
    }
   ],
   "source": [
    "fig, ay = plt.subplots()\n",
    "\n",
    "gk['TP_DEPENDENCIA'].value_counts().plot.barh(title=\"++++++\")\n",
    "\n",
    "ay.set_yticklabels(['Federal','Estadual', 'Municipal','Privada'])"
   ]
  },
  {
   "cell_type": "code",
   "execution_count": null,
   "metadata": {},
   "outputs": [],
   "source": []
  }
 ],
 "metadata": {
  "kernelspec": {
   "display_name": "Python 3",
   "language": "python",
   "name": "python3"
  },
  "language_info": {
   "codemirror_mode": {
    "name": "ipython",
    "version": 3
   },
   "file_extension": ".py",
   "mimetype": "text/x-python",
   "name": "python",
   "nbconvert_exporter": "python",
   "pygments_lexer": "ipython3",
   "version": "3.7.4"
  }
 },
 "nbformat": 4,
 "nbformat_minor": 2
}

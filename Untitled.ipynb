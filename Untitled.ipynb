{
 "cells": [
  {
   "cell_type": "code",
   "execution_count": 2,
   "metadata": {},
   "outputs": [],
   "source": [
    "import pandas as pd\n",
    "import numpy as np\n",
    "import matplotlib.pyplot as plt\n",
    "\n",
    "%matplotlib inline"
   ]
  },
  {
   "cell_type": "code",
   "execution_count": 3,
   "metadata": {},
   "outputs": [],
   "source": [
    "def ler_csv(file, separador, encode, zebrado=False):\n",
    "    return pd.read_csv(file, sep=separador, encoding=encode, squeeze = zebrado)"
   ]
  },
  {
   "cell_type": "code",
   "execution_count": 8,
   "metadata": {},
   "outputs": [],
   "source": [
    "df_ESC = ler_csv(\"./base/ESCOLAS.CSV\", '|', 'iso-8859-1', True)\n",
    "df_TS_ESC = ler_csv(\"./base/TS_ESCOLA.CSV\", ',', 'iso-8859-1', True)"
   ]
  },
  {
   "cell_type": "code",
   "execution_count": 5,
   "metadata": {},
   "outputs": [
    {
     "data": {
      "text/html": [
       "<div>\n",
       "<style scoped>\n",
       "    .dataframe tbody tr th:only-of-type {\n",
       "        vertical-align: middle;\n",
       "    }\n",
       "\n",
       "    .dataframe tbody tr th {\n",
       "        vertical-align: top;\n",
       "    }\n",
       "\n",
       "    .dataframe thead th {\n",
       "        text-align: right;\n",
       "    }\n",
       "</style>\n",
       "<table border=\"1\" class=\"dataframe\">\n",
       "  <thead>\n",
       "    <tr style=\"text-align: right;\">\n",
       "      <th></th>\n",
       "      <th>NU_ANO_CENSO</th>\n",
       "      <th>CO_ENTIDADE</th>\n",
       "      <th>NO_ENTIDADE</th>\n",
       "      <th>CO_ORGAO_REGIONAL</th>\n",
       "      <th>TP_SITUACAO_FUNCIONAMENTO</th>\n",
       "      <th>DT_ANO_LETIVO_INICIO</th>\n",
       "      <th>DT_ANO_LETIVO_TERMINO</th>\n",
       "      <th>CO_REGIAO</th>\n",
       "      <th>CO_MESORREGIAO</th>\n",
       "      <th>CO_MICRORREGIAO</th>\n",
       "      <th>...</th>\n",
       "      <th>IN_ESP_EXCLUSIVA_MEDIO_INTEGR</th>\n",
       "      <th>IN_ESP_EXCLUSIVA_MEDIO_NORMAL</th>\n",
       "      <th>IN_COMUM_EJA_FUND</th>\n",
       "      <th>IN_COMUM_EJA_MEDIO</th>\n",
       "      <th>IN_COMUM_EJA_PROF</th>\n",
       "      <th>IN_ESP_EXCLUSIVA_EJA_FUND</th>\n",
       "      <th>IN_ESP_EXCLUSIVA_EJA_MEDIO</th>\n",
       "      <th>IN_ESP_EXCLUSIVA_EJA_PROF</th>\n",
       "      <th>IN_COMUM_PROF</th>\n",
       "      <th>IN_ESP_EXCLUSIVA_PROF</th>\n",
       "    </tr>\n",
       "  </thead>\n",
       "  <tbody>\n",
       "    <tr>\n",
       "      <td>0</td>\n",
       "      <td>2018</td>\n",
       "      <td>11022370</td>\n",
       "      <td>EMEIEF CARLOS CHAGAS</td>\n",
       "      <td>12</td>\n",
       "      <td>1</td>\n",
       "      <td>05/02/2018</td>\n",
       "      <td>28/12/2018</td>\n",
       "      <td>1</td>\n",
       "      <td>1102</td>\n",
       "      <td>11005</td>\n",
       "      <td>...</td>\n",
       "      <td>0.0</td>\n",
       "      <td>0.0</td>\n",
       "      <td>0.0</td>\n",
       "      <td>0.0</td>\n",
       "      <td>0.0</td>\n",
       "      <td>0.0</td>\n",
       "      <td>0.0</td>\n",
       "      <td>0.0</td>\n",
       "      <td>0.0</td>\n",
       "      <td>0.0</td>\n",
       "    </tr>\n",
       "    <tr>\n",
       "      <td>1</td>\n",
       "      <td>2018</td>\n",
       "      <td>11022388</td>\n",
       "      <td>EMEIEF CARLOS GOMES</td>\n",
       "      <td>12</td>\n",
       "      <td>1</td>\n",
       "      <td>05/02/2018</td>\n",
       "      <td>28/12/2018</td>\n",
       "      <td>1</td>\n",
       "      <td>1102</td>\n",
       "      <td>11005</td>\n",
       "      <td>...</td>\n",
       "      <td>0.0</td>\n",
       "      <td>0.0</td>\n",
       "      <td>0.0</td>\n",
       "      <td>0.0</td>\n",
       "      <td>0.0</td>\n",
       "      <td>0.0</td>\n",
       "      <td>0.0</td>\n",
       "      <td>0.0</td>\n",
       "      <td>0.0</td>\n",
       "      <td>0.0</td>\n",
       "    </tr>\n",
       "    <tr>\n",
       "      <td>2</td>\n",
       "      <td>2018</td>\n",
       "      <td>11022450</td>\n",
       "      <td>EEEF DEONILDO CARAGNATTO</td>\n",
       "      <td>12</td>\n",
       "      <td>1</td>\n",
       "      <td>05/02/2018</td>\n",
       "      <td>20/12/2018</td>\n",
       "      <td>1</td>\n",
       "      <td>1102</td>\n",
       "      <td>11005</td>\n",
       "      <td>...</td>\n",
       "      <td>0.0</td>\n",
       "      <td>0.0</td>\n",
       "      <td>0.0</td>\n",
       "      <td>0.0</td>\n",
       "      <td>0.0</td>\n",
       "      <td>0.0</td>\n",
       "      <td>0.0</td>\n",
       "      <td>0.0</td>\n",
       "      <td>0.0</td>\n",
       "      <td>0.0</td>\n",
       "    </tr>\n",
       "    <tr>\n",
       "      <td>3</td>\n",
       "      <td>2018</td>\n",
       "      <td>11022469</td>\n",
       "      <td>EMEIEF DEONILDO CARAGNATTO</td>\n",
       "      <td>12</td>\n",
       "      <td>1</td>\n",
       "      <td>05/02/2018</td>\n",
       "      <td>28/12/2018</td>\n",
       "      <td>1</td>\n",
       "      <td>1102</td>\n",
       "      <td>11005</td>\n",
       "      <td>...</td>\n",
       "      <td>0.0</td>\n",
       "      <td>0.0</td>\n",
       "      <td>0.0</td>\n",
       "      <td>0.0</td>\n",
       "      <td>0.0</td>\n",
       "      <td>0.0</td>\n",
       "      <td>0.0</td>\n",
       "      <td>0.0</td>\n",
       "      <td>0.0</td>\n",
       "      <td>0.0</td>\n",
       "    </tr>\n",
       "    <tr>\n",
       "      <td>4</td>\n",
       "      <td>2018</td>\n",
       "      <td>11022558</td>\n",
       "      <td>EIEEF HAP BITT TUPARI</td>\n",
       "      <td>15</td>\n",
       "      <td>1</td>\n",
       "      <td>05/02/2018</td>\n",
       "      <td>03/12/2018</td>\n",
       "      <td>1</td>\n",
       "      <td>1102</td>\n",
       "      <td>11006</td>\n",
       "      <td>...</td>\n",
       "      <td>0.0</td>\n",
       "      <td>0.0</td>\n",
       "      <td>0.0</td>\n",
       "      <td>0.0</td>\n",
       "      <td>0.0</td>\n",
       "      <td>0.0</td>\n",
       "      <td>0.0</td>\n",
       "      <td>0.0</td>\n",
       "      <td>0.0</td>\n",
       "      <td>0.0</td>\n",
       "    </tr>\n",
       "  </tbody>\n",
       "</table>\n",
       "<p>5 rows × 166 columns</p>\n",
       "</div>"
      ],
      "text/plain": [
       "   NU_ANO_CENSO  CO_ENTIDADE                 NO_ENTIDADE CO_ORGAO_REGIONAL  \\\n",
       "0          2018     11022370        EMEIEF CARLOS CHAGAS                12   \n",
       "1          2018     11022388         EMEIEF CARLOS GOMES                12   \n",
       "2          2018     11022450    EEEF DEONILDO CARAGNATTO                12   \n",
       "3          2018     11022469  EMEIEF DEONILDO CARAGNATTO                12   \n",
       "4          2018     11022558       EIEEF HAP BITT TUPARI                15   \n",
       "\n",
       "   TP_SITUACAO_FUNCIONAMENTO DT_ANO_LETIVO_INICIO DT_ANO_LETIVO_TERMINO  \\\n",
       "0                          1           05/02/2018            28/12/2018   \n",
       "1                          1           05/02/2018            28/12/2018   \n",
       "2                          1           05/02/2018            20/12/2018   \n",
       "3                          1           05/02/2018            28/12/2018   \n",
       "4                          1           05/02/2018            03/12/2018   \n",
       "\n",
       "   CO_REGIAO  CO_MESORREGIAO  CO_MICRORREGIAO  ...  \\\n",
       "0          1            1102            11005  ...   \n",
       "1          1            1102            11005  ...   \n",
       "2          1            1102            11005  ...   \n",
       "3          1            1102            11005  ...   \n",
       "4          1            1102            11006  ...   \n",
       "\n",
       "   IN_ESP_EXCLUSIVA_MEDIO_INTEGR  IN_ESP_EXCLUSIVA_MEDIO_NORMAL  \\\n",
       "0                            0.0                            0.0   \n",
       "1                            0.0                            0.0   \n",
       "2                            0.0                            0.0   \n",
       "3                            0.0                            0.0   \n",
       "4                            0.0                            0.0   \n",
       "\n",
       "   IN_COMUM_EJA_FUND  IN_COMUM_EJA_MEDIO  IN_COMUM_EJA_PROF  \\\n",
       "0                0.0                 0.0                0.0   \n",
       "1                0.0                 0.0                0.0   \n",
       "2                0.0                 0.0                0.0   \n",
       "3                0.0                 0.0                0.0   \n",
       "4                0.0                 0.0                0.0   \n",
       "\n",
       "   IN_ESP_EXCLUSIVA_EJA_FUND  IN_ESP_EXCLUSIVA_EJA_MEDIO  \\\n",
       "0                        0.0                         0.0   \n",
       "1                        0.0                         0.0   \n",
       "2                        0.0                         0.0   \n",
       "3                        0.0                         0.0   \n",
       "4                        0.0                         0.0   \n",
       "\n",
       "   IN_ESP_EXCLUSIVA_EJA_PROF  IN_COMUM_PROF  IN_ESP_EXCLUSIVA_PROF  \n",
       "0                        0.0            0.0                    0.0  \n",
       "1                        0.0            0.0                    0.0  \n",
       "2                        0.0            0.0                    0.0  \n",
       "3                        0.0            0.0                    0.0  \n",
       "4                        0.0            0.0                    0.0  \n",
       "\n",
       "[5 rows x 166 columns]"
      ]
     },
     "execution_count": 5,
     "metadata": {},
     "output_type": "execute_result"
    }
   ],
   "source": [
    "df_ESC.head(5)"
   ]
  },
  {
   "cell_type": "code",
   "execution_count": 9,
   "metadata": {},
   "outputs": [
    {
     "data": {
      "text/html": [
       "<div>\n",
       "<style scoped>\n",
       "    .dataframe tbody tr th:only-of-type {\n",
       "        vertical-align: middle;\n",
       "    }\n",
       "\n",
       "    .dataframe tbody tr th {\n",
       "        vertical-align: top;\n",
       "    }\n",
       "\n",
       "    .dataframe thead th {\n",
       "        text-align: right;\n",
       "    }\n",
       "</style>\n",
       "<table border=\"1\" class=\"dataframe\">\n",
       "  <thead>\n",
       "    <tr style=\"text-align: right;\">\n",
       "      <th></th>\n",
       "      <th>ID_PROVA_BRASIL</th>\n",
       "      <th>ID_UF</th>\n",
       "      <th>ID_MUNICIPIO</th>\n",
       "      <th>ID_ESCOLA</th>\n",
       "      <th>ID_DEPENDENCIA_ADM</th>\n",
       "      <th>ID_LOCALIZACAO</th>\n",
       "      <th>PC_FORMACAO_DOCENTE_INICIAL</th>\n",
       "      <th>PC_FORMACAO_DOCENTE_FINAL</th>\n",
       "      <th>PC_FORMACAO_DOCENTE_MEDIO</th>\n",
       "      <th>NIVEL_SOCIO_ECONOMICO</th>\n",
       "      <th>...</th>\n",
       "      <th>TX_RESP_Q065</th>\n",
       "      <th>TX_RESP_Q066</th>\n",
       "      <th>TX_RESP_Q067</th>\n",
       "      <th>TX_RESP_Q068</th>\n",
       "      <th>TX_RESP_Q069</th>\n",
       "      <th>TX_RESP_Q070</th>\n",
       "      <th>TX_RESP_Q071</th>\n",
       "      <th>TX_RESP_Q072</th>\n",
       "      <th>TX_RESP_Q073</th>\n",
       "      <th>TX_RESP_Q074</th>\n",
       "    </tr>\n",
       "  </thead>\n",
       "  <tbody>\n",
       "    <tr>\n",
       "      <td>0</td>\n",
       "      <td>2017</td>\n",
       "      <td>11</td>\n",
       "      <td>1100015</td>\n",
       "      <td>11024666</td>\n",
       "      <td>3</td>\n",
       "      <td>2</td>\n",
       "      <td>83.3</td>\n",
       "      <td>55.6</td>\n",
       "      <td>NaN</td>\n",
       "      <td>Grupo 2</td>\n",
       "      <td>...</td>\n",
       "      <td>A</td>\n",
       "      <td>C</td>\n",
       "      <td>B</td>\n",
       "      <td>A</td>\n",
       "      <td>A</td>\n",
       "      <td>A</td>\n",
       "      <td>A</td>\n",
       "      <td>A</td>\n",
       "      <td>B</td>\n",
       "      <td>A</td>\n",
       "    </tr>\n",
       "    <tr>\n",
       "      <td>1</td>\n",
       "      <td>2017</td>\n",
       "      <td>11</td>\n",
       "      <td>1100015</td>\n",
       "      <td>11024682</td>\n",
       "      <td>2</td>\n",
       "      <td>1</td>\n",
       "      <td>94.2</td>\n",
       "      <td>64.1</td>\n",
       "      <td>NaN</td>\n",
       "      <td>Grupo 3</td>\n",
       "      <td>...</td>\n",
       "      <td>A</td>\n",
       "      <td>C</td>\n",
       "      <td>B</td>\n",
       "      <td>A</td>\n",
       "      <td>A</td>\n",
       "      <td>A</td>\n",
       "      <td>A</td>\n",
       "      <td>A</td>\n",
       "      <td>A</td>\n",
       "      <td>A</td>\n",
       "    </tr>\n",
       "    <tr>\n",
       "      <td>2</td>\n",
       "      <td>2017</td>\n",
       "      <td>11</td>\n",
       "      <td>1100015</td>\n",
       "      <td>11024828</td>\n",
       "      <td>3</td>\n",
       "      <td>1</td>\n",
       "      <td>100.0</td>\n",
       "      <td>55.6</td>\n",
       "      <td>NaN</td>\n",
       "      <td>Grupo 3</td>\n",
       "      <td>...</td>\n",
       "      <td>A</td>\n",
       "      <td>B</td>\n",
       "      <td>B</td>\n",
       "      <td>A</td>\n",
       "      <td>B</td>\n",
       "      <td>B</td>\n",
       "      <td>A</td>\n",
       "      <td>A</td>\n",
       "      <td>A</td>\n",
       "      <td>B</td>\n",
       "    </tr>\n",
       "    <tr>\n",
       "      <td>3</td>\n",
       "      <td>2017</td>\n",
       "      <td>11</td>\n",
       "      <td>1100015</td>\n",
       "      <td>11024968</td>\n",
       "      <td>2</td>\n",
       "      <td>1</td>\n",
       "      <td>NaN</td>\n",
       "      <td>48.9</td>\n",
       "      <td>77.1</td>\n",
       "      <td>Grupo 3</td>\n",
       "      <td>...</td>\n",
       "      <td>B</td>\n",
       "      <td>C</td>\n",
       "      <td>C</td>\n",
       "      <td>A</td>\n",
       "      <td>B</td>\n",
       "      <td>B</td>\n",
       "      <td>A</td>\n",
       "      <td>A</td>\n",
       "      <td>A</td>\n",
       "      <td>B</td>\n",
       "    </tr>\n",
       "    <tr>\n",
       "      <td>4</td>\n",
       "      <td>2017</td>\n",
       "      <td>11</td>\n",
       "      <td>1100015</td>\n",
       "      <td>11025077</td>\n",
       "      <td>3</td>\n",
       "      <td>1</td>\n",
       "      <td>100.0</td>\n",
       "      <td>55.6</td>\n",
       "      <td>NaN</td>\n",
       "      <td>NaN</td>\n",
       "      <td>...</td>\n",
       "      <td>B</td>\n",
       "      <td>B</td>\n",
       "      <td>B</td>\n",
       "      <td>A</td>\n",
       "      <td>A</td>\n",
       "      <td>B</td>\n",
       "      <td>A</td>\n",
       "      <td>A</td>\n",
       "      <td>A</td>\n",
       "      <td>C</td>\n",
       "    </tr>\n",
       "  </tbody>\n",
       "</table>\n",
       "<p>5 rows × 154 columns</p>\n",
       "</div>"
      ],
      "text/plain": [
       "   ID_PROVA_BRASIL  ID_UF  ID_MUNICIPIO  ID_ESCOLA  ID_DEPENDENCIA_ADM  \\\n",
       "0             2017     11       1100015   11024666                   3   \n",
       "1             2017     11       1100015   11024682                   2   \n",
       "2             2017     11       1100015   11024828                   3   \n",
       "3             2017     11       1100015   11024968                   2   \n",
       "4             2017     11       1100015   11025077                   3   \n",
       "\n",
       "   ID_LOCALIZACAO  PC_FORMACAO_DOCENTE_INICIAL  PC_FORMACAO_DOCENTE_FINAL  \\\n",
       "0               2                         83.3                       55.6   \n",
       "1               1                         94.2                       64.1   \n",
       "2               1                        100.0                       55.6   \n",
       "3               1                          NaN                       48.9   \n",
       "4               1                        100.0                       55.6   \n",
       "\n",
       "   PC_FORMACAO_DOCENTE_MEDIO NIVEL_SOCIO_ECONOMICO  ...  TX_RESP_Q065  \\\n",
       "0                        NaN               Grupo 2  ...             A   \n",
       "1                        NaN               Grupo 3  ...             A   \n",
       "2                        NaN               Grupo 3  ...             A   \n",
       "3                       77.1               Grupo 3  ...             B   \n",
       "4                        NaN                   NaN  ...             B   \n",
       "\n",
       "   TX_RESP_Q066  TX_RESP_Q067  TX_RESP_Q068  TX_RESP_Q069  TX_RESP_Q070  \\\n",
       "0             C             B             A             A             A   \n",
       "1             C             B             A             A             A   \n",
       "2             B             B             A             B             B   \n",
       "3             C             C             A             B             B   \n",
       "4             B             B             A             A             B   \n",
       "\n",
       "   TX_RESP_Q071  TX_RESP_Q072  TX_RESP_Q073  TX_RESP_Q074  \n",
       "0             A             A             B             A  \n",
       "1             A             A             A             A  \n",
       "2             A             A             A             B  \n",
       "3             A             A             A             B  \n",
       "4             A             A             A             C  \n",
       "\n",
       "[5 rows x 154 columns]"
      ]
     },
     "execution_count": 9,
     "metadata": {},
     "output_type": "execute_result"
    }
   ],
   "source": [
    "df_TS_ESC.head(5)"
   ]
  },
  {
   "cell_type": "code",
   "execution_count": 11,
   "metadata": {},
   "outputs": [],
   "source": [
    "gk = df_ESC.groupby('TP_DEPENDENCIA')"
   ]
  },
  {
   "cell_type": "code",
   "execution_count": 12,
   "metadata": {},
   "outputs": [
    {
     "data": {
      "text/plain": [
       "TP_DEPENDENCIA\n",
       "1       795\n",
       "2     37753\n",
       "3    181491\n",
       "4     65975\n",
       "Name: TP_DEPENDENCIA, dtype: int64"
      ]
     },
     "execution_count": 12,
     "metadata": {},
     "output_type": "execute_result"
    }
   ],
   "source": [
    "gk['TP_DEPENDENCIA'].count()"
   ]
  },
  {
   "cell_type": "code",
   "execution_count": 13,
   "metadata": {},
   "outputs": [
    {
     "data": {
      "text/plain": [
       "TP_DEPENDENCIA\n",
       "1    AxesSubplot(0.125,0.125;0.775x0.755)\n",
       "2    AxesSubplot(0.125,0.125;0.775x0.755)\n",
       "3    AxesSubplot(0.125,0.125;0.775x0.755)\n",
       "4    AxesSubplot(0.125,0.125;0.775x0.755)\n",
       "Name: TP_DEPENDENCIA, dtype: object"
      ]
     },
     "execution_count": 13,
     "metadata": {},
     "output_type": "execute_result"
    },
    {
     "data": {
      "image/png": "[encoded data removed]",
      "text/plain": [
       "<Figure size 432x288 with 1 Axes>"
      ]
     },
     "metadata": {
      "needs_background": "light"
     },
     "output_type": "display_data"
    }
   ],
   "source": [
    "gk['TP_DEPENDENCIA'].plot.hist( edgecolor='black')"
   ]
  },
  {
   "cell_type": "code",
   "execution_count": 14,
   "metadata": {},
   "outputs": [
    {
     "data": {
      "text/plain": [
       "[Text(0, 0, 'Federal'),\n",
       " Text(0, 0, 'Estadual'),\n",
       " Text(0, 0, 'Municipal'),\n",
       " Text(0, 0, 'Privada')]"
      ]
     },
     "execution_count": 14,
     "metadata": {},
     "output_type": "execute_result"
    },
    {
     "data": {
      "image/png": "[encoded data removed]",
      "text/plain": [
       "<Figure size 432x288 with 1 Axes>"
      ]
     },
     "metadata": {
      "needs_background": "light"
     },
     "output_type": "display_data"
    }
   ],
   "source": [
    "fig, ax = plt.subplots()\n",
    "\n",
    "gk['TP_DEPENDENCIA'].value_counts().plot.bar(title=\"++++++\")\n",
    "\n",
    "ax.set_xticklabels(['Federal','Estadual', 'Municipal','Privada'])"
   ]
  },
  {
   "cell_type": "code",
   "execution_count": 36,
   "metadata": {},
   "outputs": [
    {
     "data": {
      "text/plain": [
       "[Text(0, 0, 'Federal'),\n",
       " Text(0, 0, 'Estadual'),\n",
       " Text(0, 0, 'Municipal'),\n",
       " Text(0, 0, 'Privada')]"
      ]
     },
     "execution_count": 36,
     "metadata": {},
     "output_type": "execute_result"
    },
    {
     "data": {
      "image/png": "[encoded data removed]",
      "text/plain": [
       "<Figure size 432x288 with 1 Axes>"
      ]
     },
     "metadata": {
      "needs_background": "light"
     },
     "output_type": "display_data"
    }
   ],
   "source": [
    "fig, ay = plt.subplots()\n",
    "\n",
    "((gk['TP_DEPENDENCIA'].value_counts()/gk['TP_DEPENDENCIA'].count().sum())*100).plot.barh(title=\"++++++\")\n",
    "\n",
    "ay.set_yticklabels(['Federal','Estadual', 'Municipal','Privada'])\n"
   ]
  },
  {
   "cell_type": "code",
   "execution_count": 22,
   "metadata": {},
   "outputs": [],
   "source": [
    "#df_2 = marcas_conta['PERCENT'] = ((marcas_conta['TP_DEPENDENCIA']/marcas_conta['TP_DEPENDENCIA'].sum())*100)"
   ]
  },
  {
   "cell_type": "code",
   "execution_count": 35,
   "metadata": {},
   "outputs": [
    {
     "data": {
      "text/plain": [
       "[Text(0, 0, 'Federal'),\n",
       " Text(0, 0, 'Estadual'),\n",
       " Text(0, 0, 'Municipal'),\n",
       " Text(0, 0, 'Privada')]"
      ]
     },
     "execution_count": 35,
     "metadata": {},
     "output_type": "execute_result"
    },
    {
     "data": {
      "image/png": "[encoded data removed]",
      "text/plain": [
       "<Figure size 432x288 with 1 Axes>"
      ]
     },
     "metadata": {
      "needs_background": "light"
     },
     "output_type": "display_data"
    }
   ],
   "source": [
    "fig, ax = plt.subplots()\n",
    "((gk['TP_DEPENDENCIA'].value_counts()/gk['TP_DEPENDENCIA'].count().sum())*100).plot.bar(title=\"++++++\")\n",
    "ax.set_xticklabels(['Federal','Estadual', 'Municipal','Privada'])"
   ]
  },
  {
   "cell_type": "code",
   "execution_count": 39,
   "metadata": {},
   "outputs": [],
   "source": [
    "E = df.groupby(['IN_AGUA_INEXISTENTE', 'CO_REGIAO']).size().reset_index(name='TOTAL_CONTAGEM')"
   ]
  },
  {
   "cell_type": "code",
   "execution_count": 63,
   "metadata": {},
   "outputs": [
    {
     "data": {
      "text/html": [
       "<div>\n",
       "<style scoped>\n",
       "    .dataframe tbody tr th:only-of-type {\n",
       "        vertical-align: middle;\n",
       "    }\n",
       "\n",
       "    .dataframe tbody tr th {\n",
       "        vertical-align: top;\n",
       "    }\n",
       "\n",
       "    .dataframe thead th {\n",
       "        text-align: right;\n",
       "    }\n",
       "</style>\n",
       "<table border=\"1\" class=\"dataframe\">\n",
       "  <thead>\n",
       "    <tr style=\"text-align: right;\">\n",
       "      <th></th>\n",
       "      <th>IN_AGUA_INEXISTENTE</th>\n",
       "      <th>CO_REGIAO</th>\n",
       "      <th>TOTAL_CONTAGEM</th>\n",
       "    </tr>\n",
       "  </thead>\n",
       "  <tbody>\n",
       "    <tr>\n",
       "      <td>0</td>\n",
       "      <td>0.0</td>\n",
       "      <td>1</td>\n",
       "      <td>20749</td>\n",
       "    </tr>\n",
       "    <tr>\n",
       "      <td>1</td>\n",
       "      <td>0.0</td>\n",
       "      <td>2</td>\n",
       "      <td>61239</td>\n",
       "    </tr>\n",
       "    <tr>\n",
       "      <td>2</td>\n",
       "      <td>0.0</td>\n",
       "      <td>3</td>\n",
       "      <td>60344</td>\n",
       "    </tr>\n",
       "    <tr>\n",
       "      <td>3</td>\n",
       "      <td>0.0</td>\n",
       "      <td>4</td>\n",
       "      <td>25975</td>\n",
       "    </tr>\n",
       "    <tr>\n",
       "      <td>4</td>\n",
       "      <td>0.0</td>\n",
       "      <td>5</td>\n",
       "      <td>10420</td>\n",
       "    </tr>\n",
       "    <tr>\n",
       "      <td>5</td>\n",
       "      <td>1.0</td>\n",
       "      <td>1</td>\n",
       "      <td>1689</td>\n",
       "    </tr>\n",
       "    <tr>\n",
       "      <td>6</td>\n",
       "      <td>1.0</td>\n",
       "      <td>2</td>\n",
       "      <td>3123</td>\n",
       "    </tr>\n",
       "    <tr>\n",
       "      <td>7</td>\n",
       "      <td>1.0</td>\n",
       "      <td>3</td>\n",
       "      <td>126</td>\n",
       "    </tr>\n",
       "    <tr>\n",
       "      <td>8</td>\n",
       "      <td>1.0</td>\n",
       "      <td>4</td>\n",
       "      <td>45</td>\n",
       "    </tr>\n",
       "    <tr>\n",
       "      <td>9</td>\n",
       "      <td>1.0</td>\n",
       "      <td>5</td>\n",
       "      <td>36</td>\n",
       "    </tr>\n",
       "  </tbody>\n",
       "</table>\n",
       "</div>"
      ],
      "text/plain": [
       "   IN_AGUA_INEXISTENTE  CO_REGIAO  TOTAL_CONTAGEM\n",
       "0                  0.0          1           20749\n",
       "1                  0.0          2           61239\n",
       "2                  0.0          3           60344\n",
       "3                  0.0          4           25975\n",
       "4                  0.0          5           10420\n",
       "5                  1.0          1            1689\n",
       "6                  1.0          2            3123\n",
       "7                  1.0          3             126\n",
       "8                  1.0          4              45\n",
       "9                  1.0          5              36"
      ]
     },
     "execution_count": 63,
     "metadata": {},
     "output_type": "execute_result"
    }
   ],
   "source": [
    "E"
   ]
  },
  {
   "cell_type": "code",
   "execution_count": 61,
   "metadata": {},
   "outputs": [
    {
     "data": {
      "text/plain": [
       "<matplotlib.axes._subplots.AxesSubplot at 0x11afa5c10>"
      ]
     },
     "execution_count": 61,
     "metadata": {},
     "output_type": "execute_result"
    },
    {
     "data": {
      "image/png": "[encoded data removed]",
      "text/plain": [
       "<Figure size 576x360 with 1 Axes>"
      ]
     },
     "metadata": {
      "needs_background": "light"
     },
     "output_type": "display_data"
    }
   ],
   "source": [
    "E.tail(5).plot(x='CO_REGIAO' , y='TOTAL_CONTAGEM', kind='bar',figsize=(8, 5),color=\"green\")"
   ]
  },
  {
   "cell_type": "code",
   "execution_count": null,
   "metadata": {},
   "outputs": [],
   "source": []
  }
 ],
 "metadata": {
  "kernelspec": {
   "display_name": "Python 3",
   "language": "python",
   "name": "python3"
  },
  "language_info": {
   "codemirror_mode": {
    "name": "ipython",
    "version": 3
   },
   "file_extension": ".py",
   "mimetype": "text/x-python",
   "name": "python",
   "nbconvert_exporter": "python",
   "pygments_lexer": "ipython3",
   "version": "3.7.4"
  }
 },
 "nbformat": 4,
 "nbformat_minor": 2
}

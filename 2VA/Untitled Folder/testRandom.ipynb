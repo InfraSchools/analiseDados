{
 "cells": [
  {
   "cell_type": "code",
   "execution_count": 1,
   "metadata": {},
   "outputs": [],
   "source": [
    "import numpy as np\n",
    "import matplotlib.pyplot as plt\n",
    "import pandas as pd\n",
    "import pickle\n"
   ]
  },
  {
   "cell_type": "code",
   "execution_count": 2,
   "metadata": {},
   "outputs": [
    {
     "name": "stderr",
     "output_type": "stream",
     "text": [
      "C:\\Users\\Kimbelly\\Anaconda3\\lib\\site-packages\\pandas\\core\\indexing.py:362: SettingWithCopyWarning: \n",
      "A value is trying to be set on a copy of a slice from a DataFrame.\n",
      "Try using .loc[row_indexer,col_indexer] = value instead\n",
      "\n",
      "See the caveats in the documentation: http://pandas.pydata.org/pandas-docs/stable/indexing.html#indexing-view-versus-copy\n",
      "  self.obj[key] = _infer_fill_value(value)\n",
      "C:\\Users\\Kimbelly\\Anaconda3\\lib\\site-packages\\pandas\\core\\indexing.py:543: SettingWithCopyWarning: \n",
      "A value is trying to be set on a copy of a slice from a DataFrame.\n",
      "Try using .loc[row_indexer,col_indexer] = value instead\n",
      "\n",
      "See the caveats in the documentation: http://pandas.pydata.org/pandas-docs/stable/indexing.html#indexing-view-versus-copy\n",
      "  self.obj[item] = s\n"
     ]
    }
   ],
   "source": [
    "data = pd.read_csv(\"Base_Completa.csv\", sep = ';', encoding = 'iso-8859-1', squeeze = True, low_memory=False)\n",
    "df = data\n",
    "\n",
    "df = df[df.TAXA_PARTICIPACAO_5EF!=0]\n",
    "\n",
    "q1 = df['MEDIA_5EF_LP'].quantile(q=0.25)\n",
    "q4 = df['MEDIA_5EF_LP'].quantile(q=0.75)\n",
    "\n",
    "df1Q = df[df['MEDIA_5EF_LP']<q1]\n",
    "df4Q = df[df['MEDIA_5EF_LP']>q4]\n",
    "\n",
    "df1Q.loc[:,'ROTULO'] = 0\n",
    "df4Q.loc[:,'ROTULO'] = 1\n",
    "\n",
    "treino_base_LP = pd.concat([df4Q , df1Q])\n"
   ]
  },
  {
   "cell_type": "code",
   "execution_count": 3,
   "metadata": {},
   "outputs": [
    {
     "name": "stdout",
     "output_type": "stream",
     "text": [
      "63.1 ns ± 1.61 ns per loop (mean ± std. dev. of 7 runs, 10000000 loops each)\n"
     ]
    }
   ],
   "source": [
    "%%timeit\n",
    "df.describe"
   ]
  },
  {
   "cell_type": "code",
   "execution_count": 4,
   "metadata": {},
   "outputs": [
    {
     "data": {
      "text/plain": [
       "(47771, 258)"
      ]
     },
     "execution_count": 4,
     "metadata": {},
     "output_type": "execute_result"
    }
   ],
   "source": [
    "#df = df.drop(df[(df['TAXA_PARTICIPACAO_5EF'] <= 0)].index)\n",
    "\n",
    "df.shape"
   ]
  },
  {
   "cell_type": "code",
   "execution_count": 5,
   "metadata": {},
   "outputs": [],
   "source": [
    "#df[['TAXA_PARTICIPACAO_9EF']]"
   ]
  },
  {
   "cell_type": "code",
   "execution_count": 6,
   "metadata": {},
   "outputs": [],
   "source": [
    "#for x in data.columns:\n",
    "  #  print(x)"
   ]
  },
  {
   "cell_type": "code",
   "execution_count": 7,
   "metadata": {},
   "outputs": [],
   "source": [
    "atributos = ['IN_AGUA_FILTRADA','IN_AGUA_REDE_PUBLICA','IN_AGUA_POCO_ARTESIANO','IN_AGUA_CACIMBA'\n",
    ",'IN_AGUA_FONTE_RIO','IN_AGUA_INEXISTENTE','IN_ENERGIA_REDE_PUBLICA','IN_ENERGIA_GERADOR'\n",
    ",'IN_ENERGIA_OUTROS','IN_ENERGIA_INEXISTENTE','IN_ESGOTO_REDE_PUBLICA','IN_ESGOTO_FOSSA'\n",
    ",'IN_ESGOTO_INEXISTENTE','IN_LIXO_COLETA_PERIODICA','IN_LIXO_QUEIMA'\n",
    ",'IN_LIXO_JOGA_OUTRA_AREA','IN_LIXO_RECICLA','IN_LIXO_ENTERRA','IN_LIXO_OUTROS'\n",
    ",'IN_SALA_DIRETORIA','IN_SALA_PROFESSOR','IN_LABORATORIO_INFORMATICA'\n",
    ",'IN_LABORATORIO_CIENCIAS','IN_SALA_ATENDIMENTO_ESPECIAL','IN_QUADRA_ESPORTES_COBERTA'\n",
    ",'IN_QUADRA_ESPORTES_DESCOBERTA','IN_QUADRA_ESPORTES','IN_COZINHA','IN_BIBLIOTECA'\n",
    ",'IN_SALA_LEITURA','IN_BIBLIOTECA_SALA_LEITURA','IN_PARQUE_INFANTIL','IN_BERCARIO'\n",
    ",'IN_BANHEIRO_FORA_PREDIO'\n",
    ",'IN_BANHEIRO_DENTRO_PREDIO'\n",
    ",'IN_BANHEIRO_EI'\n",
    ",'IN_BANHEIRO_PNE'\n",
    ",'IN_DEPENDENCIAS_PNE'\n",
    ",'IN_SECRETARIA'\n",
    ",'IN_BANHEIRO_CHUVEIRO'\n",
    ",'IN_REFEITORIO'\n",
    ",'IN_DESPENSA'\n",
    ",'IN_ALMOXARIFADO'\n",
    ",'IN_AUDITORIO'\n",
    ",'IN_PATIO_COBERTO'\n",
    ",'IN_PATIO_DESCOBERTO'\n",
    ",'IN_ALOJAM_ALUNO'\n",
    ",'IN_ALOJAM_PROFESSOR'\n",
    ",'IN_AREA_VERDE'\n",
    ",'IN_LAVANDERIA'\n",
    ",'IN_DEPENDENCIAS_OUTRAS'\n",
    ",'QT_SALAS_EXISTENTES'\n",
    ",'QT_SALAS_UTILIZADAS'\n",
    ",'IN_EQUIP_TV'\n",
    ",'IN_EQUIP_VIDEOCASSETE'\n",
    ",'IN_EQUIP_DVD'\n",
    ",'IN_EQUIP_PARABOLICA'\n",
    ",'IN_EQUIP_COPIADORA'\n",
    ",'IN_EQUIP_RETROPROJETOR'\n",
    ",'IN_EQUIP_IMPRESSORA'\n",
    ",'IN_EQUIP_IMPRESSORA_MULT'\n",
    ",'IN_EQUIP_SOM'\n",
    ",'IN_EQUIP_MULTIMIDIA'\n",
    ",'IN_EQUIP_FAX'\n",
    ",'IN_EQUIP_FOTO'\n",
    ",'IN_COMPUTADOR'\n",
    ",'QT_EQUIP_TV'\n",
    ",'QT_EQUIP_VIDEOCASSETE'\n",
    ",'QT_EQUIP_DVD'\n",
    ",'QT_EQUIP_PARABOLICA'\n",
    ",'QT_EQUIP_COPIADORA'\n",
    ",'QT_EQUIP_RETROPROJETOR'\n",
    ",'QT_EQUIP_IMPRESSORA'\n",
    ",'QT_EQUIP_IMPRESSORA_MULT'\n",
    ",'QT_EQUIP_SOM'\n",
    ",'QT_EQUIP_MULTIMIDIA'\n",
    ",'QT_EQUIP_FAX'\n",
    ",'QT_EQUIP_FOTO'\n",
    ",'QT_COMPUTADOR'\n",
    ",'QT_COMP_ADMINISTRATIVO'\n",
    ",'QT_COMP_ALUNO'\n",
    ",'IN_INTERNET'\n",
    ",'IN_BANDA_LARGA'\n",
    ",'QT_FUNCIONARIOS'\n",
    ",'IN_ALIMENTACAO'\n",
    ",'TP_AEE'\n",
    ",'TP_ATIVIDADE_COMPLEMENTAR'\n",
    ",'IN_FUNDAMENTAL_CICLOS'\n",
    ",'TP_LOCALIZACAO_DIFERENCIADA'\n",
    ",'IN_MATERIAL_ESP_QUILOMBOLA'\n",
    ",'IN_MATERIAL_ESP_INDIGENA'\n",
    ",'IN_MATERIAL_ESP_NAO_UTILIZA'\n",
    ",'IN_EDUCACAO_INDIGENA'\n",
    ",'TP_INDIGENA_LINGUA'\n",
    ",'CO_LINGUA_INDIGENA'\n",
    ",'IN_BRASIL_ALFABETIZADO'\n",
    ",'IN_FINAL_SEMANA'\n",
    ",'IN_FORMACAO_ALTERNANCIA'\n",
    ",'IN_MEDIACAO_PRESENCIAL'\n",
    ",'IN_MEDIACAO_SEMIPRESENCIAL'\n",
    ",'IN_MEDIACAO_EAD'\n",
    ",'IN_ESPECIAL_EXCLUSIVA'\n",
    ",'IN_REGULAR'\n",
    ",'IN_EJA'\n",
    ",'IN_PROFISSIONALIZANTE'\n",
    ",'IN_COMUM_CRECHE'\n",
    ",'IN_COMUM_PRE'\n",
    ",'IN_COMUM_FUND_AI'\n",
    ",'IN_COMUM_FUND_AF'\n",
    ",'IN_COMUM_MEDIO_MEDIO'\n",
    ",'IN_COMUM_MEDIO_INTEGRADO'\n",
    ",'IN_COMUM_MEDIO_NORMAL'\n",
    ",'IN_ESP_EXCLUSIVA_CRECHE'\n",
    ",'IN_ESP_EXCLUSIVA_PRE'\n",
    ",'IN_ESP_EXCLUSIVA_FUND_AI'\n",
    ",'IN_ESP_EXCLUSIVA_FUND_AF'\n",
    ",'IN_ESP_EXCLUSIVA_MEDIO_MEDIO'\n",
    ",'IN_ESP_EXCLUSIVA_MEDIO_INTEGR'\n",
    ",'IN_ESP_EXCLUSIVA_MEDIO_NORMAL'\n",
    ",'IN_COMUM_EJA_FUND'\n",
    ",'IN_COMUM_EJA_MEDIO'\n",
    ",'IN_COMUM_EJA_PROF'\n",
    ",'IN_ESP_EXCLUSIVA_EJA_FUND'\n",
    ",'IN_ESP_EXCLUSIVA_EJA_MEDIO'\n",
    ",'IN_ESP_EXCLUSIVA_EJA_PROF'\n",
    ",'IN_COMUM_PROF'\n",
    ",'IN_ESP_EXCLUSIVA_PROF']\n",
    "X = treino_base_LP.loc[:, atributos ].values\n",
    "y = treino_base_LP.loc[:,'ROTULO'].values\n",
    "\n",
    "\n",
    "#df['rotulo'] = list(map(lambda x : 1 if x>300 else 0, df.loc[:,'MEDIA_TOTAL_5EF']))\n",
    "#y = df['rotulo']"
   ]
  },
  {
   "cell_type": "code",
   "execution_count": 8,
   "metadata": {},
   "outputs": [],
   "source": [
    "# Splitting the dataset into the Training set and Test set\n",
    "\n",
    "from sklearn.model_selection import train_test_split\n",
    "X_Train, X_Test, Y_Train, Y_Test = train_test_split(X, y, test_size = 0.30, random_state = 0)\n"
   ]
  },
  {
   "cell_type": "code",
   "execution_count": null,
   "metadata": {},
   "outputs": [],
   "source": [
    "# Feature Scaling\n",
    "\n",
    "from sklearn.preprocessing import StandardScaler\n",
    "sc_X = StandardScaler()\n",
    "X_Train = sc_X.fit_transform(X_Train)\n",
    "X_Test = sc_X.transform(X_Test)"
   ]
  },
  {
   "cell_type": "code",
   "execution_count": null,
   "metadata": {},
   "outputs": [
    {
     "data": {
      "text/plain": [
       "RandomForestClassifier(bootstrap=True, class_weight=None, criterion='entropy',\n",
       "            max_depth=None, max_features='auto', max_leaf_nodes=None,\n",
       "            min_impurity_decrease=0.0, min_impurity_split=None,\n",
       "            min_samples_leaf=1, min_samples_split=2,\n",
       "            min_weight_fraction_leaf=0.0, n_estimators=200, n_jobs=None,\n",
       "            oob_score=False, random_state=0, verbose=0, warm_start=False)"
      ]
     },
     "execution_count": 10,
     "metadata": {},
     "output_type": "execute_result"
    }
   ],
   "source": [
    "# Fitting the classifier into the Training set\n",
    "\n",
    "from sklearn.ensemble import RandomForestClassifier\n",
    "classifier = RandomForestClassifier(n_estimators = 200, criterion = 'entropy', random_state = 0)\n",
    "classifier.fit(X_Train,Y_Train)\n"
   ]
  },
  {
   "cell_type": "code",
   "execution_count": null,
   "metadata": {},
   "outputs": [],
   "source": [
    "# Predicting the test set results\n",
    "#%%timeit\n",
    "Y_Pred = classifier.predict(X_Test)\n",
    "\n",
    "# Making the Confusion Matrix \n",
    "\n",
    "from sklearn.metrics import confusion_matrix\n",
    "cm = confusion_matrix(Y_Test, Y_Pred)\n"
   ]
  },
  {
   "cell_type": "code",
   "execution_count": null,
   "metadata": {},
   "outputs": [],
   "source": [
    "from sklearn.model_selection import cross_val_score\n",
    "from sklearn.model_selection import KFold"
   ]
  },
  {
   "cell_type": "code",
   "execution_count": null,
   "metadata": {},
   "outputs": [
    {
     "name": "stdout",
     "output_type": "stream",
     "text": [
      "[[3100  453]\n",
      " [ 649 2962]]\n",
      "              precision    recall  f1-score   support\n",
      "\n",
      "           0       0.83      0.87      0.85      3553\n",
      "           1       0.87      0.82      0.84      3611\n",
      "\n",
      "   micro avg       0.85      0.85      0.85      7164\n",
      "   macro avg       0.85      0.85      0.85      7164\n",
      "weighted avg       0.85      0.85      0.85      7164\n",
      "\n"
     ]
    }
   ],
   "source": [
    "from sklearn.metrics import classification_report, confusion_matrix\n",
    "print(cm)\n",
    "print(classification_report(Y_Test, Y_Pred))"
   ]
  },
  {
   "cell_type": "code",
   "execution_count": null,
   "metadata": {},
   "outputs": [
    {
     "name": "stdout",
     "output_type": "stream",
     "text": [
      "Accuracy: 0.854\n"
     ]
    }
   ],
   "source": [
    "\n",
    "crossvalidation = KFold(n_splits=5, shuffle=True,\n",
    "random_state=1)\n",
    "RF_cls = RandomForestClassifier(n_estimators=300,\n",
    "random_state=1)\n",
    "score = np.mean(cross_val_score(RF_cls, X, y,\n",
    "scoring='accuracy',\n",
    "cv=crossvalidation))\n",
    "print('Accuracy: %.3f' % score)"
   ]
  },
  {
   "cell_type": "code",
   "execution_count": null,
   "metadata": {},
   "outputs": [],
   "source": [
    "#testando agora os melhores parâmetros"
   ]
  },
  {
   "cell_type": "code",
   "execution_count": null,
   "metadata": {},
   "outputs": [],
   "source": [
    "crossvalidation = KFold(n_splits=5, shuffle=True,\n",
    "random_state=1)\n",
    "RF_cls = RandomForestClassifier(random_state=1)\n",
    "scorer = 'accuracy'"
   ]
  },
  {
   "cell_type": "code",
   "execution_count": null,
   "metadata": {},
   "outputs": [],
   "source": [
    "from sklearn.model_selection import GridSearchCV\n",
    "max_features = [X.shape[1]//3, 'sqrt', 'log2', 'auto']\n",
    "min_samples_leaf = [1, 10, 30]\n",
    "n_estimators = [50, 100, 300]\n",
    "search_grid = {'n_estimators':n_estimators,\n",
    "'max_features': max_features,\n",
    "'min_samples_leaf': min_samples_leaf}\n",
    "search_func = GridSearchCV(estimator=RF_cls,\n",
    "param_grid=search_grid,\n",
    "scoring=scorer,\n",
    "cv=crossvalidation)\n",
    "search_func.fit(X, y)\n",
    "best_params = search_func.best_params_\n",
    "best_score = search_func.best_score_\n",
    "print('Best parameters: %s' % best_params)\n",
    "print('Best accuracy: %.3f' % best_score)"
   ]
  },
  {
   "cell_type": "code",
   "execution_count": null,
   "metadata": {},
   "outputs": [],
   "source": []
  }
 ],
 "metadata": {
  "kernelspec": {
   "display_name": "Python 3",
   "language": "python",
   "name": "python3"
  },
  "language_info": {
   "codemirror_mode": {
    "name": "ipython",
    "version": 3
   },
   "file_extension": ".py",
   "mimetype": "text/x-python",
   "name": "python",
   "nbconvert_exporter": "python",
   "pygments_lexer": "ipython3",
   "version": "3.7.3"
  }
 },
 "nbformat": 4,
 "nbformat_minor": 2
}

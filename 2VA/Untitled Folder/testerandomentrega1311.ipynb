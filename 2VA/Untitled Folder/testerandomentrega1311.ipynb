{
  "nbformat": 4,
  "nbformat_minor": 0,
  "metadata": {
    "colab": {
      "name": "testerandomentrega1311.ipynb",
      "provenance": [],
      "collapsed_sections": []
    },
    "kernelspec": {
      "name": "python3",
      "display_name": "Python 3"
    }
  },
  "cells": [
    {
      "cell_type": "code",
      "metadata": {
        "id": "DliDrfq4Xnqs",
        "colab_type": "code",
        "colab": {}
      },
      "source": [
        ""
      ],
      "execution_count": 0,
      "outputs": []
    },
    {
      "cell_type": "code",
      "metadata": {
        "id": "Lfs4uDt6X-01",
        "colab_type": "code",
        "outputId": "276d9e86-f6f4-4dbf-ea21-4671d3ac0487",
        "colab": {
          "base_uri": "https://localhost:8080/",
          "height": 40
        }
      },
      "source": [
        "!git clone https://github.com/InfraSchools/analiseDados.git"
      ],
      "execution_count": 0,
      "outputs": [
        {
          "output_type": "stream",
          "text": [
            "fatal: destination path 'analiseDados' already exists and is not an empty directory.\n"
          ],
          "name": "stdout"
        }
      ]
    },
    {
      "cell_type": "code",
      "metadata": {
        "id": "DI89n3bxY7Ic",
        "colab_type": "code",
        "colab": {}
      },
      "source": [
        "import numpy as np\n",
        "import matplotlib.pyplot as plt\n",
        "import pandas as pd\n",
        "import pickle\n",
        "import pandas as pd\n",
        "from sklearn.model_selection import train_test_split\n",
        "from sklearn.ensemble import RandomForestClassifier\n",
        "import seaborn as sns# Carregando dataset\n"
      ],
      "execution_count": 0,
      "outputs": []
    },
    {
      "cell_type": "code",
      "metadata": {
        "id": "kNNiqx47tGWo",
        "colab_type": "code",
        "colab": {}
      },
      "source": [
        ""
      ],
      "execution_count": 0,
      "outputs": []
    },
    {
      "cell_type": "code",
      "metadata": {
        "id": "IVRKUhkBZFAg",
        "colab_type": "code",
        "outputId": "c6cfdd58-4add-47e5-fd2b-c9507f8db8c8",
        "colab": {
          "base_uri": "https://localhost:8080/",
          "height": 293
        }
      },
      "source": [
        "data = pd.read_csv(\"analiseDados/2VA/Untitled Folder/Base_Completa.csv\", sep = ';', encoding = 'iso-8859-1', squeeze = True, low_memory=False)\n",
        "df = data\n",
        "\n",
        "df = df[df.TAXA_PARTICIPACAO_5EF!=0]\n",
        "\n",
        "q1 = df['MEDIA_5EF_LP'].quantile(q=0.25)\n",
        "q4 = df['MEDIA_5EF_LP'].quantile(q=0.75)\n",
        "\n",
        "df1Q = df[df['MEDIA_5EF_LP']<q1]\n",
        "df4Q = df[df['MEDIA_5EF_LP']>q4]\n",
        "\n",
        "df1Q.loc[:,'ROTULO'] = 0\n",
        "df4Q.loc[:,'ROTULO'] = 1\n",
        "\n",
        "treino_base_LP = pd.concat([df4Q , df1Q])\n"
      ],
      "execution_count": 0,
      "outputs": [
        {
          "output_type": "stream",
          "text": [
            "/usr/local/lib/python3.6/dist-packages/pandas/core/indexing.py:376: SettingWithCopyWarning: \n",
            "A value is trying to be set on a copy of a slice from a DataFrame.\n",
            "Try using .loc[row_indexer,col_indexer] = value instead\n",
            "\n",
            "See the caveats in the documentation: http://pandas.pydata.org/pandas-docs/stable/user_guide/indexing.html#returning-a-view-versus-a-copy\n",
            "  self.obj[key] = _infer_fill_value(value)\n",
            "/usr/local/lib/python3.6/dist-packages/pandas/core/indexing.py:494: SettingWithCopyWarning: \n",
            "A value is trying to be set on a copy of a slice from a DataFrame.\n",
            "Try using .loc[row_indexer,col_indexer] = value instead\n",
            "\n",
            "See the caveats in the documentation: http://pandas.pydata.org/pandas-docs/stable/user_guide/indexing.html#returning-a-view-versus-a-copy\n",
            "  self.obj[item] = s\n"
          ],
          "name": "stderr"
        }
      ]
    },
    {
      "cell_type": "code",
      "metadata": {
        "id": "xki1Ogj-ZXx5",
        "colab_type": "code",
        "colab": {}
      },
      "source": [
        "atributos = ['IN_AGUA_FILTRADA','IN_AGUA_REDE_PUBLICA','IN_AGUA_POCO_ARTESIANO','IN_AGUA_CACIMBA'\n",
        ",'IN_AGUA_FONTE_RIO','IN_AGUA_INEXISTENTE','IN_ENERGIA_REDE_PUBLICA','IN_ENERGIA_GERADOR'\n",
        ",'IN_ENERGIA_OUTROS','IN_ENERGIA_INEXISTENTE','IN_ESGOTO_REDE_PUBLICA','IN_ESGOTO_FOSSA'\n",
        ",'IN_ESGOTO_INEXISTENTE','IN_LIXO_COLETA_PERIODICA','IN_LIXO_QUEIMA'\n",
        ",'IN_LIXO_JOGA_OUTRA_AREA','IN_LIXO_RECICLA','IN_LIXO_ENTERRA','IN_LIXO_OUTROS'\n",
        ",'IN_SALA_DIRETORIA','IN_SALA_PROFESSOR','IN_LABORATORIO_INFORMATICA'\n",
        ",'IN_LABORATORIO_CIENCIAS','IN_SALA_ATENDIMENTO_ESPECIAL','IN_QUADRA_ESPORTES_COBERTA'\n",
        ",'IN_QUADRA_ESPORTES_DESCOBERTA','IN_QUADRA_ESPORTES','IN_COZINHA','IN_BIBLIOTECA'\n",
        ",'IN_SALA_LEITURA','IN_BIBLIOTECA_SALA_LEITURA','IN_PARQUE_INFANTIL','IN_BERCARIO'\n",
        ",'IN_BANHEIRO_FORA_PREDIO'\n",
        ",'IN_BANHEIRO_DENTRO_PREDIO'\n",
        ",'IN_BANHEIRO_EI'\n",
        ",'IN_BANHEIRO_PNE'\n",
        ",'IN_DEPENDENCIAS_PNE'\n",
        ",'IN_SECRETARIA'\n",
        ",'IN_BANHEIRO_CHUVEIRO'\n",
        ",'IN_REFEITORIO'\n",
        ",'IN_DESPENSA'\n",
        ",'IN_ALMOXARIFADO'\n",
        ",'IN_AUDITORIO'\n",
        ",'IN_PATIO_COBERTO'\n",
        ",'IN_PATIO_DESCOBERTO'\n",
        ",'IN_ALOJAM_ALUNO'\n",
        ",'IN_ALOJAM_PROFESSOR'\n",
        ",'IN_AREA_VERDE'\n",
        ",'IN_LAVANDERIA'\n",
        ",'IN_DEPENDENCIAS_OUTRAS'\n",
        ",'QT_SALAS_EXISTENTES'\n",
        ",'QT_SALAS_UTILIZADAS'\n",
        ",'IN_EQUIP_TV'\n",
        ",'IN_EQUIP_VIDEOCASSETE'\n",
        ",'IN_EQUIP_DVD'\n",
        ",'IN_EQUIP_PARABOLICA'\n",
        ",'IN_EQUIP_COPIADORA'\n",
        ",'IN_EQUIP_RETROPROJETOR'\n",
        ",'IN_EQUIP_IMPRESSORA'\n",
        ",'IN_EQUIP_IMPRESSORA_MULT'\n",
        ",'IN_EQUIP_SOM'\n",
        ",'IN_EQUIP_MULTIMIDIA'\n",
        ",'IN_EQUIP_FAX'\n",
        ",'IN_EQUIP_FOTO'\n",
        ",'IN_COMPUTADOR'\n",
        ",'QT_EQUIP_TV'\n",
        ",'QT_EQUIP_VIDEOCASSETE'\n",
        ",'QT_EQUIP_DVD'\n",
        ",'QT_EQUIP_PARABOLICA'\n",
        ",'QT_EQUIP_COPIADORA'\n",
        ",'QT_EQUIP_RETROPROJETOR'\n",
        ",'QT_EQUIP_IMPRESSORA'\n",
        ",'QT_EQUIP_IMPRESSORA_MULT'\n",
        ",'QT_EQUIP_SOM'\n",
        ",'QT_EQUIP_MULTIMIDIA'\n",
        ",'QT_EQUIP_FAX'\n",
        ",'QT_EQUIP_FOTO'\n",
        ",'QT_COMPUTADOR'\n",
        ",'QT_COMP_ADMINISTRATIVO'\n",
        ",'QT_COMP_ALUNO'\n",
        ",'IN_INTERNET'\n",
        ",'IN_BANDA_LARGA'\n",
        ",'QT_FUNCIONARIOS'\n",
        ",'IN_ALIMENTACAO'\n",
        ",'TP_AEE'\n",
        ",'TP_ATIVIDADE_COMPLEMENTAR'\n",
        ",'IN_FUNDAMENTAL_CICLOS'\n",
        ",'TP_LOCALIZACAO_DIFERENCIADA'\n",
        ",'IN_MATERIAL_ESP_QUILOMBOLA'\n",
        ",'IN_MATERIAL_ESP_INDIGENA'\n",
        ",'IN_MATERIAL_ESP_NAO_UTILIZA'\n",
        ",'IN_EDUCACAO_INDIGENA'\n",
        ",'TP_INDIGENA_LINGUA'\n",
        ",'CO_LINGUA_INDIGENA'\n",
        ",'IN_BRASIL_ALFABETIZADO'\n",
        ",'IN_FINAL_SEMANA'\n",
        ",'IN_FORMACAO_ALTERNANCIA'\n",
        ",'IN_MEDIACAO_PRESENCIAL'\n",
        ",'IN_MEDIACAO_SEMIPRESENCIAL'\n",
        ",'IN_MEDIACAO_EAD'\n",
        ",'IN_ESPECIAL_EXCLUSIVA'\n",
        ",'IN_REGULAR'\n",
        ",'IN_EJA'\n",
        ",'IN_PROFISSIONALIZANTE'\n",
        ",'IN_COMUM_CRECHE'\n",
        ",'IN_COMUM_PRE'\n",
        ",'IN_COMUM_FUND_AI'\n",
        ",'IN_COMUM_FUND_AF'\n",
        ",'IN_COMUM_MEDIO_MEDIO'\n",
        ",'IN_COMUM_MEDIO_INTEGRADO'\n",
        ",'IN_COMUM_MEDIO_NORMAL'\n",
        ",'IN_ESP_EXCLUSIVA_CRECHE'\n",
        ",'IN_ESP_EXCLUSIVA_PRE'\n",
        ",'IN_ESP_EXCLUSIVA_FUND_AI'\n",
        ",'IN_ESP_EXCLUSIVA_FUND_AF'\n",
        ",'IN_ESP_EXCLUSIVA_MEDIO_MEDIO'\n",
        ",'IN_ESP_EXCLUSIVA_MEDIO_INTEGR'\n",
        ",'IN_ESP_EXCLUSIVA_MEDIO_NORMAL'\n",
        ",'IN_COMUM_EJA_FUND'\n",
        ",'IN_COMUM_EJA_MEDIO'\n",
        ",'IN_COMUM_EJA_PROF'\n",
        ",'IN_ESP_EXCLUSIVA_EJA_FUND'\n",
        ",'IN_ESP_EXCLUSIVA_EJA_MEDIO'\n",
        ",'IN_ESP_EXCLUSIVA_EJA_PROF'\n",
        ",'IN_COMUM_PROF'\n",
        ",'IN_ESP_EXCLUSIVA_PROF'\n",
        ",'CO_UF', 'CO_REGIAO', 'TAXA_PARTICIPACAO_5EF']\n",
        "\n",
        "X = treino_base_LP.loc[:, atributos ].values\n",
        "y = treino_base_LP.loc[:,'ROTULO'].values\n",
        "\n",
        "\n",
        "#df['rotulo'] = list(map(lambda x : 1 if x>300 else 0, df.loc[:,'MEDIA_TOTAL_5EF']))\n",
        "#y = df['rotulo']"
      ],
      "execution_count": 0,
      "outputs": []
    },
    {
      "cell_type": "code",
      "metadata": {
        "id": "dZhTnrf-ZcwI",
        "colab_type": "code",
        "colab": {}
      },
      "source": [
        "# Splitting the dataset into the Training set and Test set\n",
        "\n",
        "from sklearn.model_selection import train_test_split\n",
        "X_Train, X_Test, Y_Train, Y_Test = train_test_split(X, y, test_size = 0.30, random_state = 0)\n"
      ],
      "execution_count": 0,
      "outputs": []
    },
    {
      "cell_type": "code",
      "metadata": {
        "id": "b44MZlb-Zc7d",
        "colab_type": "code",
        "colab": {}
      },
      "source": [
        "# Feature Scaling\n",
        "\n",
        "from sklearn.preprocessing import StandardScaler\n",
        "sc_X = StandardScaler()\n",
        "X_Train = sc_X.fit_transform(X_Train)\n",
        "X_Test = sc_X.transform(X_Test)"
      ],
      "execution_count": 0,
      "outputs": []
    },
    {
      "cell_type": "code",
      "metadata": {
        "id": "O6YJ0dI0Zg5y",
        "colab_type": "code",
        "outputId": "2cbb25d1-2c55-4993-892d-280518929708",
        "colab": {
          "base_uri": "https://localhost:8080/",
          "height": 178
        }
      },
      "source": [
        "# Fitting the classifier into the Training set\n",
        "\n",
        "from sklearn.ensemble import RandomForestClassifier\n",
        "classifier = RandomForestClassifier(n_estimators = 200, criterion = 'entropy', random_state = 0)\n",
        "classifier.fit(X_Train,Y_Train)\n"
      ],
      "execution_count": 0,
      "outputs": [
        {
          "output_type": "execute_result",
          "data": {
            "text/plain": [
              "RandomForestClassifier(bootstrap=True, class_weight=None, criterion='entropy',\n",
              "                       max_depth=None, max_features='auto', max_leaf_nodes=None,\n",
              "                       min_impurity_decrease=0.0, min_impurity_split=None,\n",
              "                       min_samples_leaf=1, min_samples_split=2,\n",
              "                       min_weight_fraction_leaf=0.0, n_estimators=200,\n",
              "                       n_jobs=None, oob_score=False, random_state=0, verbose=0,\n",
              "                       warm_start=False)"
            ]
          },
          "metadata": {
            "tags": []
          },
          "execution_count": 113
        }
      ]
    },
    {
      "cell_type": "code",
      "metadata": {
        "id": "MTm_JVipZjiv",
        "colab_type": "code",
        "colab": {}
      },
      "source": [
        "# Predicting the test set results\n",
        "#%%timeit\n",
        "Y_Pred = classifier.predict(X_Test)\n",
        "\n",
        "# Making the Confusion Matrix \n",
        "\n",
        "from sklearn.metrics import confusion_matrix\n",
        "cm = confusion_matrix(Y_Test, Y_Pred)"
      ],
      "execution_count": 0,
      "outputs": []
    },
    {
      "cell_type": "code",
      "metadata": {
        "id": "pk1L9TCoZllI",
        "colab_type": "code",
        "colab": {}
      },
      "source": [
        "from sklearn.model_selection import cross_val_score\n",
        "from sklearn.model_selection import KFold"
      ],
      "execution_count": 0,
      "outputs": []
    },
    {
      "cell_type": "code",
      "metadata": {
        "id": "slQRHFvDZnOz",
        "colab_type": "code",
        "outputId": "8ab815ff-c78f-49fe-9957-ca8c765d404b",
        "colab": {
          "base_uri": "https://localhost:8080/",
          "height": 270
        }
      },
      "source": [
        "from sklearn.metrics import classification_report, confusion_matrix\n",
        "print(cm)\n",
        "print(classification_report(Y_Test, Y_Pred))"
      ],
      "execution_count": 0,
      "outputs": [
        {
          "output_type": "stream",
          "text": [
            "[[3198  355]\n",
            " [ 535 3076]]\n",
            "              precision    recall  f1-score   support\n",
            "\n",
            "           0       0.86      0.90      0.88      3553\n",
            "           1       0.90      0.85      0.87      3611\n",
            "\n",
            "    accuracy                           0.88      7164\n",
            "   macro avg       0.88      0.88      0.88      7164\n",
            "weighted avg       0.88      0.88      0.88      7164\n",
            "\n"
          ],
          "name": "stdout"
        }
      ]
    },
    {
      "cell_type": "code",
      "metadata": {
        "id": "xy-XZ-M0I12F",
        "colab_type": "code",
        "colab": {}
      },
      "source": [
        "#testando validação cruzada e consequencias do aumento de estimadores na acurácia"
      ],
      "execution_count": 0,
      "outputs": []
    },
    {
      "cell_type": "code",
      "metadata": {
        "id": "RH5ZLOWJI4fk",
        "colab_type": "code",
        "colab": {}
      },
      "source": [
        "from sklearn.model_selection import validation_curve\n",
        "param_range = [10, 50, 100, 200,300,400,500,800,1000,1500]\n",
        "crossvalidation = KFold(n_splits=3,shuffle=True,random_state=1)\n",
        "RF_cls = RandomForestClassifier(n_estimators=200,random_state=0)\n",
        "train_scores, test_scores = validation_curve(RF_cls, X, y,\n",
        "'n_estimators',\n",
        "param_range=param_range,\n",
        "cv=crossvalidation,\n",
        "scoring='accuracy')\n",
        "mean_test_scores = np.mean(test_scores, axis=1)"
      ],
      "execution_count": 0,
      "outputs": []
    },
    {
      "cell_type": "code",
      "metadata": {
        "id": "de6yTrXHI7SX",
        "colab_type": "code",
        "outputId": "e30b3cd9-127e-412c-f935-5b1484a6c687",
        "colab": {
          "base_uri": "https://localhost:8080/",
          "height": 281
        }
      },
      "source": [
        "import matplotlib.pyplot as plt\n",
        "plt.plot(param_range, mean_test_scores,\n",
        "'bD-.', label='CV score')\n",
        "plt.grid()\n",
        "plt.xlabel('Number of estimators')\n",
        "plt.ylabel('accuracy')\n",
        "plt.legend(loc='lower right', numpoints= 1)\n",
        "plt.show()"
      ],
      "execution_count": 0,
      "outputs": [
        {
          "output_type": "display_data",
          "data": {
            "image/png": "[encoded data removed]",
            "text/plain": [
              "<Figure size 432x288 with 1 Axes>"
            ]
          },
          "metadata": {
            "tags": []
          }
        }
      ]
    },
    {
      "cell_type": "code",
      "metadata": {
        "id": "7q9P3y9CI9e0",
        "colab_type": "code",
        "colab": {}
      },
      "source": [
        "#testando agora os melhores parâmetros"
      ],
      "execution_count": 0,
      "outputs": []
    },
    {
      "cell_type": "code",
      "metadata": {
        "id": "Jz9d5S9AZFsr",
        "colab_type": "code",
        "outputId": "52dea9e0-0e26-4bfc-f04c-baea207daab9",
        "colab": {
          "base_uri": "https://localhost:8080/",
          "height": 290
        }
      },
      "source": [
        "crossvalidation = KFold(n_splits=5, shuffle=True,\n",
        "random_state=1)\n",
        "RF_cls = RandomForestClassifier(random_state=1)\n",
        "score = np.mean(cross_val_score(RF_cls, X, y,\n",
        "scoring='accuracy',\n",
        "cv=crossvalidation))\n",
        "print('Accuracy: %.3f' % score)\n",
        "#print('Accuracy: %.3f' % score)"
      ],
      "execution_count": 0,
      "outputs": [
        {
          "output_type": "stream",
          "text": [
            "/usr/local/lib/python3.6/dist-packages/sklearn/ensemble/forest.py:245: FutureWarning: The default value of n_estimators will change from 10 in version 0.20 to 100 in 0.22.\n",
            "  \"10 in version 0.20 to 100 in 0.22.\", FutureWarning)\n",
            "/usr/local/lib/python3.6/dist-packages/sklearn/ensemble/forest.py:245: FutureWarning: The default value of n_estimators will change from 10 in version 0.20 to 100 in 0.22.\n",
            "  \"10 in version 0.20 to 100 in 0.22.\", FutureWarning)\n",
            "/usr/local/lib/python3.6/dist-packages/sklearn/ensemble/forest.py:245: FutureWarning: The default value of n_estimators will change from 10 in version 0.20 to 100 in 0.22.\n",
            "  \"10 in version 0.20 to 100 in 0.22.\", FutureWarning)\n",
            "/usr/local/lib/python3.6/dist-packages/sklearn/ensemble/forest.py:245: FutureWarning: The default value of n_estimators will change from 10 in version 0.20 to 100 in 0.22.\n",
            "  \"10 in version 0.20 to 100 in 0.22.\", FutureWarning)\n",
            "/usr/local/lib/python3.6/dist-packages/sklearn/ensemble/forest.py:245: FutureWarning: The default value of n_estimators will change from 10 in version 0.20 to 100 in 0.22.\n",
            "  \"10 in version 0.20 to 100 in 0.22.\", FutureWarning)\n"
          ],
          "name": "stderr"
        },
        {
          "output_type": "stream",
          "text": [
            "Accuracy: 0.874\n"
          ],
          "name": "stdout"
        }
      ]
    },
    {
      "cell_type": "code",
      "metadata": {
        "id": "0s-iiH02aG4J",
        "colab_type": "code",
        "outputId": "069b133a-9255-4a3d-a3fe-08720273d940",
        "colab": {
          "base_uri": "https://localhost:8080/",
          "height": 63
        }
      },
      "source": [
        "from sklearn.model_selection import GridSearchCV\n",
        "\n",
        "max_features = [X.shape[1]//3, 'sqrt', 'log2', 'auto']\n",
        "min_samples_leaf = [1, 10, 30]\n",
        "n_estimators = [50, 100, 300]\n",
        "\n",
        "search_grid = {'n_estimators':n_estimators,'max_features': max_features,'min_samples_leaf': min_samples_leaf}\n",
        "search_func = GridSearchCV(estimator=RF_cls, param_grid=search_grid, scoring=score, cv=crossvalidation, refit = True )\n",
        "\n",
        "search_func.fit(X, y)\n",
        "\n",
        "best_params = search_func.best_params_\n",
        "best_score = search_func.best_score_\n",
        "\n",
        "print('Best parameters: %s' % best_params)\n",
        "print('Best accuracy: %.3f' % best_score)"
      ],
      "execution_count": 0,
      "outputs": [
        {
          "output_type": "stream",
          "text": [
            "Best parameters: {'max_features': 43, 'min_samples_leaf': 1, 'n_estimators': 100}\n",
            "Best accuracy: 0.900\n"
          ],
          "name": "stdout"
        }
      ]
    },
    {
      "cell_type": "code",
      "metadata": {
        "id": "qekavxAYJKJ-",
        "colab_type": "code",
        "outputId": "201f2b20-6267-4288-ec92-dc7e944fc59f",
        "colab": {
          "base_uri": "https://localhost:8080/",
          "height": 40
        }
      },
      "source": [
        "print('Best accuracy: %s' % (best_score * 100))\n"
      ],
      "execution_count": 0,
      "outputs": [
        {
          "output_type": "stream",
          "text": [
            "Best accuracy: 90.0163323422254\n"
          ],
          "name": "stdout"
        }
      ]
    },
    {
      "cell_type": "code",
      "metadata": {
        "id": "vYBrPA-MFMLy",
        "colab_type": "code",
        "outputId": "411e9049-66ed-4dcc-c723-bf844c88cbb7",
        "colab": {
          "base_uri": "https://localhost:8080/",
          "height": 178
        }
      },
      "source": [
        "print( search_func.best_estimator_)\n",
        "optimised_random_forest = search_func.best_estimator_"
      ],
      "execution_count": 0,
      "outputs": [
        {
          "output_type": "stream",
          "text": [
            "RandomForestClassifier(bootstrap=True, class_weight=None, criterion='gini',\n",
            "                       max_depth=None, max_features=43, max_leaf_nodes=None,\n",
            "                       min_impurity_decrease=0.0, min_impurity_split=None,\n",
            "                       min_samples_leaf=1, min_samples_split=2,\n",
            "                       min_weight_fraction_leaf=0.0, n_estimators=100,\n",
            "                       n_jobs=None, oob_score=False, random_state=1, verbose=0,\n",
            "                       warm_start=False)\n"
          ],
          "name": "stdout"
        }
      ]
    },
    {
      "cell_type": "code",
      "metadata": {
        "id": "n8NXsQho2X7D",
        "colab_type": "code",
        "outputId": "1c07e6e4-7907-4457-8ab8-4c447624543e",
        "colab": {
          "base_uri": "https://localhost:8080/",
          "height": 270
        }
      },
      "source": [
        "# Predicting the test set results\n",
        "#%%timeit\n",
        "Y_Pred = search_func.best_estimator_.predict(X_Test)\n",
        "\n",
        "# Making the Confusion Matrix \n",
        "\n",
        "from sklearn.metrics import confusion_matrix\n",
        "cm = confusion_matrix(Y_Test, Y_Pred)\n",
        "print(cm)\n",
        "print(classification_report(Y_Test, Y_Pred))"
      ],
      "execution_count": 0,
      "outputs": [
        {
          "output_type": "stream",
          "text": [
            "[[2373 1180]\n",
            " [2813  798]]\n",
            "              precision    recall  f1-score   support\n",
            "\n",
            "           0       0.46      0.67      0.54      3553\n",
            "           1       0.40      0.22      0.29      3611\n",
            "\n",
            "    accuracy                           0.44      7164\n",
            "   macro avg       0.43      0.44      0.41      7164\n",
            "weighted avg       0.43      0.44      0.41      7164\n",
            "\n"
          ],
          "name": "stdout"
        }
      ]
    },
    {
      "cell_type": "code",
      "metadata": {
        "id": "DXZrfuIvJNZm",
        "colab_type": "code",
        "outputId": "fe37f463-e83f-4756-bdab-4bcada04f2d7",
        "colab": {
          "base_uri": "https://localhost:8080/",
          "height": 842
        }
      },
      "source": [
        "RF_cls.fit(X_Train, Y_Train)# Mostrando importância de cada feature\n",
        "RF_cls.feature_importances_"
      ],
      "execution_count": 0,
      "outputs": [
        {
          "output_type": "stream",
          "text": [
            "/usr/local/lib/python3.6/dist-packages/sklearn/ensemble/forest.py:245: FutureWarning: The default value of n_estimators will change from 10 in version 0.20 to 100 in 0.22.\n",
            "  \"10 in version 0.20 to 100 in 0.22.\", FutureWarning)\n"
          ],
          "name": "stderr"
        },
        {
          "output_type": "execute_result",
          "data": {
            "text/plain": [
              "array([2.12794208e-03, 5.28498942e-03, 3.93723659e-03, 3.25262366e-03,\n",
              "       7.26427509e-04, 6.92266856e-04, 3.07881678e-05, 3.65690668e-05,\n",
              "       2.20380022e-05, 0.00000000e+00, 1.57026069e-02, 4.00898557e-02,\n",
              "       1.66425716e-04, 2.08877497e-02, 1.64032401e-02, 6.85029272e-04,\n",
              "       3.90721185e-03, 5.23357681e-04, 2.39990713e-04, 3.08549996e-03,\n",
              "       7.25911967e-03, 3.71326122e-03, 1.06333414e-03, 3.29454586e-03,\n",
              "       7.40691053e-03, 2.64411642e-03, 2.86045096e-02, 1.19015109e-03,\n",
              "       3.45637954e-03, 3.76540781e-03, 2.03009044e-02, 8.78782760e-03,\n",
              "       2.54434664e-04, 2.55555979e-03, 7.51585629e-04, 3.48241700e-03,\n",
              "       3.43912131e-03, 2.99928037e-03, 2.28503927e-03, 4.20276477e-03,\n",
              "       5.02110673e-03, 3.53598163e-03, 4.69447888e-03, 1.71277120e-03,\n",
              "       3.72146186e-03, 3.59463963e-03, 9.86819403e-05, 2.86336503e-04,\n",
              "       3.13520365e-03, 2.13102554e-03, 4.50670274e-05, 2.73896497e-02,\n",
              "       1.24277686e-02, 1.64750919e-03, 1.92521696e-03, 2.17934865e-03,\n",
              "       3.13395022e-03, 3.14338689e-03, 2.79823381e-03, 2.56574453e-03,\n",
              "       2.97002397e-03, 2.62437642e-03, 3.98118400e-03, 2.52790206e-03,\n",
              "       1.39983502e-02, 6.69304492e-04, 9.08695456e-03, 2.38706334e-03,\n",
              "       7.52068847e-03, 2.78254683e-03, 6.08989291e-03, 3.64322652e-03,\n",
              "       1.00977330e-02, 7.04003623e-03, 3.91577831e-02, 9.74319790e-03,\n",
              "       1.40714247e-03, 6.58349541e-03, 3.63649722e-02, 8.07695860e-02,\n",
              "       2.28898670e-02, 3.33777102e-02, 2.78286888e-02, 1.71098725e-02,\n",
              "       1.05696528e-03, 3.36932258e-03, 3.82011685e-03, 6.21977801e-03,\n",
              "       2.37551851e-03, 4.20464280e-04, 9.09272683e-05, 7.66986546e-04,\n",
              "       2.37511638e-05, 7.90933007e-05, 2.14376197e-05, 8.03856860e-04,\n",
              "       4.26150034e-03, 5.24223476e-04, 1.20271572e-04, 6.22429898e-05,\n",
              "       0.00000000e+00, 4.01444169e-04, 8.02325844e-04, 6.57213508e-03,\n",
              "       3.08637823e-04, 2.68594544e-03, 3.39817769e-03, 7.43130911e-04,\n",
              "       6.77141842e-03, 1.35483864e-03, 5.39940192e-05, 1.48126885e-04,\n",
              "       0.00000000e+00, 0.00000000e+00, 2.60131254e-04, 6.06372367e-05,\n",
              "       0.00000000e+00, 0.00000000e+00, 0.00000000e+00, 6.62093887e-03,\n",
              "       5.87896307e-04, 1.71659817e-04, 0.00000000e+00, 0.00000000e+00,\n",
              "       0.00000000e+00, 9.61087710e-05, 0.00000000e+00, 1.30396479e-01,\n",
              "       8.61647246e-02, 6.32871115e-02])"
            ]
          },
          "metadata": {
            "tags": []
          },
          "execution_count": 125
        }
      ]
    },
    {
      "cell_type": "code",
      "metadata": {
        "id": "A8OkqToxJN28",
        "colab_type": "code",
        "outputId": "c91819db-4458-471c-a593-245dd3edf479",
        "colab": {
          "base_uri": "https://localhost:8080/",
          "height": 288
        }
      },
      "source": [
        "importances = pd.Series(RF_cls.feature_importances_, atributos)\n",
        "importances.nlargest(25).plot(kind='barh')"
      ],
      "execution_count": 0,
      "outputs": [
        {
          "output_type": "execute_result",
          "data": {
            "text/plain": [
              "<matplotlib.axes._subplots.AxesSubplot at 0x7fe1a2154240>"
            ]
          },
          "metadata": {
            "tags": []
          },
          "execution_count": 126
        },
        {
          "output_type": "display_data",
          "data": {
            "image/png": "[encoded data removed]",
            "text/plain": [
              "<Figure size 432x288 with 1 Axes>"
            ]
          },
          "metadata": {
            "tags": []
          }
        }
      ]
    }
  ]
}
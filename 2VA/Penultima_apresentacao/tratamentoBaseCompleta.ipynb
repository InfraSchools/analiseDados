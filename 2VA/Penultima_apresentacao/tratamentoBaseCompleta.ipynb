{
 "cells": [
  {
   "cell_type": "code",
   "execution_count": null,
   "metadata": {},
   "outputs": [],
   "source": [
    "import numpy as np\n",
    "import matplotlib.pyplot as plt\n",
    "import pandas as pd"
   ]
  },
  {
   "cell_type": "code",
   "execution_count": null,
   "metadata": {},
   "outputs": [],
   "source": [
    "pd.read_csv(\"Base_Completa.csv\", sep=';').drop(columns=[\"TX_RESP_Q007\",\"TX_RESP_Q008\",\"TX_RESP_Q009\",\"TX_RESP_Q010\",\"TX_RESP_Q011\",\"TX_RESP_Q012\",\"TX_RESP_Q013\"\n",
    ",\"TX_RESP_Q014\",\"TX_RESP_Q015\",\"TX_RESP_Q016\",\"TX_RESP_Q017\",\"TX_RESP_Q018\",\"TX_RESP_Q019\",\"TX_RESP_Q020\",\"TX_RESP_Q021\",\"TX_RESP_Q022\",\"TX_RESP_Q023\",\"TX_RESP_Q024\",\"TX_RESP_Q025\"\n",
    ",\"TX_RESP_Q026\",\"TX_RESP_Q027\",\"TX_RESP_Q028\",\"TX_RESP_Q029\",\"TX_RESP_Q030\",\"TX_RESP_Q031\",\"TX_RESP_Q032\"\n",
    ",\"TX_RESP_Q033\",\"TX_RESP_Q034\",\"TX_RESP_Q035\",\"TX_RESP_Q036\",\"TX_RESP_Q037\"\n",
    ",\"TX_RESP_Q038\",\"TX_RESP_Q039\",\"TX_RESP_Q040\",\"TX_RESP_Q041\",\"TX_RESP_Q042\"\n",
    ",\"TX_RESP_Q043\",\"TX_RESP_Q044\",\"TX_RESP_Q045\",\"TX_RESP_Q046\",\"TX_RESP_Q047\",\"TX_RESP_Q048\"\n",
    ",\"TX_RESP_Q049\",\"TX_RESP_Q050\",\"TX_RESP_Q051\",\"TX_RESP_Q052\"\n",
    ",\"TX_RESP_Q053\",\"TX_RESP_Q054\",\"TX_RESP_Q055\",\"TX_RESP_Q056\",\"TX_RESP_Q057\"\n",
    ",\"TX_RESP_Q058\",\"TX_RESP_Q059\",\"TX_RESP_Q060\",\"TX_RESP_Q061\",\"TX_RESP_Q062\",\"TX_RESP_Q063\"\n",
    ",\"TX_RESP_Q064\",\"TX_RESP_Q065\",\"TX_RESP_Q066\",\"TX_RESP_Q067\",\"TX_RESP_Q068\",\"TX_RESP_Q069\"\n",
    ",\"TX_RESP_Q070\",\"TX_RESP_Q071\",\"TX_RESP_Q072\",\"TX_RESP_Q073\",\"TX_RESP_Q074\" ]).to_csv(\"Base_Completa.csv\", sep=';', index=False)\n",
    "data = pd.read_csv(\"Base_Completa.csv\", sep = ';', encoding = 'iso-8859-1', squeeze = True)"
   ]
  },
  {
   "cell_type": "code",
   "execution_count": null,
   "metadata": {},
   "outputs": [],
   "source": []
  },
  {
   "cell_type": "code",
   "execution_count": null,
   "metadata": {},
   "outputs": [],
   "source": []
  },
  {
   "cell_type": "code",
   "execution_count": null,
   "metadata": {},
   "outputs": [],
   "source": [
    "data.describe()"
   ]
  },
  {
   "cell_type": "code",
   "execution_count": null,
   "metadata": {},
   "outputs": [],
   "source": [
    "for x in data.columns:\n",
    "    print(x)"
   ]
  }
 ],
 "metadata": {
  "kernelspec": {
   "display_name": "Python 3",
   "language": "python",
   "name": "python3"
  },
  "language_info": {
   "codemirror_mode": {
    "name": "ipython",
    "version": 3
   },
   "file_extension": ".py",
   "mimetype": "text/x-python",
   "name": "python",
   "nbconvert_exporter": "python",
   "pygments_lexer": "ipython3",
   "version": "3.7.3"
  }
 },
 "nbformat": 4,
 "nbformat_minor": 2
}

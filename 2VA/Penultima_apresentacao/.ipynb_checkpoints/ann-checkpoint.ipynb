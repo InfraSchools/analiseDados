{
 "cells": [
  {
   "cell_type": "code",
   "execution_count": 0,
   "metadata": {
    "colab": {},
    "colab_type": "code",
    "id": "JBFEwrnX14wr"
   },
   "outputs": [],
   "source": [
    "import pandas as pd\n",
    "import numpy as np\n",
    "import matplotlib.pyplot as plt\n",
    "import seaborn as sns\n",
    "import pickle, time\n",
    "\n",
    "%matplotlib inline"
   ]
  },
  {
   "cell_type": "code",
   "execution_count": 2,
   "metadata": {
    "colab": {
     "base_uri": "https://localhost:8080/",
     "height": 151
    },
    "colab_type": "code",
    "id": "_iwFpcNs2Dj0",
    "outputId": "421b6f29-0b92-4faa-8990-437058fde85b"
   },
   "outputs": [
    {
     "name": "stdout",
     "output_type": "stream",
     "text": [
      "Cloning into 'analiseDados'...\n",
      "remote: Enumerating objects: 110, done.\u001b[K\n",
      "remote: Counting objects: 100% (110/110), done.\u001b[K\n",
      "remote: Compressing objects: 100% (77/77), done.\u001b[K\n",
      "remote: Total 227 (delta 59), reused 70 (delta 29), pack-reused 117\u001b[K\n",
      "Receiving objects: 100% (227/227), 57.54 MiB | 11.00 MiB/s, done.\n",
      "Resolving deltas: 100% (113/113), done.\n",
      "Checking out files: 100% (79/79), done.\n"
     ]
    }
   ],
   "source": [
    "# !git clone https://github.com/InfraSchools/analiseDados.git"
   ]
  },
  {
   "cell_type": "code",
   "execution_count": 0,
   "metadata": {
    "colab": {},
    "colab_type": "code",
    "id": "r7pzFydH2Rbt"
   },
   "outputs": [],
   "source": [
    "data = pd.read_csv('Base_Completa.csv', encoding = 'iso-8859-1', sep=';',  low_memory=False)\n",
    "data = data[data.TAXA_PARTICIPACAO_5EF!=0]"
   ]
  },
  {
   "cell_type": "code",
   "execution_count": 0,
   "metadata": {
    "colab": {},
    "colab_type": "code",
    "id": "_0aRd3Um2vrz"
   },
   "outputs": [],
   "source": [
    "def pega_data(df, tipe, rotulo):\n",
    "  q1 = df[tipe].quantile(q=0.25)\n",
    "  q4 = df[tipe].quantile(q=0.75)\n",
    "  \n",
    "  df1Q = df[df[tipe]<q1]\n",
    "  df4Q = df[df[tipe]>q4]\n",
    "\n",
    "  #print(df1Q, df4Q)\n",
    "  \n",
    "  df1Q.loc[:,rotulo] = 0\n",
    "  df4Q.loc[:,rotulo] = 1\n",
    "  \n",
    "  return  pd.concat([df4Q , df1Q])"
   ]
  },
  {
   "cell_type": "code",
   "execution_count": 81,
   "metadata": {
    "colab": {
     "base_uri": "https://localhost:8080/",
     "height": 218
    },
    "colab_type": "code",
    "id": "btx-Ekrh3YzD",
    "outputId": "fdee0e08-97b8-45d4-f7f2-ce4e9e9b8d1c"
   },
   "outputs": [
    {
     "name": "stderr",
     "output_type": "stream",
     "text": [
      "/usr/local/lib/python3.6/dist-packages/pandas/core/indexing.py:376: SettingWithCopyWarning: \n",
      "A value is trying to be set on a copy of a slice from a DataFrame.\n",
      "Try using .loc[row_indexer,col_indexer] = value instead\n",
      "\n",
      "See the caveats in the documentation: http://pandas.pydata.org/pandas-docs/stable/user_guide/indexing.html#returning-a-view-versus-a-copy\n",
      "  self.obj[key] = _infer_fill_value(value)\n",
      "/usr/local/lib/python3.6/dist-packages/pandas/core/indexing.py:494: SettingWithCopyWarning: \n",
      "A value is trying to be set on a copy of a slice from a DataFrame.\n",
      "Try using .loc[row_indexer,col_indexer] = value instead\n",
      "\n",
      "See the caveats in the documentation: http://pandas.pydata.org/pandas-docs/stable/user_guide/indexing.html#returning-a-view-versus-a-copy\n",
      "  self.obj[item] = s\n"
     ]
    }
   ],
   "source": [
    "base_LP = pega_data(data, 'MEDIA_5EF_LP', 'ROTULO')\n",
    "base_MT = pega_data(data, 'MEDIA_5EF_MT', 'ROTULO')"
   ]
  },
  {
   "cell_type": "code",
   "execution_count": 0,
   "metadata": {
    "colab": {},
    "colab_type": "code",
    "id": "7L2UfpQa36uy"
   },
   "outputs": [],
   "source": [
    "atributos = [\"TAXA_PARTICIPACAO_5EF\", \"TP_DEPENDENCIA\", \"IN_AGUA_INEXISTENTE\", \"IN_ENERGIA_INEXISTENTE\", \"IN_ESGOTO_INEXISTENTE\",\"IN_LABORATORIO_INFORMATICA\", \"IN_LABORATORIO_CIENCIAS\", \"IN_QUADRA_ESPORTES\", \"IN_BIBLIOTECA_SALA_LEITURA\", \"IN_PATIO_COBERTO\", \"IN_SALA_DIRETORIA\", \"IN_SALA_PROFESSOR\", \"IN_AUDITORIO\", \"IN_DEPENDENCIAS_PNE\", \"IN_EQUIP_TV\",\"IN_EQUIP_COPIADORA\", \"IN_EQUIP_RETROPROJETOR\", \"IN_EQUIP_IMPRESSORA\", \"IN_EQUIP_SOM\", \"IN_COMPUTADOR\", \"IN_INTERNET\", \"CO_UF\", \"CO_REGIAO\"]\n",
    "\n",
    "X = base_LP.loc[:, atributos ].values\n",
    "y = base_LP.loc[:,'ROTULO'].values\n",
    "\n",
    "from sklearn.model_selection import train_test_split\n",
    "X_train, X_test, y_train, y_test = train_test_split(X, y, test_size = 0.3, random_state = 1)"
   ]
  },
  {
   "cell_type": "code",
   "execution_count": 106,
   "metadata": {
    "colab": {
     "base_uri": "https://localhost:8080/",
     "height": 34
    },
    "colab_type": "code",
    "id": "eWy-nxnR37X1",
    "outputId": "8a994135-b7dc-4dfb-9857-e5015ca4c4b3"
   },
   "outputs": [
    {
     "name": "stdout",
     "output_type": "stream",
     "text": [
      "TensorFlow is already loaded. Please restart the runtime to change versions.\n"
     ]
    }
   ],
   "source": [
    "import tensorflow as tf\n",
    "from keras.models import Sequential\n",
    "from keras.layers import Dense, Flatten\n",
    "%tensorflow_version 2.x\n",
    "\n",
    "def crear_model(opt):\n",
    "\tmodel = Sequential()\n",
    "\tmodel.add(Dense(units = len(atributos), kernel_initializer = 'uniform', activation = 'relu', input_dim = len(atributos)))\n",
    "\tmodel.add(Dense(units = 15, kernel_initializer = 'uniform', activation = 'relu')) #10\n",
    "\tmodel.add(Dense(units = 10, kernel_initializer = 'uniform', activation = 'softmax')) #5\n",
    "\tmodel.add(Dense(units = 1, kernel_initializer = 'uniform', activation = 'sigmoid')) # softmax sigmoid\n",
    "\tmodel.compile(loss='binary_crossentropy', optimizer=opt, metrics=['accuracy'])\n",
    "\treturn model"
   ]
  },
  {
   "cell_type": "code",
   "execution_count": 142,
   "metadata": {
    "colab": {
     "base_uri": "https://localhost:8080/",
     "height": 437
    },
    "colab_type": "code",
    "id": "wRuX79Vv4i-8",
    "outputId": "2892f7fd-06c4-4aaa-862c-fd30da557799"
   },
   "outputs": [
    {
     "name": "stdout",
     "output_type": "stream",
     "text": [
      "Model: \"sequential_10\"\n",
      "_________________________________________________________________\n",
      "Layer (type)                 Output Shape              Param #   \n",
      "=================================================================\n",
      "dense_37 (Dense)             (None, 23)                552       \n",
      "_________________________________________________________________\n",
      "dense_38 (Dense)             (None, 15)                360       \n",
      "_________________________________________________________________\n",
      "dense_39 (Dense)             (None, 10)                160       \n",
      "_________________________________________________________________\n",
      "dense_40 (Dense)             (None, 1)                 11        \n",
      "=================================================================\n",
      "Total params: 1,083\n",
      "Trainable params: 1,083\n",
      "Non-trainable params: 0\n",
      "_________________________________________________________________\n",
      "Train on 16715 samples, validate on 7164 samples\n",
      "Epoch 1/2\n",
      "16715/16715 [==============================] - 27s 2ms/step - loss: 0.4460 - acc: 0.8135 - val_loss: 0.4109 - val_acc: 0.8345\n",
      "Epoch 2/2\n",
      "16715/16715 [==============================] - 26s 2ms/step - loss: 0.4096 - acc: 0.8386 - val_loss: 0.3868 - val_acc: 0.8469\n",
      "\n",
      "acc: 84.69%\n",
      "\n",
      "val_acc: 84.90%\n"
     ]
    }
   ],
   "source": [
    "modelo = crear_model('adam')\n",
    "modelo.summary()\n",
    "\n",
    "arg_epochs = 2\n",
    "# Treina o modelo\n",
    "history = modelo.fit(X_train, y_train, epochs=arg_epochs, batch_size=1, validation_data=(X_test, y_test))\n",
    "\n",
    "# evaluate the model\n",
    "scores = modelo.evaluate(X_test, y_test, batch_size=1, verbose=0)\n",
    "print(\"\\n%s: %.2f%%\" % (modelo.metrics_names[1], scores[1]*100))\n",
    "\n",
    "scores = modelo.evaluate(X_train, y_train, verbose=0)\n",
    "print(\"\\n%s: %.2f%%\" % ('val_acc', scores[1]*100))"
   ]
  },
  {
   "cell_type": "code",
   "execution_count": 143,
   "metadata": {
    "colab": {
     "base_uri": "https://localhost:8080/",
     "height": 185
    },
    "colab_type": "code",
    "id": "M1nlnJWC4xnJ",
    "outputId": "160394c3-cd74-49d6-8a1a-8757c3e98808"
   },
   "outputs": [
    {
     "name": "stdout",
     "output_type": "stream",
     "text": [
      "[INFO] evaluating network...\n",
      "              precision    recall  f1-score   support\n",
      "\n",
      "        ruim       0.82      0.88      0.85      3553\n",
      "         boa       0.87      0.81      0.84      3611\n",
      "\n",
      "    accuracy                           0.85      7164\n",
      "   macro avg       0.85      0.85      0.85      7164\n",
      "weighted avg       0.85      0.85      0.85      7164\n",
      "\n"
     ]
    }
   ],
   "source": [
    "from sklearn.metrics import classification_report, confusion_matrix\n",
    "\n",
    "print(\"[INFO] evaluating network...\")\n",
    "y_pred = modelo.predict(X_test, batch_size=1)\n",
    "y_predic =(y_pred>0.5)\n",
    "print(classification_report(y_test, y_predic, target_names=['ruim', 'boa']))"
   ]
  },
  {
   "cell_type": "code",
   "execution_count": 144,
   "metadata": {
    "colab": {
     "base_uri": "https://localhost:8080/",
     "height": 337
    },
    "colab_type": "code",
    "id": "uSZBnEuvCSkr",
    "outputId": "4ecdd00e-e920-4091-b355-bb83420a89e9"
   },
   "outputs": [
    {
     "data": {
      "image/png": "[encoded data removed]",
      "text/plain": [
       "<Figure size 720x360 with 2 Axes>"
      ]
     },
     "metadata": {
      "tags": []
     },
     "output_type": "display_data"
    }
   ],
   "source": [
    "cm = confusion_matrix(y_test, y_predic)\n",
    "#print(cm)\n",
    "\n",
    "plt.style.use(\"ggplot\")\n",
    "plt.figure(figsize=(10,5))\n",
    "plt.title('Matrix de confusao')\n",
    "sns.heatmap(cm, annot=True, fmt=\"d\", linewidth=0.5)\n",
    "plt.show()"
   ]
  },
  {
   "cell_type": "code",
   "execution_count": 145,
   "metadata": {
    "colab": {
     "base_uri": "https://localhost:8080/",
     "height": 581
    },
    "colab_type": "code",
    "id": "ecptVcIP41dv",
    "outputId": "e75f83a2-6ea4-4c20-b989-a4f6eb9e3f3c"
   },
   "outputs": [
    {
     "data": {
      "image/png": "[encoded data removed]",
      "text/plain": [
       "<Figure size 432x288 with 1 Axes>"
      ]
     },
     "metadata": {
      "tags": []
     },
     "output_type": "display_data"
    },
    {
     "data": {
      "image/png": "[encoded data removed]",
      "text/plain": [
       "<Figure size 432x288 with 1 Axes>"
      ]
     },
     "metadata": {
      "tags": []
     },
     "output_type": "display_data"
    }
   ],
   "source": [
    "epochs = range(1, len(historico.history['loss']) + 1)\n",
    "\n",
    "plt.style.use(\"ggplot\")\n",
    "plt.figure()\n",
    "\n",
    "# Plot training & validation accuracy values\n",
    "plt.plot(epochs, historico.history['acc'])\n",
    "plt.plot(epochs, historico.history['val_acc'])\n",
    "plt.title('Model accuracy')\n",
    "plt.ylabel('Accuracy')\n",
    "plt.xlabel('Epoch')\n",
    "plt.legend(['Train', 'Test'], loc='upper left')\n",
    "plt.show()\n",
    "\n",
    "# Plot training & validation loss values\n",
    "plt.plot(epochs, historico.history['loss'])\n",
    "plt.plot(epochs, historico.history['val_loss'])\n",
    "plt.title('Model loss')\n",
    "plt.ylabel('Loss')\n",
    "plt.xlabel('Epoch')\n",
    "plt.legend(['Train', 'Test'], loc='upper left')\n",
    "plt.show()"
   ]
  }
 ],
 "metadata": {
  "colab": {
   "collapsed_sections": [],
   "name": "ann.ipynb",
   "provenance": []
  },
  "kernelspec": {
   "display_name": "Python 3",
   "language": "python",
   "name": "python3"
  },
  "language_info": {
   "codemirror_mode": {
    "name": "ipython",
    "version": 3
   },
   "file_extension": ".py",
   "mimetype": "text/x-python",
   "name": "python",
   "nbconvert_exporter": "python",
   "pygments_lexer": "ipython3",
   "version": "3.7.3"
  }
 },
 "nbformat": 4,
 "nbformat_minor": 1
}

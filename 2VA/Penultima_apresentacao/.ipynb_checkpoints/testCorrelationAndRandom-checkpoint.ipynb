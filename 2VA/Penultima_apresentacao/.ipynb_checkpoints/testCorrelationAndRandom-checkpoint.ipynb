{
 "cells": [
  {
   "cell_type": "code",
   "execution_count": null,
   "metadata": {},
   "outputs": [],
   "source": [
    "from sklearn.datasets import load_iris\n",
    "from sklearn.model_selection import train_test_split\n",
    "from sklearn.ensemble import RandomForestClassifier\n",
    "import pandas as pd\n",
    "import seaborn as sns# Carregando dataset\n"
   ]
  },
  {
   "cell_type": "code",
   "execution_count": null,
   "metadata": {},
   "outputs": [],
   "source": [
    "data = pd.read_csv(\"Base_Completa.csv\", sep = ';', encoding = 'utf-8', squeeze = True,low_memory=False)\n",
    "#data.describe()"
   ]
  },
  {
   "cell_type": "code",
   "execution_count": null,
   "metadata": {},
   "outputs": [],
   "source": [
    "import matplotlib.pyplot as plt\n",
    "import seaborn as sns\n",
    "#hora \n",
    "import time\n",
    "#import timeit\n",
    "start = time.time ()\n",
    "\n",
    "df = data\n",
    "plt.figure(figsize=(10, 7))\n",
    "sns.heatmap(df.corr(),\n",
    "            annot = True,\n",
    "            fmt = '.2f',\n",
    "            cmap='Blues')\n",
    "plt.title('Correlação entre variáveis do dataset')\n",
    "end = time.time ()\n",
    "print (end-start)\n",
    "#plt.show()\n",
    "print(df.columns)"
   ]
  },
  {
   "cell_type": "code",
   "execution_count": null,
   "metadata": {},
   "outputs": [],
   "source": [
    "for x in df.columns:\n",
    "    print(x)"
   ]
  },
  {
   "cell_type": "code",
   "execution_count": null,
   "metadata": {},
   "outputs": [],
   "source": [
    "columnstaxapartic=[\"TAXA_PARTICIPACAO_5EF\",\"TAXA_PARTICIPACAO_9EF\",\"TAXA_PARTICIPACAO_3EM\"]\n",
    "\n",
    "#df = df.drop(df[(df['TAXA_PARTICIPACAO_5EF'] <= 0) or (df[\"TAXA_PARTICIPACAO_9EF\"].empty)].index)\n",
    "df = df.drop(df[(df['TAXA_PARTICIPACAO_5EF'] <= 0)].index)\n",
    "#df[('TAXA_PARTICIPACAO_5EF')]\n",
    "df.shape"
   ]
  },
  {
   "cell_type": "code",
   "execution_count": null,
   "metadata": {},
   "outputs": [],
   "source": [
    "#df[\"TAXA_PARTICIPACAO_5EF\"]"
   ]
  },
  {
   "cell_type": "code",
   "execution_count": null,
   "metadata": {},
   "outputs": [],
   "source": [
    "#Feature Importance\n",
    "atributos = ['IN_AGUA_FILTRADA','IN_AGUA_REDE_PUBLICA','IN_AGUA_POCO_ARTESIANO','IN_AGUA_CACIMBA'\n",
    ",'IN_AGUA_FONTE_RIO','IN_AGUA_INEXISTENTE','IN_ENERGIA_REDE_PUBLICA','IN_ENERGIA_GERADOR'\n",
    ",'IN_ENERGIA_OUTROS','IN_ENERGIA_INEXISTENTE','IN_ESGOTO_REDE_PUBLICA','IN_ESGOTO_FOSSA'\n",
    ",'IN_ESGOTO_INEXISTENTE','IN_LIXO_COLETA_PERIODICA','IN_LIXO_QUEIMA'\n",
    ",'IN_LIXO_JOGA_OUTRA_AREA','IN_LIXO_RECICLA','IN_LIXO_ENTERRA','IN_LIXO_OUTROS'\n",
    ",'IN_SALA_DIRETORIA','IN_SALA_PROFESSOR','IN_LABORATORIO_INFORMATICA'\n",
    ",'IN_LABORATORIO_CIENCIAS','IN_SALA_ATENDIMENTO_ESPECIAL','IN_QUADRA_ESPORTES_COBERTA'\n",
    ",'IN_QUADRA_ESPORTES_DESCOBERTA','IN_QUADRA_ESPORTES','IN_COZINHA','IN_BIBLIOTECA'\n",
    ",'IN_SALA_LEITURA','IN_BIBLIOTECA_SALA_LEITURA','IN_PARQUE_INFANTIL','IN_BERCARIO'\n",
    ",'IN_BANHEIRO_FORA_PREDIO'\n",
    ",'IN_BANHEIRO_DENTRO_PREDIO'\n",
    ",'IN_BANHEIRO_EI'\n",
    ",'IN_BANHEIRO_PNE'\n",
    ",'IN_DEPENDENCIAS_PNE'\n",
    ",'IN_SECRETARIA'\n",
    ",'IN_BANHEIRO_CHUVEIRO'\n",
    ",'IN_REFEITORIO'\n",
    ",'IN_DESPENSA'\n",
    ",'IN_ALMOXARIFADO'\n",
    ",'IN_AUDITORIO'\n",
    ",'IN_PATIO_COBERTO'\n",
    ",'IN_PATIO_DESCOBERTO'\n",
    ",'IN_ALOJAM_ALUNO'\n",
    ",'IN_ALOJAM_PROFESSOR'\n",
    ",'IN_AREA_VERDE'\n",
    ",'IN_LAVANDERIA'\n",
    ",'IN_DEPENDENCIAS_OUTRAS'\n",
    ",'QT_SALAS_EXISTENTES'\n",
    ",'QT_SALAS_UTILIZADAS'\n",
    ",'IN_EQUIP_TV'\n",
    ",'IN_EQUIP_VIDEOCASSETE'\n",
    ",'IN_EQUIP_DVD'\n",
    ",'IN_EQUIP_PARABOLICA'\n",
    ",'IN_EQUIP_COPIADORA'\n",
    ",'IN_EQUIP_RETROPROJETOR'\n",
    ",'IN_EQUIP_IMPRESSORA'\n",
    ",'IN_EQUIP_IMPRESSORA_MULT'\n",
    ",'IN_EQUIP_SOM'\n",
    ",'IN_EQUIP_MULTIMIDIA'\n",
    ",'IN_EQUIP_FAX'\n",
    ",'IN_EQUIP_FOTO'\n",
    ",'IN_COMPUTADOR'\n",
    ",'QT_EQUIP_TV'\n",
    ",'QT_EQUIP_VIDEOCASSETE'\n",
    ",'QT_EQUIP_DVD'\n",
    ",'QT_EQUIP_PARABOLICA'\n",
    ",'QT_EQUIP_COPIADORA'\n",
    ",'QT_EQUIP_RETROPROJETOR'\n",
    ",'QT_EQUIP_IMPRESSORA'\n",
    ",'QT_EQUIP_IMPRESSORA_MULT'\n",
    ",'QT_EQUIP_SOM'\n",
    ",'QT_EQUIP_MULTIMIDIA'\n",
    ",'QT_EQUIP_FAX'\n",
    ",'QT_EQUIP_FOTO'\n",
    ",'QT_COMPUTADOR'\n",
    ",'QT_COMP_ADMINISTRATIVO'\n",
    ",'QT_COMP_ALUNO'\n",
    ",'IN_INTERNET'\n",
    ",'IN_BANDA_LARGA'\n",
    ",'QT_FUNCIONARIOS'\n",
    ",'IN_ALIMENTACAO'\n",
    ",'TP_AEE'\n",
    ",'TP_ATIVIDADE_COMPLEMENTAR'\n",
    ",'IN_FUNDAMENTAL_CICLOS'\n",
    ",'TP_LOCALIZACAO_DIFERENCIADA'\n",
    ",'IN_MATERIAL_ESP_QUILOMBOLA'\n",
    ",'IN_MATERIAL_ESP_INDIGENA'\n",
    ",'IN_MATERIAL_ESP_NAO_UTILIZA'\n",
    ",'IN_EDUCACAO_INDIGENA'\n",
    ",'TP_INDIGENA_LINGUA'\n",
    ",'CO_LINGUA_INDIGENA'\n",
    ",'IN_BRASIL_ALFABETIZADO'\n",
    ",'IN_FINAL_SEMANA'\n",
    ",'IN_FORMACAO_ALTERNANCIA'\n",
    ",'IN_MEDIACAO_PRESENCIAL'\n",
    ",'IN_MEDIACAO_SEMIPRESENCIAL'\n",
    ",'IN_MEDIACAO_EAD'\n",
    ",'IN_ESPECIAL_EXCLUSIVA'\n",
    ",'IN_REGULAR'\n",
    ",'IN_EJA'\n",
    ",'IN_PROFISSIONALIZANTE'\n",
    ",'IN_COMUM_CRECHE'\n",
    ",'IN_COMUM_PRE'\n",
    ",'IN_COMUM_FUND_AI'\n",
    ",'IN_COMUM_FUND_AF'\n",
    ",'IN_COMUM_MEDIO_MEDIO'\n",
    ",'IN_COMUM_MEDIO_INTEGRADO'\n",
    ",'IN_COMUM_MEDIO_NORMAL'\n",
    ",'IN_ESP_EXCLUSIVA_CRECHE'\n",
    ",'IN_ESP_EXCLUSIVA_PRE'\n",
    ",'IN_ESP_EXCLUSIVA_FUND_AI'\n",
    ",'IN_ESP_EXCLUSIVA_FUND_AF'\n",
    ",'IN_ESP_EXCLUSIVA_MEDIO_MEDIO'\n",
    ",'IN_ESP_EXCLUSIVA_MEDIO_INTEGR'\n",
    ",'IN_ESP_EXCLUSIVA_MEDIO_NORMAL'\n",
    ",'IN_COMUM_EJA_FUND'\n",
    ",'IN_COMUM_EJA_MEDIO'\n",
    ",'IN_COMUM_EJA_PROF'\n",
    ",'IN_ESP_EXCLUSIVA_EJA_FUND'\n",
    ",'IN_ESP_EXCLUSIVA_EJA_MEDIO'\n",
    ",'IN_ESP_EXCLUSIVA_EJA_PROF'\n",
    ",'IN_COMUM_PROF'\n",
    ",'IN_ESP_EXCLUSIVA_PROF']\n",
    "X = treino_base_LP.loc[:, atributos ].values\n",
    "y = treino_base_LP.loc[:,'ROTULO'].values\n",
    "\n",
    "\n",
    "#y = df.target# Criando conjunto de treino e teste\n",
    "X_train, X_test, y_train, y_test = train_test_split(X, y, random_state=42)# Treinando modelo\n",
    "\n",
    "#df['rotulo'] = list(map(lambda x : 1 if x>300 else 0, df.loc[:,'MEDIA_TOTAL_5EF']))\n"
   ]
  },
  {
   "cell_type": "code",
   "execution_count": null,
   "metadata": {},
   "outputs": [],
   "source": [
    "model  = RandomForestClassifier()\n",
    "model.fit(X_train, y_train)# Mostrando importância de cada feature\n",
    "model.feature_importances_"
   ]
  },
  {
   "cell_type": "code",
   "execution_count": null,
   "metadata": {},
   "outputs": [],
   "source": [
    "#importances = pd.Series(df=model.feature_importances_, index=df.feature_names)\n",
    "#importances = pd.Series(df=model.feature_importances_, index=df.columns)\n",
    "#columns = df[[ 'IN_LABORATORIO_INFORMATICA','IN_BIBLIOTECA', 'IN_AGUA_FILTRADA', 'IN_ENERGIA_REDE_PUBLICA','IN_AGUA_INEXISTENTE','IN_ESGOTO_INEXISTENTE','IN_QUADRA_ESPORTES', 'IN_SALA_LEITURA','IN_BIBLIOTECA_SALA_LEITURA', 'IN_INTERNET']]\n",
    "importances = pd.Series(model.feature_importances_, X.columns)\n",
    "importances.nlargest(25).plot(kind='barh')\n",
    "#sns.barplot(x=importances, y=importances.index, orient='h').set_title('Importância de cada feature')"
   ]
  },
  {
   "cell_type": "code",
   "execution_count": null,
   "metadata": {},
   "outputs": [],
   "source": [
    "#Sklearn SelectKBest\n",
    "#Uma outra forma de selecionar features é através de testes estatítisticos univariados — \n",
    "#do Inglês univariate statistical test. \n",
    "#A função SelectKBest do sklearn é um bom exemplo disso. \n",
    "#Seu funcionamento é bem simples: você informa para a função que quer selecionar \n",
    "#apenas a K maiores features do seu dataset com base em um teste estatístico.\n",
    "from sklearn.datasets import load_iris\n",
    "from sklearn.feature_selection import chi2\n",
    "from sklearn.feature_selection import SelectKBest\n",
    "\n",
    "#data = load_iris()\n",
    "#X = data.data\n",
    "#y = data.target\n",
    "X = SelectKBest(chi2, k=2).fit_transform(X, y)"
   ]
  },
  {
   "cell_type": "code",
   "execution_count": null,
   "metadata": {},
   "outputs": [],
   "source": [
    "#Sklearn RFE\n",
    "#— Recursive Feature Elimination — ,\n",
    "#o RFE funciona da seguinte forma: ele irá treinar seu modelo\n",
    "#utilizando todo seu conjunto inicial, com todas as features e data points que vierem nele. \n",
    "#Após o primeiro treino, o RFE irá verificar a importâncias das features \n",
    "#— utilizando atributos como coef_ ou feature_importances_ — e, recursivamente,\n",
    "#irá remover as features menos importantes do dataset e treinar o modelo novamente. \n",
    "#Ele fará isso até chegar a um número ideal de features. \n",
    "from sklearn.datasets import load_iris\n",
    "from sklearn.svm import LinearSVC\n",
    "from sklearn.feature_selection import RFE\n",
    "#data = load_iris()\n",
    "dje = data\n",
    "#X = data.data\n",
    "#y = data.target\n",
    "# \n",
    "model = LinearSVC()\n",
    "rfe = RFE(model, step=1).fit(X, y)"
   ]
  },
  {
   "cell_type": "code",
   "execution_count": null,
   "metadata": {},
   "outputs": [],
   "source": [
    "#Sklearn SelectFromModel\n",
    "#O SelectFromModel é uma outra função do sklearn que funciona da seguinte forma: \n",
    "#a partir de um modelo (fittado ou não), \n",
    "#o SFM irá remover todas as features que não passem do threshold\n",
    "#que você informa em seus argumentos. \n",
    "#Essa função soou familiar? \n",
    "#De fato, o funcionamento do SelectFromModel é bem parecido com o RFE, contudo,\n",
    "#o SFM é menos robusto, já que ele baseia sua seleção apenas no threshold informado, \n",
    "#enquanto o RFE recursivamente remove as features através de iterações."
   ]
  },
  {
   "cell_type": "code",
   "execution_count": null,
   "metadata": {},
   "outputs": [],
   "source": [
    "from ipykernel import kernelapp as app\n",
    "\n",
    "feature_importances = pd.Series(model.feature_importances_, index=X.columns)\n",
    "print(feature_importances)\n",
    "feature_importances.sort_values(inplace=True)\n",
    "feature_importances.plot(kind='barh', figsize=(7,6))"
   ]
  },
  {
   "cell_type": "code",
   "execution_count": null,
   "metadata": {},
   "outputs": [],
   "source": []
  },
  {
   "cell_type": "code",
   "execution_count": null,
   "metadata": {
    "scrolled": true
   },
   "outputs": [],
   "source": [
    "#para implementar substituindo o tempo de cada algoritmo para executar a classificação no machine learning\n",
    "import matplotlib.pyplot as plt\n",
    "hor1=22.56768012046814\n",
    "hor2=44.2\n",
    "hor4=22.3\n",
    "x=[\"hor1\",\"hor2\",\"hor4\"]\n",
    "y=[hor1,hor2,hor4]\n",
    "plt.title(\"Tempo de execução por algoritmo\")\n",
    "plt.ylabel(\"tempo em segundos\")\n",
    "plt.xlabel(\"nome do algoritmo\")\n",
    "plt.bar(x,y)\n",
    "plt.show( )"
   ]
  },
  {
   "cell_type": "code",
   "execution_count": null,
   "metadata": {},
   "outputs": [],
   "source": []
  },
  {
   "cell_type": "code",
   "execution_count": null,
   "metadata": {},
   "outputs": [],
   "source": []
  },
  {
   "cell_type": "code",
   "execution_count": null,
   "metadata": {},
   "outputs": [],
   "source": []
  }
 ],
 "metadata": {
  "kernelspec": {
   "display_name": "Python 3",
   "language": "python",
   "name": "python3"
  },
  "language_info": {
   "codemirror_mode": {
    "name": "ipython",
    "version": 3
   },
   "file_extension": ".py",
   "mimetype": "text/x-python",
   "name": "python",
   "nbconvert_exporter": "python",
   "pygments_lexer": "ipython3",
   "version": "3.7.3"
  }
 },
 "nbformat": 4,
 "nbformat_minor": 2
}

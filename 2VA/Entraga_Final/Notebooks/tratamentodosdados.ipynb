{
  "nbformat": 4,
  "nbformat_minor": 0,
  "metadata": {
    "colab": {
      "name": "tratamentodosdados.ipynb",
      "provenance": [],
      "collapsed_sections": []
    },
    "kernelspec": {
      "name": "python3",
      "display_name": "Python 3"
    }
  },
  "cells": [
    {
      "cell_type": "code",
      "metadata": {
        "id": "bgxavA1zIovO",
        "colab_type": "code",
        "colab": {}
      },
      "source": [
        "import pandas as pd\n",
        "import numpy as np"
      ],
      "execution_count": 0,
      "outputs": []
    },
    {
      "cell_type": "code",
      "metadata": {
        "id": "2EiuQeeKItA3",
        "colab_type": "code",
        "colab": {
          "base_uri": "https://localhost:8080/",
          "height": 153
        },
        "outputId": "0dd870b9-ccea-48a0-bcc2-71e6304cc5a1"
      },
      "source": [
        "!git clone https://github.com/InfraSchools/analiseDados.git"
      ],
      "execution_count": 2,
      "outputs": [
        {
          "output_type": "stream",
          "text": [
            "Cloning into 'analiseDados'...\n",
            "remote: Enumerating objects: 115, done.\u001b[K\n",
            "remote: Counting objects:   0% (1/115)\u001b[K\rremote: Counting objects:   1% (2/115)\u001b[K\rremote: Counting objects:   2% (3/115)\u001b[K\rremote: Counting objects:   3% (4/115)\u001b[K\rremote: Counting objects:   4% (5/115)\u001b[K\rremote: Counting objects:   5% (6/115)\u001b[K\rremote: Counting objects:   6% (7/115)\u001b[K\rremote: Counting objects:   7% (9/115)\u001b[K\rremote: Counting objects:   8% (10/115)\u001b[K\rremote: Counting objects:   9% (11/115)\u001b[K\rremote: Counting objects:  10% (12/115)\u001b[K\rremote: Counting objects:  11% (13/115)\u001b[K\rremote: Counting objects:  12% (14/115)\u001b[K\rremote: Counting objects:  13% (15/115)\u001b[K\rremote: Counting objects:  14% (17/115)\u001b[K\rremote: Counting objects:  15% (18/115)\u001b[K\rremote: Counting objects:  16% (19/115)\u001b[K\rremote: Counting objects:  17% (20/115)\u001b[K\rremote: Counting objects:  18% (21/115)\u001b[K\rremote: Counting objects:  19% (22/115)\u001b[K\rremote: Counting objects:  20% (23/115)\u001b[K\rremote: Counting objects:  21% (25/115)\u001b[K\rremote: Counting objects:  22% (26/115)\u001b[K\rremote: Counting objects:  23% (27/115)\u001b[K\rremote: Counting objects:  24% (28/115)\u001b[K\rremote: Counting objects:  25% (29/115)\u001b[K\rremote: Counting objects:  26% (30/115)\u001b[K\rremote: Counting objects:  27% (32/115)\u001b[K\rremote: Counting objects:  28% (33/115)\u001b[K\rremote: Counting objects:  29% (34/115)\u001b[K\rremote: Counting objects:  30% (35/115)\u001b[K\rremote: Counting objects:  31% (36/115)\u001b[K\rremote: Counting objects:  32% (37/115)\u001b[K\rremote: Counting objects:  33% (38/115)\u001b[K\rremote: Counting objects:  34% (40/115)\u001b[K\rremote: Counting objects:  35% (41/115)\u001b[K\rremote: Counting objects:  36% (42/115)\u001b[K\rremote: Counting objects:  37% (43/115)\u001b[K\rremote: Counting objects:  38% (44/115)\u001b[K\rremote: Counting objects:  39% (45/115)\u001b[K\rremote: Counting objects:  40% (46/115)\u001b[K\rremote: Counting objects:  41% (48/115)\u001b[K\rremote: Counting objects:  42% (49/115)\u001b[K\rremote: Counting objects:  43% (50/115)\u001b[K\rremote: Counting objects:  44% (51/115)\u001b[K\rremote: Counting objects:  45% (52/115)\u001b[K\rremote: Counting objects:  46% (53/115)\u001b[K\rremote: Counting objects:  47% (55/115)\u001b[K\rremote: Counting objects:  48% (56/115)\u001b[K\rremote: Counting objects:  49% (57/115)\u001b[K\rremote: Counting objects:  50% (58/115)\u001b[K\rremote: Counting objects:  51% (59/115)\u001b[K\rremote: Counting objects:  52% (60/115)\u001b[K\rremote: Counting objects:  53% (61/115)\u001b[K\rremote: Counting objects:  54% (63/115)\u001b[K\rremote: Counting objects:  55% (64/115)\u001b[K\rremote: Counting objects:  56% (65/115)\u001b[K\rremote: Counting objects:  57% (66/115)\u001b[K\rremote: Counting objects:  58% (67/115)\u001b[K\rremote: Counting objects:  59% (68/115)\u001b[K\rremote: Counting objects:  60% (69/115)\u001b[K\rremote: Counting objects:  61% (71/115)\u001b[K\rremote: Counting objects:  62% (72/115)\u001b[K\rremote: Counting objects:  63% (73/115)\u001b[K\rremote: Counting objects:  64% (74/115)\u001b[K\rremote: Counting objects:  65% (75/115)\u001b[K\rremote: Counting objects:  66% (76/115)\u001b[K\rremote: Counting objects:  67% (78/115)\u001b[K\rremote: Counting objects:  68% (79/115)\u001b[K\rremote: Counting objects:  69% (80/115)\u001b[K\rremote: Counting objects:  70% (81/115)\u001b[K\rremote: Counting objects:  71% (82/115)\u001b[K\rremote: Counting objects:  72% (83/115)\u001b[K\rremote: Counting objects:  73% (84/115)\u001b[K\rremote: Counting objects:  74% (86/115)\u001b[K\rremote: Counting objects:  75% (87/115)\u001b[K\rremote: Counting objects:  76% (88/115)\u001b[K\rremote: Counting objects:  77% (89/115)\u001b[K\rremote: Counting objects:  78% (90/115)\u001b[K\rremote: Counting objects:  79% (91/115)\u001b[K\rremote: Counting objects:  80% (92/115)\u001b[K\rremote: Counting objects:  81% (94/115)\u001b[K\rremote: Counting objects:  82% (95/115)\u001b[K\rremote: Counting objects:  83% (96/115)\u001b[K\rremote: Counting objects:  84% (97/115)\u001b[K\rremote: Counting objects:  85% (98/115)\u001b[K\rremote: Counting objects:  86% (99/115)\u001b[K\rremote: Counting objects:  87% (101/115)\u001b[K\rremote: Counting objects:  88% (102/115)\u001b[K\rremote: Counting objects:  89% (103/115)\u001b[K\rremote: Counting objects:  90% (104/115)\u001b[K\rremote: Counting objects:  91% (105/115)\u001b[K\rremote: Counting objects:  92% (106/115)\u001b[K\rremote: Counting objects:  93% (107/115)\u001b[K\rremote: Counting objects:  94% (109/115)\u001b[K\rremote: Counting objects:  95% (110/115)\u001b[K\rremote: Counting objects:  96% (111/115)\u001b[K\rremote: Counting objects:  97% (112/115)\u001b[K\rremote: Counting objects:  98% (113/115)\u001b[K\rremote: Counting objects:  99% (114/115)\u001b[K\rremote: Counting objects: 100% (115/115)\u001b[K\rremote: Counting objects: 100% (115/115), done.\u001b[K\n",
            "remote: Compressing objects: 100% (82/82), done.\u001b[K\n",
            "remote: Total 232 (delta 62), reused 68 (delta 29), pack-reused 117\u001b[K\n",
            "Receiving objects: 100% (232/232), 57.58 MiB | 11.93 MiB/s, done.\n",
            "Resolving deltas: 100% (116/116), done.\n",
            "Checking out files: 100% (80/80), done.\n"
          ],
          "name": "stdout"
        }
      ]
    },
    {
      "cell_type": "code",
      "metadata": {
        "id": "9lL4yJ6SIv9v",
        "colab_type": "code",
        "colab": {}
      },
      "source": [
        "def pega_data(df, tipe, rotulo):\n",
        "  q1 = df[tipe].quantile(q=0.25)\n",
        "  q4 = df[tipe].quantile(q=0.75)\n",
        "  \n",
        "  df1Q = df[df[tipe]<q1]\n",
        "  df4Q = df[df[tipe]>q4]\n",
        "\n",
        "  #print(df1Q, df4Q)\n",
        "  \n",
        "  df1Q.loc[:,rotulo] = 0\n",
        "  df4Q.loc[:,rotulo] = 1\n",
        "  \n",
        "  return  pd.concat([df4Q , df1Q])"
      ],
      "execution_count": 0,
      "outputs": []
    },
    {
      "cell_type": "code",
      "metadata": {
        "id": "rmjdiBamI0j2",
        "colab_type": "code",
        "colab": {
          "base_uri": "https://localhost:8080/",
          "height": 221
        },
        "outputId": "0ffd404d-50cc-42ec-bf40-10024dc42cb4"
      },
      "source": [
        "data = pd.read_csv('analiseDados/base/Base_Completa.csv', encoding = 'iso-8859-1', sep=';',  low_memory=False)\n",
        "data = data[data.TAXA_PARTICIPACAO_5EF!=0]\n",
        "\n",
        "base_LP = pega_data(data, 'MEDIA_5EF_LP', 'ROTULO')\n",
        "base_MT = pega_data(data, 'MEDIA_5EF_MT', 'ROTULO')"
      ],
      "execution_count": 4,
      "outputs": [
        {
          "output_type": "stream",
          "text": [
            "/usr/local/lib/python3.6/dist-packages/pandas/core/indexing.py:376: SettingWithCopyWarning: \n",
            "A value is trying to be set on a copy of a slice from a DataFrame.\n",
            "Try using .loc[row_indexer,col_indexer] = value instead\n",
            "\n",
            "See the caveats in the documentation: http://pandas.pydata.org/pandas-docs/stable/user_guide/indexing.html#returning-a-view-versus-a-copy\n",
            "  self.obj[key] = _infer_fill_value(value)\n",
            "/usr/local/lib/python3.6/dist-packages/pandas/core/indexing.py:494: SettingWithCopyWarning: \n",
            "A value is trying to be set on a copy of a slice from a DataFrame.\n",
            "Try using .loc[row_indexer,col_indexer] = value instead\n",
            "\n",
            "See the caveats in the documentation: http://pandas.pydata.org/pandas-docs/stable/user_guide/indexing.html#returning-a-view-versus-a-copy\n",
            "  self.obj[item] = s\n"
          ],
          "name": "stderr"
        }
      ]
    },
    {
      "cell_type": "code",
      "metadata": {
        "id": "to5_O_3lJJ29",
        "colab_type": "code",
        "colab": {}
      },
      "source": [
        "data.to_csv(\"analiseDados/base/nova/Base_Completa_.csv\", sep='|')\n",
        "data.to_csv(\"analiseDados/base/nova/base_LP.csv\", sep='|')\n",
        "data.to_csv(\"analiseDados/base/nova/base_MT.csv\", sep='|')"
      ],
      "execution_count": 0,
      "outputs": []
    }
  ]
}
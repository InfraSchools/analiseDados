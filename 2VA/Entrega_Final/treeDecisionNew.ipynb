{
  "nbformat": 4,
  "nbformat_minor": 0,
  "metadata": {
    "colab": {
      "name": "treeDecisionNew.ipynb",
      "provenance": [],
      "collapsed_sections": []
    },
    "kernelspec": {
      "name": "python3",
      "display_name": "Python 3"
    }
  },
  "cells": [
    {
      "cell_type": "code",
      "metadata": {
        "id": "DliDrfq4Xnqs",
        "colab_type": "code",
        "colab": {}
      },
      "source": [
        ""
      ],
      "execution_count": 0,
      "outputs": []
    },
    {
      "cell_type": "code",
      "metadata": {
        "id": "Lfs4uDt6X-01",
        "colab_type": "code",
        "outputId": "5ceb86e0-4060-425e-8b9f-21de47adb348",
        "colab": {
          "base_uri": "https://localhost:8080/",
          "height": 201
        }
      },
      "source": [
        "!git clone https://github.com/InfraSchools/analiseDados.git"
      ],
      "execution_count": 1,
      "outputs": [
        {
          "output_type": "stream",
          "text": [
            "Cloning into 'analiseDados'...\n",
            "remote: Enumerating objects: 175, done.\u001b[K\n",
            "remote: Counting objects: 100% (175/175), done.\u001b[K\n",
            "remote: Compressing objects: 100% (134/134), done.\u001b[K\n",
            "remote: Total 292 (delta 86), reused 110 (delta 37), pack-reused 117\u001b[K\n",
            "Receiving objects: 100% (292/292), 67.55 MiB | 13.64 MiB/s, done.\n",
            "Resolving deltas: 100% (140/140), done.\n",
            "Checking out files: 100% (106/106), done.\n"
          ],
          "name": "stdout"
        }
      ]
    },
    {
      "cell_type": "code",
      "metadata": {
        "id": "DI89n3bxY7Ic",
        "colab_type": "code",
        "colab": {}
      },
      "source": [
        "import numpy as np\n",
        "import matplotlib.pyplot as plt\n",
        "import pandas as pd\n",
        "import pickle\n",
        "import pandas as pd\n",
        "from sklearn.model_selection import train_test_split\n",
        "from sklearn.ensemble import RandomForestClassifier\n",
        "import seaborn as sns# Carregando dataset\n",
        "import time\n"
      ],
      "execution_count": 0,
      "outputs": []
    },
    {
      "cell_type": "code",
      "metadata": {
        "id": "taNK_4FLv0Z1",
        "colab_type": "code",
        "colab": {
          "base_uri": "https://localhost:8080/",
          "height": 408
        },
        "outputId": "3611e39c-09e5-4425-f120-8968bbaa400d"
      },
      "source": [
        "data = pd.read_csv(\"analiseDados/2VA/Penultima_apresentacao/Base_Completa.csv\", sep = ';', encoding = 'iso-8859-1', squeeze = True, low_memory=False)\n",
        "df = data\n",
        "data.shape\n",
        "print(len(df))\n",
        "print(data.shape)\n",
        "print(\"kim\")\n",
        "\n",
        "df = df[df.TAXA_PARTICIPACAO_5EF!=0]\n",
        "\n",
        "q1 = df['MEDIA_TOTAL_5EF'].quantile(q=0.25)\n",
        "print(q1)\n",
        "q4 = df['MEDIA_TOTAL_5EF'].quantile(q=0.75)\n",
        "\n",
        "\n",
        "df1Q = df[df['MEDIA_TOTAL_5EF']<q1]\n",
        "df4Q = df[df['MEDIA_TOTAL_5EF']>q4]\n",
        "\n",
        "df1Q.loc[:,'ROTULO'] = 0\n",
        "df4Q.loc[:,'ROTULO'] = 1\n",
        "\n",
        "print(df.shape)\n",
        "treino_base_LP = pd.concat([df4Q , df1Q])\n"
      ],
      "execution_count": 3,
      "outputs": [
        {
          "output_type": "stream",
          "text": [
            "73674\n",
            "(73674, 258)\n",
            "kim\n",
            "194.61\n",
            "(47771, 258)\n"
          ],
          "name": "stdout"
        },
        {
          "output_type": "stream",
          "text": [
            "/usr/local/lib/python3.6/dist-packages/pandas/core/indexing.py:376: SettingWithCopyWarning: \n",
            "A value is trying to be set on a copy of a slice from a DataFrame.\n",
            "Try using .loc[row_indexer,col_indexer] = value instead\n",
            "\n",
            "See the caveats in the documentation: http://pandas.pydata.org/pandas-docs/stable/user_guide/indexing.html#returning-a-view-versus-a-copy\n",
            "  self.obj[key] = _infer_fill_value(value)\n",
            "/usr/local/lib/python3.6/dist-packages/pandas/core/indexing.py:494: SettingWithCopyWarning: \n",
            "A value is trying to be set on a copy of a slice from a DataFrame.\n",
            "Try using .loc[row_indexer,col_indexer] = value instead\n",
            "\n",
            "See the caveats in the documentation: http://pandas.pydata.org/pandas-docs/stable/user_guide/indexing.html#returning-a-view-versus-a-copy\n",
            "  self.obj[item] = s\n"
          ],
          "name": "stderr"
        }
      ]
    },
    {
      "cell_type": "code",
      "metadata": {
        "id": "ei5RlrFvv1nr",
        "colab_type": "code",
        "colab": {
          "base_uri": "https://localhost:8080/",
          "height": 40
        },
        "outputId": "d75f9c39-6c0a-4649-833b-22304dc627d1"
      },
      "source": [
        "atributos = ['IN_AGUA_FILTRADA','IN_AGUA_REDE_PUBLICA','IN_AGUA_POCO_ARTESIANO','IN_AGUA_CACIMBA'\n",
        ",'IN_AGUA_FONTE_RIO','IN_AGUA_INEXISTENTE','IN_ENERGIA_REDE_PUBLICA','IN_ENERGIA_GERADOR'\n",
        ",'IN_ENERGIA_OUTROS','IN_ENERGIA_INEXISTENTE','IN_ESGOTO_REDE_PUBLICA','IN_ESGOTO_FOSSA'\n",
        ",'IN_ESGOTO_INEXISTENTE','IN_LIXO_COLETA_PERIODICA','IN_LIXO_QUEIMA'\n",
        ",'IN_LIXO_JOGA_OUTRA_AREA','IN_LIXO_RECICLA','IN_LIXO_ENTERRA','IN_LIXO_OUTROS'\n",
        ",'IN_SALA_DIRETORIA','IN_SALA_PROFESSOR','IN_LABORATORIO_INFORMATICA'\n",
        ",'IN_LABORATORIO_CIENCIAS','IN_SALA_ATENDIMENTO_ESPECIAL','IN_QUADRA_ESPORTES_COBERTA'\n",
        ",'IN_QUADRA_ESPORTES_DESCOBERTA','IN_QUADRA_ESPORTES','IN_COZINHA','IN_BIBLIOTECA'\n",
        ",'IN_SALA_LEITURA','IN_BIBLIOTECA_SALA_LEITURA','IN_PARQUE_INFANTIL','IN_BERCARIO'\n",
        ",'IN_BANHEIRO_FORA_PREDIO'\n",
        ",'IN_BANHEIRO_DENTRO_PREDIO'\n",
        ",'IN_BANHEIRO_EI'\n",
        ",'IN_BANHEIRO_PNE'\n",
        ",'IN_DEPENDENCIAS_PNE'\n",
        ",'IN_SECRETARIA'\n",
        ",'IN_BANHEIRO_CHUVEIRO'\n",
        ",'IN_REFEITORIO'\n",
        ",'IN_DESPENSA'\n",
        ",'IN_ALMOXARIFADO'\n",
        ",'IN_AUDITORIO'\n",
        ",'IN_PATIO_COBERTO'\n",
        ",'IN_PATIO_DESCOBERTO'\n",
        ",'IN_ALOJAM_ALUNO'\n",
        ",'IN_ALOJAM_PROFESSOR'\n",
        ",'IN_AREA_VERDE'\n",
        ",'IN_LAVANDERIA'\n",
        ",'IN_DEPENDENCIAS_OUTRAS'\n",
        ",'QT_SALAS_EXISTENTES'\n",
        ",'QT_SALAS_UTILIZADAS'\n",
        ",'IN_EQUIP_TV'\n",
        ",'IN_EQUIP_VIDEOCASSETE'\n",
        ",'IN_EQUIP_DVD'\n",
        ",'IN_EQUIP_PARABOLICA'\n",
        ",'IN_EQUIP_COPIADORA'\n",
        ",'IN_EQUIP_RETROPROJETOR'\n",
        ",'IN_EQUIP_IMPRESSORA'\n",
        ",'IN_EQUIP_IMPRESSORA_MULT'\n",
        ",'IN_EQUIP_SOM'\n",
        ",'IN_EQUIP_MULTIMIDIA'\n",
        ",'IN_EQUIP_FAX'\n",
        ",'IN_EQUIP_FOTO'\n",
        ",'IN_COMPUTADOR'\n",
        ",'QT_EQUIP_TV'\n",
        ",'QT_EQUIP_VIDEOCASSETE'\n",
        ",'QT_EQUIP_DVD'\n",
        ",'QT_EQUIP_PARABOLICA'\n",
        ",'QT_EQUIP_COPIADORA'\n",
        ",'QT_EQUIP_RETROPROJETOR'\n",
        ",'QT_EQUIP_IMPRESSORA'\n",
        ",'QT_EQUIP_IMPRESSORA_MULT'\n",
        ",'QT_EQUIP_SOM'\n",
        ",'QT_EQUIP_MULTIMIDIA'\n",
        ",'QT_EQUIP_FAX'\n",
        ",'QT_EQUIP_FOTO'\n",
        ",'QT_COMPUTADOR'\n",
        ",'QT_COMP_ADMINISTRATIVO'\n",
        ",'QT_COMP_ALUNO'\n",
        ",'IN_INTERNET'\n",
        ",'IN_BANDA_LARGA'\n",
        ",'QT_FUNCIONARIOS'\n",
        ",'IN_ALIMENTACAO'\n",
        ",'TP_AEE'\n",
        ",'TP_ATIVIDADE_COMPLEMENTAR'\n",
        ",'IN_FUNDAMENTAL_CICLOS'\n",
        ",'TP_LOCALIZACAO_DIFERENCIADA'\n",
        ",'IN_MATERIAL_ESP_QUILOMBOLA'\n",
        ",'IN_MATERIAL_ESP_INDIGENA'\n",
        ",'IN_MATERIAL_ESP_NAO_UTILIZA'\n",
        ",'IN_EDUCACAO_INDIGENA'\n",
        ",'TP_INDIGENA_LINGUA'\n",
        ",'CO_LINGUA_INDIGENA'\n",
        ",'IN_BRASIL_ALFABETIZADO'\n",
        ",'IN_FINAL_SEMANA'\n",
        ",'IN_FORMACAO_ALTERNANCIA'\n",
        ",'IN_MEDIACAO_PRESENCIAL'\n",
        ",'IN_MEDIACAO_SEMIPRESENCIAL'\n",
        ",'IN_MEDIACAO_EAD'\n",
        ",'IN_ESPECIAL_EXCLUSIVA'\n",
        ",'IN_REGULAR'\n",
        ",'IN_EJA'\n",
        ",'IN_PROFISSIONALIZANTE'\n",
        ",'IN_COMUM_CRECHE'\n",
        ",'IN_COMUM_PRE'\n",
        ",'IN_COMUM_FUND_AI'\n",
        ",'IN_COMUM_FUND_AF'\n",
        ",'IN_COMUM_MEDIO_MEDIO'\n",
        ",'IN_COMUM_MEDIO_INTEGRADO'\n",
        ",'IN_COMUM_MEDIO_NORMAL'\n",
        ",'IN_ESP_EXCLUSIVA_CRECHE'\n",
        ",'IN_ESP_EXCLUSIVA_PRE'\n",
        ",'IN_ESP_EXCLUSIVA_FUND_AI'\n",
        ",'IN_ESP_EXCLUSIVA_FUND_AF'\n",
        ",'IN_ESP_EXCLUSIVA_MEDIO_MEDIO'\n",
        ",'IN_ESP_EXCLUSIVA_MEDIO_INTEGR'\n",
        ",'IN_ESP_EXCLUSIVA_MEDIO_NORMAL'\n",
        ",'IN_COMUM_EJA_FUND'\n",
        ",'IN_COMUM_EJA_MEDIO'\n",
        ",'IN_COMUM_EJA_PROF'\n",
        ",'IN_ESP_EXCLUSIVA_EJA_FUND'\n",
        ",'IN_ESP_EXCLUSIVA_EJA_MEDIO'\n",
        ",'IN_ESP_EXCLUSIVA_EJA_PROF'\n",
        ",'IN_COMUM_PROF'\n",
        ",'IN_ESP_EXCLUSIVA_PROF']\n",
        "print(len(atributos))\n",
        "\n",
        "X = treino_base_LP.loc[:, atributos ].values\n",
        "y = treino_base_LP.loc[:,'ROTULO'].values\n",
        "\n",
        "\n",
        "#df['rotulo'] = list(map(lambda x : 1 if x>300 else 0, df.loc[:,'MEDIA_TOTAL_5EF']))\n",
        "#y = df['rotulo']"
      ],
      "execution_count": 4,
      "outputs": [
        {
          "output_type": "stream",
          "text": [
            "127\n"
          ],
          "name": "stdout"
        }
      ]
    },
    {
      "cell_type": "code",
      "metadata": {
        "id": "dYystE_4v9Qs",
        "colab_type": "code",
        "colab": {}
      },
      "source": [
        "\n",
        "# train_test_split método, que usaremos para dividir os dados aleatoriamente em conjuntos de treinamento e teste. \n",
        "#o test_size parâmetro especifica a proporção do conjunto de testes, que usamos \n",
        "#para dividir 20% dos dados no conjunto de testes e 80% para o treinamento.\n",
        "from sklearn.model_selection import train_test_split \n",
        "X_train, X_test, y_train, y_test = train_test_split(X, y, test_size=0.30, random_state = 1)"
      ],
      "execution_count": 0,
      "outputs": []
    },
    {
      "cell_type": "code",
      "metadata": {
        "id": "B3VMhKg4wIRd",
        "colab_type": "code",
        "colab": {
          "base_uri": "https://localhost:8080/",
          "height": 155
        },
        "outputId": "ec43c6c6-dab5-4baa-b126-6bb594b43c52"
      },
      "source": [
        "from sklearn.tree import DecisionTreeClassifier\n",
        "startimeTree = time.time()\n",
        "classifier = DecisionTreeClassifier()\n",
        "classifier.fit(X_train, y_train)\n",
        "from sklearn.tree import DecisionTreeClassifier\n",
        "classifier = DecisionTreeClassifier()\n",
        "classifier.fit(X_train, y_train)\n"
      ],
      "execution_count": 6,
      "outputs": [
        {
          "output_type": "execute_result",
          "data": {
            "text/plain": [
              "DecisionTreeClassifier(class_weight=None, criterion='gini', max_depth=None,\n",
              "                       max_features=None, max_leaf_nodes=None,\n",
              "                       min_impurity_decrease=0.0, min_impurity_split=None,\n",
              "                       min_samples_leaf=1, min_samples_split=2,\n",
              "                       min_weight_fraction_leaf=0.0, presort=False,\n",
              "                       random_state=None, splitter='best')"
            ]
          },
          "metadata": {
            "tags": []
          },
          "execution_count": 6
        }
      ]
    },
    {
      "cell_type": "code",
      "metadata": {
        "id": "PHXwTyA-wM6o",
        "colab_type": "code",
        "colab": {
          "base_uri": "https://localhost:8080/",
          "height": 40
        },
        "outputId": "40dd510b-191e-4282-ed2d-3efd61f388bf"
      },
      "source": [
        "\n",
        "#Agora que nosso classificador foi treinado, vamos fazer previsões sobre os dados do teste. \n",
        "#Para fazer previsões, o predictmétodo da DecisionTreeClassifierclasse é usado.\n",
        "y_pred = classifier.predict(X_test)\n",
        "endTimeTree = time.time()\n",
        "print(endTimeTree - startimeTree)"
      ],
      "execution_count": 7,
      "outputs": [
        {
          "output_type": "stream",
          "text": [
            "0.5511016845703125\n"
          ],
          "name": "stdout"
        }
      ]
    },
    {
      "cell_type": "code",
      "metadata": {
        "id": "uCJ8wpjmwNb3",
        "colab_type": "code",
        "colab": {
          "base_uri": "https://localhost:8080/",
          "height": 270
        },
        "outputId": "e232f6f5-7299-4b13-8d6c-07a51088c818"
      },
      "source": [
        "\n",
        "from sklearn.metrics import classification_report, confusion_matrix\n",
        "print(confusion_matrix(y_test, y_pred))\n",
        "print(classification_report(y_test, y_pred))"
      ],
      "execution_count": 8,
      "outputs": [
        {
          "output_type": "stream",
          "text": [
            "[[2894  609]\n",
            " [ 843 2818]]\n",
            "              precision    recall  f1-score   support\n",
            "\n",
            "           0       0.77      0.83      0.80      3503\n",
            "           1       0.82      0.77      0.80      3661\n",
            "\n",
            "    accuracy                           0.80      7164\n",
            "   macro avg       0.80      0.80      0.80      7164\n",
            "weighted avg       0.80      0.80      0.80      7164\n",
            "\n"
          ],
          "name": "stdout"
        }
      ]
    }
  ]
}
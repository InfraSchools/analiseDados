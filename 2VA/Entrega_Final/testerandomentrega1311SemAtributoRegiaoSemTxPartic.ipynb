{
  "nbformat": 4,
  "nbformat_minor": 0,
  "metadata": {
    "colab": {
      "name": "testerandomentrega1311SemAtributoRegiaoSemTxPartic.ipynb",
      "provenance": [],
      "collapsed_sections": []
    },
    "kernelspec": {
      "name": "python3",
      "display_name": "Python 3"
    }
  },
  "cells": [
    {
      "cell_type": "code",
      "metadata": {
        "id": "DliDrfq4Xnqs",
        "colab_type": "code",
        "colab": {}
      },
      "source": [
        ""
      ],
      "execution_count": 0,
      "outputs": []
    },
    {
      "cell_type": "code",
      "metadata": {
        "id": "Lfs4uDt6X-01",
        "colab_type": "code",
        "outputId": "37305e7c-7c61-4c40-b75a-b739d5b69995",
        "colab": {
          "base_uri": "https://localhost:8080/",
          "height": 40
        }
      },
      "source": [
        "!git clone https://github.com/InfraSchools/analiseDados.git"
      ],
      "execution_count": 4,
      "outputs": [
        {
          "output_type": "stream",
          "text": [
            "fatal: destination path 'analiseDados' already exists and is not an empty directory.\n"
          ],
          "name": "stdout"
        }
      ]
    },
    {
      "cell_type": "code",
      "metadata": {
        "id": "DI89n3bxY7Ic",
        "colab_type": "code",
        "colab": {}
      },
      "source": [
        "import numpy as np\n",
        "import matplotlib.pyplot as plt\n",
        "import pandas as pd\n",
        "import pickle\n",
        "import pandas as pd\n",
        "from sklearn.model_selection import train_test_split\n",
        "from sklearn.ensemble import RandomForestClassifier\n",
        "import seaborn as sns# Carregando dataset\n",
        "import time\n"
      ],
      "execution_count": 0,
      "outputs": []
    },
    {
      "cell_type": "code",
      "metadata": {
        "id": "kNNiqx47tGWo",
        "colab_type": "code",
        "colab": {}
      },
      "source": [
        ""
      ],
      "execution_count": 0,
      "outputs": []
    },
    {
      "cell_type": "markdown",
      "metadata": {
        "id": "-Qc0uW19k5Ec",
        "colab_type": "text"
      },
      "source": [
        "Random com região"
      ]
    },
    {
      "cell_type": "code",
      "metadata": {
        "id": "IVRKUhkBZFAg",
        "colab_type": "code",
        "outputId": "f58581ee-f567-4098-d95a-2321cc6f1d59",
        "colab": {
          "base_uri": "https://localhost:8080/",
          "height": 408
        }
      },
      "source": [
        "data = pd.read_csv(\"analiseDados/2VA/Penultima_apresentacao/Base_Completa.csv\", sep = ';', encoding = 'iso-8859-1', squeeze = True, low_memory=False)\n",
        "df = data\n",
        "data.shape\n",
        "print(len(df))\n",
        "print(data.shape)\n",
        "print(\"kim\")\n",
        "\n",
        "df = df[df.TAXA_PARTICIPACAO_5EF!=0]\n",
        "\n",
        "q1 = df['MEDIA_TOTAL_5EF'].quantile(q=0.25)\n",
        "print(q1)\n",
        "q4 = df['MEDIA_TOTAL_5EF'].quantile(q=0.75)\n",
        "\n",
        "\n",
        "df1Q = df[df['MEDIA_TOTAL_5EF']<q1]\n",
        "df4Q = df[df['MEDIA_TOTAL_5EF']>q4]\n",
        "\n",
        "df1Q.loc[:,'ROTULO'] = 0\n",
        "df4Q.loc[:,'ROTULO'] = 1\n",
        "\n",
        "print(df.shape)\n",
        "treino_base_LP = pd.concat([df4Q , df1Q])\n"
      ],
      "execution_count": 6,
      "outputs": [
        {
          "output_type": "stream",
          "text": [
            "73674\n",
            "(73674, 258)\n",
            "kim\n",
            "194.61\n",
            "(47771, 258)\n"
          ],
          "name": "stdout"
        },
        {
          "output_type": "stream",
          "text": [
            "/usr/local/lib/python3.6/dist-packages/pandas/core/indexing.py:376: SettingWithCopyWarning: \n",
            "A value is trying to be set on a copy of a slice from a DataFrame.\n",
            "Try using .loc[row_indexer,col_indexer] = value instead\n",
            "\n",
            "See the caveats in the documentation: http://pandas.pydata.org/pandas-docs/stable/user_guide/indexing.html#returning-a-view-versus-a-copy\n",
            "  self.obj[key] = _infer_fill_value(value)\n",
            "/usr/local/lib/python3.6/dist-packages/pandas/core/indexing.py:494: SettingWithCopyWarning: \n",
            "A value is trying to be set on a copy of a slice from a DataFrame.\n",
            "Try using .loc[row_indexer,col_indexer] = value instead\n",
            "\n",
            "See the caveats in the documentation: http://pandas.pydata.org/pandas-docs/stable/user_guide/indexing.html#returning-a-view-versus-a-copy\n",
            "  self.obj[item] = s\n"
          ],
          "name": "stderr"
        }
      ]
    },
    {
      "cell_type": "code",
      "metadata": {
        "id": "btx-Ekrh3YzD",
        "colab_type": "code",
        "outputId": "74f050dc-64e0-4246-dab5-90bea1c3150e",
        "colab": {
          "base_uri": "https://localhost:8080/",
          "height": 288
        }
      },
      "source": [
        "sns.boxplot(data=df['MEDIA_TOTAL_5EF'])\n"
      ],
      "execution_count": 7,
      "outputs": [
        {
          "output_type": "execute_result",
          "data": {
            "text/plain": [
              "<matplotlib.axes._subplots.AxesSubplot at 0x7fe7c24a4518>"
            ]
          },
          "metadata": {
            "tags": []
          },
          "execution_count": 7
        },
        {
          "output_type": "display_data",
          "data": {
            "image/png": "[encoded data removed]",
            "text/plain": [
              "<Figure size 432x288 with 1 Axes>"
            ]
          },
          "metadata": {
            "tags": []
          }
        }
      ]
    },
    {
      "cell_type": "code",
      "metadata": {
        "id": "xki1Ogj-ZXx5",
        "colab_type": "code",
        "outputId": "157495f7-4ef7-4ad9-ad50-b39f794543dc",
        "colab": {
          "base_uri": "https://localhost:8080/",
          "height": 40
        }
      },
      "source": [
        "atributos = ['IN_AGUA_FILTRADA','IN_AGUA_REDE_PUBLICA','IN_AGUA_POCO_ARTESIANO','IN_AGUA_CACIMBA'\n",
        ",'IN_AGUA_FONTE_RIO','IN_AGUA_INEXISTENTE','IN_ENERGIA_REDE_PUBLICA','IN_ENERGIA_GERADOR'\n",
        ",'IN_ENERGIA_OUTROS','IN_ENERGIA_INEXISTENTE','IN_ESGOTO_REDE_PUBLICA','IN_ESGOTO_FOSSA'\n",
        ",'IN_ESGOTO_INEXISTENTE','IN_LIXO_COLETA_PERIODICA','IN_LIXO_QUEIMA'\n",
        ",'IN_LIXO_JOGA_OUTRA_AREA','IN_LIXO_RECICLA','IN_LIXO_ENTERRA','IN_LIXO_OUTROS'\n",
        ",'IN_SALA_DIRETORIA','IN_SALA_PROFESSOR','IN_LABORATORIO_INFORMATICA'\n",
        ",'IN_LABORATORIO_CIENCIAS','IN_SALA_ATENDIMENTO_ESPECIAL','IN_QUADRA_ESPORTES_COBERTA'\n",
        ",'IN_QUADRA_ESPORTES_DESCOBERTA','IN_QUADRA_ESPORTES','IN_COZINHA','IN_BIBLIOTECA'\n",
        ",'IN_SALA_LEITURA','IN_BIBLIOTECA_SALA_LEITURA','IN_PARQUE_INFANTIL','IN_BERCARIO'\n",
        ",'IN_BANHEIRO_FORA_PREDIO'\n",
        ",'IN_BANHEIRO_DENTRO_PREDIO'\n",
        ",'IN_BANHEIRO_EI'\n",
        ",'IN_BANHEIRO_PNE'\n",
        ",'IN_DEPENDENCIAS_PNE'\n",
        ",'IN_SECRETARIA'\n",
        ",'IN_BANHEIRO_CHUVEIRO'\n",
        ",'IN_REFEITORIO'\n",
        ",'IN_DESPENSA'\n",
        ",'IN_ALMOXARIFADO'\n",
        ",'IN_AUDITORIO'\n",
        ",'IN_PATIO_COBERTO'\n",
        ",'IN_PATIO_DESCOBERTO'\n",
        ",'IN_ALOJAM_ALUNO'\n",
        ",'IN_ALOJAM_PROFESSOR'\n",
        ",'IN_AREA_VERDE'\n",
        ",'IN_LAVANDERIA'\n",
        ",'IN_DEPENDENCIAS_OUTRAS'\n",
        ",'QT_SALAS_EXISTENTES'\n",
        ",'QT_SALAS_UTILIZADAS'\n",
        ",'IN_EQUIP_TV'\n",
        ",'IN_EQUIP_VIDEOCASSETE'\n",
        ",'IN_EQUIP_DVD'\n",
        ",'IN_EQUIP_PARABOLICA'\n",
        ",'IN_EQUIP_COPIADORA'\n",
        ",'IN_EQUIP_RETROPROJETOR'\n",
        ",'IN_EQUIP_IMPRESSORA'\n",
        ",'IN_EQUIP_IMPRESSORA_MULT'\n",
        ",'IN_EQUIP_SOM'\n",
        ",'IN_EQUIP_MULTIMIDIA'\n",
        ",'IN_EQUIP_FAX'\n",
        ",'IN_EQUIP_FOTO'\n",
        ",'IN_COMPUTADOR'\n",
        ",'QT_EQUIP_TV'\n",
        ",'QT_EQUIP_VIDEOCASSETE'\n",
        ",'QT_EQUIP_DVD'\n",
        ",'QT_EQUIP_PARABOLICA'\n",
        ",'QT_EQUIP_COPIADORA'\n",
        ",'QT_EQUIP_RETROPROJETOR'\n",
        ",'QT_EQUIP_IMPRESSORA'\n",
        ",'QT_EQUIP_IMPRESSORA_MULT'\n",
        ",'QT_EQUIP_SOM'\n",
        ",'QT_EQUIP_MULTIMIDIA'\n",
        ",'QT_EQUIP_FAX'\n",
        ",'QT_EQUIP_FOTO'\n",
        ",'QT_COMPUTADOR'\n",
        ",'QT_COMP_ADMINISTRATIVO'\n",
        ",'QT_COMP_ALUNO'\n",
        ",'IN_INTERNET'\n",
        ",'IN_BANDA_LARGA'\n",
        ",'QT_FUNCIONARIOS'\n",
        ",'IN_ALIMENTACAO'\n",
        ",'TP_AEE'\n",
        ",'TP_ATIVIDADE_COMPLEMENTAR'\n",
        ",'IN_FUNDAMENTAL_CICLOS'\n",
        ",'TP_LOCALIZACAO_DIFERENCIADA'\n",
        ",'IN_MATERIAL_ESP_QUILOMBOLA'\n",
        ",'IN_MATERIAL_ESP_INDIGENA'\n",
        ",'IN_MATERIAL_ESP_NAO_UTILIZA'\n",
        ",'IN_EDUCACAO_INDIGENA'\n",
        ",'TP_INDIGENA_LINGUA'\n",
        ",'CO_LINGUA_INDIGENA'\n",
        ",'IN_BRASIL_ALFABETIZADO'\n",
        ",'IN_FINAL_SEMANA'\n",
        ",'IN_FORMACAO_ALTERNANCIA'\n",
        ",'IN_MEDIACAO_PRESENCIAL'\n",
        ",'IN_MEDIACAO_SEMIPRESENCIAL'\n",
        ",'IN_MEDIACAO_EAD'\n",
        ",'IN_ESPECIAL_EXCLUSIVA'\n",
        ",'IN_REGULAR'\n",
        ",'IN_EJA'\n",
        ",'IN_PROFISSIONALIZANTE'\n",
        ",'IN_COMUM_CRECHE'\n",
        ",'IN_COMUM_PRE'\n",
        ",'IN_COMUM_FUND_AI'\n",
        ",'IN_COMUM_FUND_AF'\n",
        ",'IN_COMUM_MEDIO_MEDIO'\n",
        ",'IN_COMUM_MEDIO_INTEGRADO'\n",
        ",'IN_COMUM_MEDIO_NORMAL'\n",
        ",'IN_ESP_EXCLUSIVA_CRECHE'\n",
        ",'IN_ESP_EXCLUSIVA_PRE'\n",
        ",'IN_ESP_EXCLUSIVA_FUND_AI'\n",
        ",'IN_ESP_EXCLUSIVA_FUND_AF'\n",
        ",'IN_ESP_EXCLUSIVA_MEDIO_MEDIO'\n",
        ",'IN_ESP_EXCLUSIVA_MEDIO_INTEGR'\n",
        ",'IN_ESP_EXCLUSIVA_MEDIO_NORMAL'\n",
        ",'IN_COMUM_EJA_FUND'\n",
        ",'IN_COMUM_EJA_MEDIO'\n",
        ",'IN_COMUM_EJA_PROF'\n",
        ",'IN_ESP_EXCLUSIVA_EJA_FUND'\n",
        ",'IN_ESP_EXCLUSIVA_EJA_MEDIO'\n",
        ",'IN_ESP_EXCLUSIVA_EJA_PROF'\n",
        ",'IN_COMUM_PROF'\n",
        ",'IN_ESP_EXCLUSIVA_PROF']\n",
        "print(len(atributos))\n",
        "\n",
        "X = treino_base_LP.loc[:, atributos ].values\n",
        "y = treino_base_LP.loc[:,'ROTULO'].values\n",
        "\n",
        "\n",
        "#df['rotulo'] = list(map(lambda x : 1 if x>300 else 0, df.loc[:,'MEDIA_TOTAL_5EF']))\n",
        "#y = df['rotulo']"
      ],
      "execution_count": 8,
      "outputs": [
        {
          "output_type": "stream",
          "text": [
            "127\n"
          ],
          "name": "stdout"
        }
      ]
    },
    {
      "cell_type": "code",
      "metadata": {
        "id": "dZhTnrf-ZcwI",
        "colab_type": "code",
        "colab": {}
      },
      "source": [
        "# Splitting the dataset into the Training set and Test set\n",
        "\n",
        "from sklearn.model_selection import train_test_split\n",
        "X_Train, X_Test, Y_Train, Y_Test = train_test_split(X, y, test_size = 0.30, random_state = 0)\n"
      ],
      "execution_count": 0,
      "outputs": []
    },
    {
      "cell_type": "code",
      "metadata": {
        "id": "b44MZlb-Zc7d",
        "colab_type": "code",
        "colab": {}
      },
      "source": [
        "# Feature Scaling\n",
        "\n",
        "from sklearn.preprocessing import StandardScaler\n",
        "sc_X = StandardScaler()\n",
        "X_Train = sc_X.fit_transform(X_Train)\n",
        "X_Test = sc_X.transform(X_Test)"
      ],
      "execution_count": 0,
      "outputs": []
    },
    {
      "cell_type": "code",
      "metadata": {
        "id": "O6YJ0dI0Zg5y",
        "colab_type": "code",
        "outputId": "bdb7aa83-4ffb-4f71-a9a6-aab6859874c7",
        "colab": {
          "base_uri": "https://localhost:8080/",
          "height": 178
        }
      },
      "source": [
        "# Fitting the classifier into the Training set\n",
        "\n",
        "from sklearn.ensemble import RandomForestClassifier\n",
        "classifier = RandomForestClassifier(n_estimators = 200, criterion = 'entropy', random_state = 0)\n",
        "classifier.fit(X_Train,Y_Train)\n"
      ],
      "execution_count": 11,
      "outputs": [
        {
          "output_type": "execute_result",
          "data": {
            "text/plain": [
              "RandomForestClassifier(bootstrap=True, class_weight=None, criterion='entropy',\n",
              "                       max_depth=None, max_features='auto', max_leaf_nodes=None,\n",
              "                       min_impurity_decrease=0.0, min_impurity_split=None,\n",
              "                       min_samples_leaf=1, min_samples_split=2,\n",
              "                       min_weight_fraction_leaf=0.0, n_estimators=200,\n",
              "                       n_jobs=None, oob_score=False, random_state=0, verbose=0,\n",
              "                       warm_start=False)"
            ]
          },
          "metadata": {
            "tags": []
          },
          "execution_count": 11
        }
      ]
    },
    {
      "cell_type": "code",
      "metadata": {
        "id": "MTm_JVipZjiv",
        "colab_type": "code",
        "colab": {}
      },
      "source": [
        "# Predicting the test set results\n",
        "#%%timeit\n",
        "Y_Pred = classifier.predict(X_Test)\n",
        "\n",
        "# Making the Confusion Matrix \n",
        "\n",
        "from sklearn.metrics import confusion_matrix\n",
        "cm = confusion_matrix(Y_Test, Y_Pred)"
      ],
      "execution_count": 0,
      "outputs": []
    },
    {
      "cell_type": "code",
      "metadata": {
        "id": "pk1L9TCoZllI",
        "colab_type": "code",
        "colab": {}
      },
      "source": [
        "from sklearn.model_selection import cross_val_score\n",
        "from sklearn.model_selection import KFold"
      ],
      "execution_count": 0,
      "outputs": []
    },
    {
      "cell_type": "code",
      "metadata": {
        "id": "slQRHFvDZnOz",
        "colab_type": "code",
        "outputId": "49e079a2-9bf5-4e4e-d872-6b0ba20dc5d7",
        "colab": {
          "base_uri": "https://localhost:8080/",
          "height": 270
        }
      },
      "source": [
        "from sklearn.metrics import classification_report, confusion_matrix\n",
        "print(cm)\n",
        "print(classification_report(Y_Test, Y_Pred))\n",
        "#print(\"\\n Acurácia treinamento : %.2f%%\" %accuracy_score(Y_Test, Y_Pred) * 100)"
      ],
      "execution_count": 14,
      "outputs": [
        {
          "output_type": "stream",
          "text": [
            "[[3167  373]\n",
            " [ 661 2963]]\n",
            "              precision    recall  f1-score   support\n",
            "\n",
            "           0       0.83      0.89      0.86      3540\n",
            "           1       0.89      0.82      0.85      3624\n",
            "\n",
            "    accuracy                           0.86      7164\n",
            "   macro avg       0.86      0.86      0.86      7164\n",
            "weighted avg       0.86      0.86      0.86      7164\n",
            "\n"
          ],
          "name": "stdout"
        }
      ]
    },
    {
      "cell_type": "code",
      "metadata": {
        "id": "xy-XZ-M0I12F",
        "colab_type": "code",
        "colab": {}
      },
      "source": [
        "#testando validação cruzada e consequencias do aumento de estimadores na acurácia"
      ],
      "execution_count": 0,
      "outputs": []
    },
    {
      "cell_type": "code",
      "metadata": {
        "id": "RH5ZLOWJI4fk",
        "colab_type": "code",
        "outputId": "0ed3edc3-d929-4c2b-9fe3-58a1b5df67b7",
        "colab": {
          "base_uri": "https://localhost:8080/",
          "height": 40
        }
      },
      "source": [
        "from sklearn.model_selection import validation_curve\n",
        "param_range = [10, 50, 100, 200,300,400,500,800,1000,1500]\n",
        "starCross = time.time()\n",
        "crossvalidation = KFold(n_splits=3,shuffle=True,random_state=1)\n",
        "RF_cls = RandomForestClassifier(n_estimators=200,random_state=0)\n",
        "train_scores, test_scores = validation_curve(RF_cls, X, y,\n",
        "'n_estimators',\n",
        "param_range=param_range,\n",
        "cv=crossvalidation,\n",
        "scoring='accuracy')\n",
        "endCross = time.time()\n",
        "print(\"O tempo gasto no cross foi de %s\" %(endCross - starCross))\n",
        "mean_test_scores = np.mean(test_scores, axis=1)"
      ],
      "execution_count": 16,
      "outputs": [
        {
          "output_type": "stream",
          "text": [
            "O tempo gasto no cross foi de 379.5410408973694\n"
          ],
          "name": "stdout"
        }
      ]
    },
    {
      "cell_type": "code",
      "metadata": {
        "id": "de6yTrXHI7SX",
        "colab_type": "code",
        "outputId": "e5186164-2e95-42ce-8bbd-6e7c538a3318",
        "colab": {
          "base_uri": "https://localhost:8080/",
          "height": 325
        }
      },
      "source": [
        "import matplotlib.pyplot as plt\n",
        "plt.plot(param_range, mean_test_scores,\n",
        "'bD-.', label='CV score')\n",
        "plt.grid()\n",
        "plt.xlabel('Number of estimators')\n",
        "plt.ylabel('accuracy')\n",
        "print(mean_test_scores)\n",
        "plt.legend(loc='lower right', numpoints= 1)\n",
        "plt.show()"
      ],
      "execution_count": 17,
      "outputs": [
        {
          "output_type": "stream",
          "text": [
            "[0.84256816 0.85454622 0.85609582 0.85852494 0.85798048 0.85806425\n",
            " 0.85802236 0.85802236 0.8577292  0.85777108]\n"
          ],
          "name": "stdout"
        },
        {
          "output_type": "display_data",
          "data": {
            "image/png": "[encoded data removed]",
            "text/plain": [
              "<Figure size 432x288 with 1 Axes>"
            ]
          },
          "metadata": {
            "tags": []
          }
        }
      ]
    },
    {
      "cell_type": "code",
      "metadata": {
        "id": "7q9P3y9CI9e0",
        "colab_type": "code",
        "colab": {}
      },
      "source": [
        "#testando agora os melhores parâmetros"
      ],
      "execution_count": 0,
      "outputs": []
    },
    {
      "cell_type": "code",
      "metadata": {
        "id": "Jz9d5S9AZFsr",
        "colab_type": "code",
        "outputId": "fdb86b73-aa01-46f9-d812-0d67b25fa1ed",
        "colab": {
          "base_uri": "https://localhost:8080/",
          "height": 290
        }
      },
      "source": [
        "crossvalidation = KFold(n_splits=5, shuffle=True,\n",
        "random_state=1)\n",
        "RF_cls = RandomForestClassifier(random_state=1)\n",
        "score = np.mean(cross_val_score(RF_cls, X, y,\n",
        "scoring='accuracy',\n",
        "cv=crossvalidation))\n",
        "print('Accuracy: %.3f' % score)\n",
        "#print('Accuracy: %.3f' % score)\n",
        "scorer = 'accuracy'"
      ],
      "execution_count": 19,
      "outputs": [
        {
          "output_type": "stream",
          "text": [
            "/usr/local/lib/python3.6/dist-packages/sklearn/ensemble/forest.py:245: FutureWarning: The default value of n_estimators will change from 10 in version 0.20 to 100 in 0.22.\n",
            "  \"10 in version 0.20 to 100 in 0.22.\", FutureWarning)\n",
            "/usr/local/lib/python3.6/dist-packages/sklearn/ensemble/forest.py:245: FutureWarning: The default value of n_estimators will change from 10 in version 0.20 to 100 in 0.22.\n",
            "  \"10 in version 0.20 to 100 in 0.22.\", FutureWarning)\n",
            "/usr/local/lib/python3.6/dist-packages/sklearn/ensemble/forest.py:245: FutureWarning: The default value of n_estimators will change from 10 in version 0.20 to 100 in 0.22.\n",
            "  \"10 in version 0.20 to 100 in 0.22.\", FutureWarning)\n",
            "/usr/local/lib/python3.6/dist-packages/sklearn/ensemble/forest.py:245: FutureWarning: The default value of n_estimators will change from 10 in version 0.20 to 100 in 0.22.\n",
            "  \"10 in version 0.20 to 100 in 0.22.\", FutureWarning)\n",
            "/usr/local/lib/python3.6/dist-packages/sklearn/ensemble/forest.py:245: FutureWarning: The default value of n_estimators will change from 10 in version 0.20 to 100 in 0.22.\n",
            "  \"10 in version 0.20 to 100 in 0.22.\", FutureWarning)\n"
          ],
          "name": "stderr"
        },
        {
          "output_type": "stream",
          "text": [
            "Accuracy: 0.841\n"
          ],
          "name": "stdout"
        }
      ]
    },
    {
      "cell_type": "code",
      "metadata": {
        "id": "0s-iiH02aG4J",
        "colab_type": "code",
        "outputId": "fe0129d4-67d9-4e13-a340-4442273bf0bb",
        "colab": {
          "base_uri": "https://localhost:8080/",
          "height": 86
        }
      },
      "source": [
        "from sklearn.model_selection import GridSearchCV\n",
        "\n",
        "max_features = [X.shape[1]//3, 'sqrt', 'log2', 'auto']\n",
        "min_samples_leaf = [1, 10, 30]\n",
        "n_estimators = [50, 100, 300]\n",
        "\n",
        "startGrid = time.time()\n",
        "search_grid = {'n_estimators':n_estimators,'max_features': max_features,'min_samples_leaf': min_samples_leaf}\n",
        "search_func = GridSearchCV(estimator=RF_cls, param_grid=search_grid, scoring=scorer, cv=crossvalidation, refit = True )\n",
        "\n",
        "search_func.fit(X,y)\n",
        "\n",
        "endGrid = time.time()\n",
        "best_params = search_func.best_params_\n",
        "best_score = search_func.best_score_\n",
        "\n",
        "print('Best parameters: %s' % best_params)\n",
        "print('Best accuracy: %s' % best_score)\n",
        "print('Tempo gasto no grid foi de : %s' %(endGrid - startGrid))"
      ],
      "execution_count": 20,
      "outputs": [
        {
          "output_type": "stream",
          "text": [
            "Best parameters: {'max_features': 42, 'min_samples_leaf': 1, 'n_estimators': 300}\n",
            "Best accuracy: 0.8589437534028563\n",
            "Tempo gasto no grid foi de : 852.4535677433014\n"
          ],
          "name": "stdout"
        }
      ]
    },
    {
      "cell_type": "code",
      "metadata": {
        "id": "qekavxAYJKJ-",
        "colab_type": "code",
        "outputId": "8f0ed909-a638-4fd5-9ecc-96b729c75d32",
        "colab": {
          "base_uri": "https://localhost:8080/",
          "height": 40
        }
      },
      "source": [
        "print('Best accuracy: %s' % (best_score * 100))\n"
      ],
      "execution_count": 21,
      "outputs": [
        {
          "output_type": "stream",
          "text": [
            "Best accuracy: 85.89437534028563\n"
          ],
          "name": "stdout"
        }
      ]
    },
    {
      "cell_type": "code",
      "metadata": {
        "id": "vYBrPA-MFMLy",
        "colab_type": "code",
        "outputId": "e33b53db-53c9-4f4a-a3a9-81581d77a8bd",
        "colab": {
          "base_uri": "https://localhost:8080/",
          "height": 178
        }
      },
      "source": [
        "print( search_func.best_estimator_)\n",
        "optimised_random_forest = search_func.best_estimator_"
      ],
      "execution_count": 22,
      "outputs": [
        {
          "output_type": "stream",
          "text": [
            "RandomForestClassifier(bootstrap=True, class_weight=None, criterion='gini',\n",
            "                       max_depth=None, max_features=42, max_leaf_nodes=None,\n",
            "                       min_impurity_decrease=0.0, min_impurity_split=None,\n",
            "                       min_samples_leaf=1, min_samples_split=2,\n",
            "                       min_weight_fraction_leaf=0.0, n_estimators=300,\n",
            "                       n_jobs=None, oob_score=False, random_state=1, verbose=0,\n",
            "                       warm_start=False)\n"
          ],
          "name": "stdout"
        }
      ]
    },
    {
      "cell_type": "code",
      "metadata": {
        "id": "n8NXsQho2X7D",
        "colab_type": "code",
        "outputId": "2df94661-eb54-431c-8a72-a8ac84090524",
        "colab": {
          "base_uri": "https://localhost:8080/",
          "height": 270
        }
      },
      "source": [
        "# Predicting the test set results\n",
        "#%%timeit\n",
        "Y_Pred = search_func.best_estimator_.predict(X_Test)\n",
        "\n",
        "# Making the Confusion Matrix \n",
        "\n",
        "from sklearn.metrics import confusion_matrix\n",
        "cm = confusion_matrix(Y_Test, Y_Pred)\n",
        "print(cm)\n",
        "print(classification_report(Y_Test, Y_Pred))"
      ],
      "execution_count": 23,
      "outputs": [
        {
          "output_type": "stream",
          "text": [
            "[[3498   42]\n",
            " [2131 1493]]\n",
            "              precision    recall  f1-score   support\n",
            "\n",
            "           0       0.62      0.99      0.76      3540\n",
            "           1       0.97      0.41      0.58      3624\n",
            "\n",
            "    accuracy                           0.70      7164\n",
            "   macro avg       0.80      0.70      0.67      7164\n",
            "weighted avg       0.80      0.70      0.67      7164\n",
            "\n"
          ],
          "name": "stdout"
        }
      ]
    },
    {
      "cell_type": "code",
      "metadata": {
        "id": "DXZrfuIvJNZm",
        "colab_type": "code",
        "outputId": "a104e8e2-7acf-4b5e-a662-71730ea08d14",
        "colab": {
          "base_uri": "https://localhost:8080/",
          "height": 819
        }
      },
      "source": [
        "RF_cls.fit(X_Train, Y_Train)# Mostrando importância de cada feature\n",
        "RF_cls.feature_importances_"
      ],
      "execution_count": 24,
      "outputs": [
        {
          "output_type": "stream",
          "text": [
            "/usr/local/lib/python3.6/dist-packages/sklearn/ensemble/forest.py:245: FutureWarning: The default value of n_estimators will change from 10 in version 0.20 to 100 in 0.22.\n",
            "  \"10 in version 0.20 to 100 in 0.22.\", FutureWarning)\n"
          ],
          "name": "stderr"
        },
        {
          "output_type": "execute_result",
          "data": {
            "text/plain": [
              "array([3.15835075e-03, 2.30274620e-02, 3.76552076e-03, 4.47414970e-03,\n",
              "       7.95211847e-04, 6.55237839e-04, 2.34097865e-04, 8.11769186e-05,\n",
              "       4.35376590e-05, 0.00000000e+00, 9.61033672e-02, 1.56702596e-02,\n",
              "       3.74947257e-04, 2.75704811e-03, 4.73805180e-03, 5.17864343e-04,\n",
              "       5.67302467e-03, 6.00052996e-04, 3.40115619e-04, 4.90548075e-03,\n",
              "       1.39231378e-02, 4.92653354e-03, 2.51301521e-03, 4.93937631e-03,\n",
              "       3.05415791e-02, 3.29560306e-03, 2.90010044e-02, 1.12880011e-03,\n",
              "       4.56009298e-03, 4.14489002e-03, 7.45408072e-03, 1.72101438e-02,\n",
              "       2.65474414e-04, 2.73668668e-03, 1.35167058e-03, 5.39396291e-03,\n",
              "       4.83705057e-03, 5.28230598e-03, 4.15007232e-03, 5.30847311e-03,\n",
              "       1.10486358e-02, 4.86095875e-03, 5.55337552e-03, 2.25263229e-03,\n",
              "       5.82003965e-03, 4.88691172e-03, 6.06875371e-05, 5.47773599e-04,\n",
              "       4.71393866e-03, 4.28080980e-03, 8.08067504e-05, 1.97696887e-02,\n",
              "       1.92798931e-02, 1.91951968e-03, 3.05365211e-03, 3.09686911e-03,\n",
              "       3.91256901e-03, 4.75606365e-03, 5.30563628e-03, 3.58573014e-03,\n",
              "       3.88945154e-03, 3.53333600e-03, 1.79130741e-02, 4.02752098e-03,\n",
              "       1.59104450e-02, 5.50383963e-04, 1.61977039e-02, 3.66626613e-03,\n",
              "       1.30265919e-02, 4.62921801e-03, 8.34938366e-03, 5.69446549e-03,\n",
              "       1.48744620e-02, 1.09663364e-02, 6.10343468e-02, 1.77342039e-02,\n",
              "       1.73894502e-03, 2.06651584e-02, 5.71485089e-02, 5.50872179e-02,\n",
              "       6.91370399e-02, 1.71278945e-02, 3.79294291e-02, 2.36174680e-02,\n",
              "       1.89620241e-04, 4.11577499e-03, 5.68205008e-03, 7.64665617e-03,\n",
              "       3.10779954e-03, 3.23815517e-04, 1.92887438e-04, 9.63365802e-04,\n",
              "       2.18862653e-04, 9.16444833e-05, 7.53953330e-05, 9.22586378e-04,\n",
              "       8.50931813e-03, 3.89564620e-04, 7.15001517e-04, 1.20980761e-04,\n",
              "       0.00000000e+00, 9.55099804e-04, 4.24742301e-05, 9.90051735e-03,\n",
              "       2.49168750e-04, 4.20946001e-03, 5.43329846e-03, 5.93740520e-04,\n",
              "       1.42333724e-02, 1.35582054e-03, 1.02423945e-04, 1.79211709e-04,\n",
              "       8.27952667e-05, 8.63905030e-06, 3.83039317e-04, 1.05979688e-04,\n",
              "       0.00000000e+00, 0.00000000e+00, 0.00000000e+00, 1.35868678e-02,\n",
              "       8.02564758e-04, 7.09644335e-05, 2.52718775e-04, 0.00000000e+00,\n",
              "       0.00000000e+00, 7.25648130e-05, 0.00000000e+00])"
            ]
          },
          "metadata": {
            "tags": []
          },
          "execution_count": 24
        }
      ]
    },
    {
      "cell_type": "code",
      "metadata": {
        "id": "A8OkqToxJN28",
        "colab_type": "code",
        "outputId": "914c231b-408b-4bdc-a3bb-564d29344bf3",
        "colab": {
          "base_uri": "https://localhost:8080/",
          "height": 288
        }
      },
      "source": [
        "importances = pd.Series(RF_cls.feature_importances_, atributos)\n",
        "importances.nlargest(25).plot(kind='barh')"
      ],
      "execution_count": 25,
      "outputs": [
        {
          "output_type": "execute_result",
          "data": {
            "text/plain": [
              "<matplotlib.axes._subplots.AxesSubplot at 0x7fe7c19a2630>"
            ]
          },
          "metadata": {
            "tags": []
          },
          "execution_count": 25
        },
        {
          "output_type": "display_data",
          "data": {
            "image/png": "[encoded data removed]",
            "text/plain": [
              "<Figure size 432x288 with 1 Axes>"
            ]
          },
          "metadata": {
            "tags": []
          }
        }
      ]
    }
  ]
}
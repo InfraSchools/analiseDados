{
 "cells": [
  {
   "cell_type": "code",
   "execution_count": 1,
   "metadata": {
    "colab": {
     "base_uri": "https://localhost:8080/",
     "height": 153
    },
    "colab_type": "code",
    "id": "MPySvpsj10_Z",
    "outputId": "2acf2d77-f1b8-499b-f103-8cb1a7b0c7e3"
   },
   "outputs": [],
   "source": [
    "#!git clone https://github.com/InfraSchools/analiseDados.git"
   ]
  },
  {
   "cell_type": "code",
   "execution_count": null,
   "metadata": {
    "colab": {},
    "colab_type": "code",
    "id": "EUQCY9YU13xI"
   },
   "outputs": [],
   "source": [
    "import pandas as pd\n",
    "import numpy as np\n",
    "import matplotlib.pyplot as plt\n",
    "import seaborn as sns\n",
    "\n",
    "import sklearn\n",
    "import sklearn.datasets\n",
    "import sklearn.linear_model\n",
    "\n",
    "%matplotlib inline"
   ]
  },
  {
   "cell_type": "code",
   "execution_count": null,
   "metadata": {
    "colab": {
     "base_uri": "https://localhost:8080/",
     "height": 51
    },
    "colab_type": "code",
    "id": "ywNS7dVj2FD2",
    "outputId": "a6dfd8c6-6795-4171-c037-df03bd9a3485"
   },
   "outputs": [],
   "source": [
    "df = pd.read_csv(\"analiseDados/base/Base_Completa.csv\", sep=';', encoding='utf-8', squeeze = True)"
   ]
  },
  {
   "cell_type": "code",
   "execution_count": null,
   "metadata": {
    "colab": {
     "base_uri": "https://localhost:8080/",
     "height": 694
    },
    "colab_type": "code",
    "id": "QSXMl_Aq2iYG",
    "outputId": "a3e8e7f2-28e4-4329-9f75-65491b6014c5"
   },
   "outputs": [],
   "source": [
    "df"
   ]
  },
  {
   "cell_type": "code",
   "execution_count": null,
   "metadata": {
    "colab": {},
    "colab_type": "code",
    "id": "xjPJuKrn2jqO"
   },
   "outputs": [],
   "source": [
    "# [x for x in df.columns]"
   ]
  },
  {
   "cell_type": "code",
   "execution_count": null,
   "metadata": {
    "colab": {},
    "colab_type": "code",
    "id": "ZwaZluql2qdl"
   },
   "outputs": [],
   "source": [
    "df = df[df.TAXA_PARTICIPACAO_5EF!=0]\n",
    "\n"
   ]
  },
  {
   "cell_type": "code",
   "execution_count": null,
   "metadata": {
    "colab": {
     "base_uri": "https://localhost:8080/",
     "height": 282
    },
    "colab_type": "code",
    "id": "ztNALU0O26xQ",
    "outputId": "db5ad05d-2bd6-48d1-cb85-f7821890563f"
   },
   "outputs": [],
   "source": [
    "\n",
    "sns.boxplot(data=df['MEDIA_5EF_LP'])"
   ]
  },
  {
   "cell_type": "code",
   "execution_count": null,
   "metadata": {
    "colab": {
     "base_uri": "https://localhost:8080/",
     "height": 221
    },
    "colab_type": "code",
    "id": "zCt7_SKA3Hk_",
    "outputId": "b7e2d1ce-4d5d-40a4-8dd1-705b3204bfc7"
   },
   "outputs": [],
   "source": [
    "\"\"\" treinamento \"\"\"\n",
    "\n",
    "q1 = df['MEDIA_5EF_LP'].quantile(q=0.25)\n",
    "q4 = df['MEDIA_5EF_LP'].quantile(q=0.75)\n",
    "\n",
    "df1Q = df[df['MEDIA_5EF_LP']<q1]\n",
    "df4Q = df[df['MEDIA_5EF_LP']>q4]\n",
    "\n",
    "df1Q['ROTULO'] = 0\n",
    "df4Q['ROTULO'] = 1\n",
    "\n",
    "treino_base_LP = pd.concat([df4Q , df1Q])"
   ]
  },
  {
   "cell_type": "code",
   "execution_count": null,
   "metadata": {},
   "outputs": [],
   "source": [
    "print(q1)\n",
    "print(q4)"
   ]
  },
  {
   "cell_type": "code",
   "execution_count": null,
   "metadata": {
    "colab": {},
    "colab_type": "code",
    "id": "z8sKfoRZ7xTB"
   },
   "outputs": [],
   "source": [
    "atributos = [ 'IN_LABORATORIO_INFORMATICA','IN_BIBLIOTECA', 'IN_AGUA_FILTRADA', 'IN_ENERGIA_REDE_PUBLICA','IN_AGUA_INEXISTENTE','IN_ESGOTO_INEXISTENTE','IN_QUADRA_ESPORTES', 'IN_SALA_LEITURA','IN_BIBLIOTECA_SALA_LEITURA', 'IN_INTERNET']\n",
    "\n",
    "X = treino_base_LP[atributos]\n",
    "\n",
    "y = treino_base_LP['ROTULO']"
   ]
  },
  {
   "cell_type": "code",
   "execution_count": null,
   "metadata": {
    "colab": {},
    "colab_type": "code",
    "id": "WCUUGYwp7GCL"
   },
   "outputs": [],
   "source": [
    "from sklearn.model_selection import train_test_split \n",
    "\n",
    "X_train, X_test, y_train, y_test = train_test_split(X, y, test_size=0.20) "
   ]
  },
  {
   "cell_type": "code",
   "execution_count": null,
   "metadata": {
    "colab": {
     "base_uri": "https://localhost:8080/",
     "height": 139
    },
    "colab_type": "code",
    "id": "VQIxJcUO7sRa",
    "outputId": "1e24a0a2-a97a-46f8-b3b6-0338230fe586"
   },
   "outputs": [],
   "source": [
    "from sklearn.svm import SVC\n",
    "svclassifier = SVC(kernel='rbf')\n",
    "svclassifier.fit(X_train, y_train)"
   ]
  },
  {
   "cell_type": "code",
   "execution_count": null,
   "metadata": {
    "colab": {},
    "colab_type": "code",
    "id": "yuShNF9Z81Ak"
   },
   "outputs": [],
   "source": [
    "y_pred = svclassifier.predict(X_test)"
   ]
  },
  {
   "cell_type": "code",
   "execution_count": null,
   "metadata": {
    "colab": {
     "base_uri": "https://localhost:8080/",
     "height": 204
    },
    "colab_type": "code",
    "id": "ITWWY3mC85pD",
    "outputId": "53c08391-2c93-4c6b-d74e-d75e117b9d0e"
   },
   "outputs": [],
   "source": [
    "from sklearn.metrics import classification_report, confusion_matrix\n",
    "print(confusion_matrix(y_test, y_pred))\n",
    "print(classification_report(y_test, y_pred))"
   ]
  },
  {
   "cell_type": "code",
   "execution_count": null,
   "metadata": {
    "colab": {
     "base_uri": "https://localhost:8080/",
     "height": 139
    },
    "colab_type": "code",
    "id": "w45nf8ZO860y",
    "outputId": "1b6a3357-0f27-40d1-898f-b6ddad1f74dd"
   },
   "outputs": [],
   "source": [
    "from sklearn.svm import SVC\n",
    "svclassifier = SVC(kernel='rbf')\n",
    "svclassifier.fit(X_train, y_train)"
   ]
  },
  {
   "cell_type": "code",
   "execution_count": null,
   "metadata": {
    "colab": {},
    "colab_type": "code",
    "id": "MrIl9q2k9AyT"
   },
   "outputs": [],
   "source": [
    "y_pred = svclassifier.predict(X_test)"
   ]
  },
  {
   "cell_type": "code",
   "execution_count": null,
   "metadata": {
    "colab": {
     "base_uri": "https://localhost:8080/",
     "height": 204
    },
    "colab_type": "code",
    "id": "HwUAowVS9D4y",
    "outputId": "75e1cae1-6dba-4b33-ac80-ac56dc1c317a"
   },
   "outputs": [],
   "source": [
    "from sklearn.metrics import classification_report, confusion_matrix\n",
    "print(confusion_matrix(y_test, y_pred))\n",
    "print(classification_report(y_test, y_pred))"
   ]
  },
  {
   "cell_type": "code",
   "execution_count": null,
   "metadata": {
    "colab": {
     "base_uri": "https://localhost:8080/",
     "height": 139
    },
    "colab_type": "code",
    "id": "2ewW01oH9E2K",
    "outputId": "39a3e9dc-279c-4650-aa55-c1b2a55c2453"
   },
   "outputs": [],
   "source": [
    "from sklearn.svm import SVC\n",
    "svclassifier = SVC(kernel='sigmoid')\n",
    "svclassifier.fit(X_train, y_train)"
   ]
  },
  {
   "cell_type": "code",
   "execution_count": null,
   "metadata": {
    "colab": {},
    "colab_type": "code",
    "id": "4oqhQC5s9Mhn"
   },
   "outputs": [],
   "source": [
    "y_pred = svclassifier.predict(X_test)"
   ]
  },
  {
   "cell_type": "code",
   "execution_count": null,
   "metadata": {
    "colab": {
     "base_uri": "https://localhost:8080/",
     "height": 204
    },
    "colab_type": "code",
    "id": "4L4WyMb19SA-",
    "outputId": "6451f565-2cc9-4e1e-8bd6-d882ebabfdbf"
   },
   "outputs": [],
   "source": [
    "from sklearn.metrics import classification_report, confusion_matrix\n",
    "print(confusion_matrix(y_test, y_pred))\n",
    "print(classification_report(y_test, y_pred))"
   ]
  }
 ],
 "metadata": {
  "colab": {
   "collapsed_sections": [],
   "name": "machinelearn_Escolas.ipynb",
   "provenance": []
  },
  "kernelspec": {
   "display_name": "Python 3",
   "language": "python",
   "name": "python3"
  },
  "language_info": {
   "codemirror_mode": {
    "name": "ipython",
    "version": 3
   },
   "file_extension": ".py",
   "mimetype": "text/x-python",
   "name": "python",
   "nbconvert_exporter": "python",
   "pygments_lexer": "ipython3",
   "version": "3.7.3"
  }
 },
 "nbformat": 4,
 "nbformat_minor": 1
}

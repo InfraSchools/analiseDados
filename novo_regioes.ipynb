{
 "cells": [
  {
   "cell_type": "code",
   "execution_count": 1,
   "metadata": {},
   "outputs": [],
   "source": [
    "import pandas as pd\n",
    "import numpy as np\n",
    "import matplotlib.pyplot as plt\n",
    "\n",
    "%matplotlib inline"
   ]
  },
  {
   "cell_type": "code",
   "execution_count": 46,
   "metadata": {},
   "outputs": [],
   "source": [
    "def ler_csv(file, separador, encode, zebrado=False):\n",
    "    return pd.read_csv(file, sep=separador, encoding=encode, squeeze = zebrado)"
   ]
  },
  {
   "cell_type": "code",
   "execution_count": 45,
   "metadata": {},
   "outputs": [],
   "source": [
    "def medias_regiao(df_ori, regiao):\n",
    "    df = df_ori[df_ori['CO_REGIAO']==regiao] #'MEDIA_5EF_LP', 'MEDIA_5EF_MT'\n",
    "    \n",
    "    df_LP = df[df['MEDIA_5EF_LP']!=0]\n",
    "    df_media_LP = df_LP['MEDIA_5EF_LP'].sum()/len(df_LP['MEDIA_5EF_LP'])\n",
    "    \n",
    "    df_MT = df[df['MEDIA_5EF_MT']!=0]\n",
    "    df_media_MT = df_MT['MEDIA_5EF_MT'].sum()/len(df_MT['MEDIA_5EF_MT'])\n",
    "    return (df_media_LP,df_media_MT)"
   ]
  },
  {
   "cell_type": "code",
   "execution_count": 88,
   "metadata": {},
   "outputs": [
    {
     "name": "stderr",
     "output_type": "stream",
     "text": [
      "/Library/Frameworks/Python.framework/Versions/3.7/lib/python3.7/site-packages/IPython/core/interactiveshell.py:3249: DtypeWarning: Columns (3) have mixed types. Specify dtype option on import or set low_memory=False.\n",
      "  if (await self.run_code(code, result,  async_=asy)):\n"
     ]
    }
   ],
   "source": [
    "df_ESC = ler_csv(\"ESCOLAS.CSV\", '|', 'iso-8859-1', True)\n",
    "df_PU_ESC= ler_csv(\"ESCOLA_publicas.csv\", ',', 'iso-8859-1', True)\n",
    "df_TS_ESC= ler_csv(\"TS_ESCOLA.csv\", ',', 'iso-8859-1', True)\n",
    "\n",
    "df_estados = ler_csv(\"EsatosNomeUFRegiao.csv\", ',', 'iso-8859-1', True)"
   ]
  },
  {
   "cell_type": "code",
   "execution_count": 8,
   "metadata": {},
   "outputs": [],
   "source": [
    "df7 = pd.merge(df_TS_ESC,df_ESC, left_on='ID_ESCOLA', right_on='CO_ENTIDADE',  how='left')"
   ]
  },
  {
   "cell_type": "code",
   "execution_count": 9,
   "metadata": {},
   "outputs": [],
   "source": [
    "df7 = df7.fillna(0)"
   ]
  },
  {
   "cell_type": "code",
   "execution_count": 10,
   "metadata": {},
   "outputs": [],
   "source": [
    "df7 = pd.merge(df7, df_estados, on=\"ID_UF\", how='left')"
   ]
  },
  {
   "cell_type": "code",
   "execution_count": 11,
   "metadata": {},
   "outputs": [],
   "source": [
    "df7['MEDIA_TOTAL_5EF'] = list(map(lambda a, b: ((a + b)/2), df7.loc[:,'MEDIA_5EF_MT'], df7.loc[:,'MEDIA_5EF_MT']))"
   ]
  },
  {
   "cell_type": "code",
   "execution_count": 83,
   "metadata": {},
   "outputs": [],
   "source": [
    "regia_media_LP = [medias_regiao(df7, x)[0] for x in range(1,6)]\n",
    "regia_media_MT = [medias_regiao(df7, x)[1] for x in range(1,6)]"
   ]
  },
  {
   "cell_type": "code",
   "execution_count": 86,
   "metadata": {},
   "outputs": [
    {
     "data": {
      "image/png": "[encoded data removed]",
      "text/plain": [
       "<Figure size 720x432 with 1 Axes>"
      ]
     },
     "metadata": {
      "needs_background": "light"
     },
     "output_type": "display_data"
    }
   ],
   "source": [
    "barWidth = 0.25\n",
    "r1 = np.arange(len(regia_media_LP))\n",
    "r2 = [x+barWidth for x in r1]\n",
    "\n",
    "plt.figure(figsize=(10,6))\n",
    "\n",
    "plt.bar(r1, regia_media_LP, color='#6A5ACD' , width=barWidth, label=\"PORTUGUES\")\n",
    "plt.bar(r2, regia_media_MT, width=barWidth, label=\"MATEMATICA\")\n",
    "\n",
    "plt.xticks([r+(barWidth/2) for r in range(len(regia_media_LP))],['Norte','Nordeste','Centro-Oeste','Sudeste','Sul'])\n",
    "plt.xlabel('Regioes')\n",
    "plt.ylabel('Medias')\n",
    "plt.title('Media 5 ano Portugues Matematica por Regiao')\n",
    "plt.legend()\n",
    "plt.show()"
   ]
  },
  {
   "cell_type": "code",
   "execution_count": 110,
   "metadata": {},
   "outputs": [
    {
     "data": {
      "text/html": [
       "<div>\n",
       "<style scoped>\n",
       "    .dataframe tbody tr th:only-of-type {\n",
       "        vertical-align: middle;\n",
       "    }\n",
       "\n",
       "    .dataframe tbody tr th {\n",
       "        vertical-align: top;\n",
       "    }\n",
       "\n",
       "    .dataframe thead th {\n",
       "        text-align: right;\n",
       "    }\n",
       "</style>\n",
       "<table border=\"1\" class=\"dataframe\">\n",
       "  <thead>\n",
       "    <tr style=\"text-align: right;\">\n",
       "      <th></th>\n",
       "      <th>ID_PROVA_BRASIL</th>\n",
       "      <th>ID_UF</th>\n",
       "      <th>ID_MUNICIPIO</th>\n",
       "      <th>ID_ESCOLA</th>\n",
       "      <th>ID_DEPENDENCIA_ADM</th>\n",
       "      <th>ID_LOCALIZACAO</th>\n",
       "      <th>PC_FORMACAO_DOCENTE_INICIAL</th>\n",
       "      <th>PC_FORMACAO_DOCENTE_FINAL</th>\n",
       "      <th>PC_FORMACAO_DOCENTE_MEDIO</th>\n",
       "      <th>NIVEL_SOCIO_ECONOMICO</th>\n",
       "      <th>...</th>\n",
       "      <th>IN_ESP_EXCLUSIVA_EJA_MEDIO</th>\n",
       "      <th>IN_ESP_EXCLUSIVA_EJA_PROF</th>\n",
       "      <th>IN_COMUM_PROF</th>\n",
       "      <th>IN_ESP_EXCLUSIVA_PROF</th>\n",
       "      <th>cod</th>\n",
       "      <th>regiao</th>\n",
       "      <th>NM_UF</th>\n",
       "      <th>Capital</th>\n",
       "      <th>NM_UF_SIGLA</th>\n",
       "      <th>MEDIA_TOTAL_5EF</th>\n",
       "    </tr>\n",
       "  </thead>\n",
       "  <tbody>\n",
       "    <tr>\n",
       "      <td>25508</td>\n",
       "      <td>2017</td>\n",
       "      <td>27</td>\n",
       "      <td>2702306</td>\n",
       "      <td>27042863</td>\n",
       "      <td>3</td>\n",
       "      <td>2</td>\n",
       "      <td>69.6</td>\n",
       "      <td>41.4</td>\n",
       "      <td>0.0</td>\n",
       "      <td>Grupo 2</td>\n",
       "      <td>...</td>\n",
       "      <td>0.0</td>\n",
       "      <td>0.0</td>\n",
       "      <td>0.0</td>\n",
       "      <td>0.0</td>\n",
       "      <td>2.0</td>\n",
       "      <td>Nordeste</td>\n",
       "      <td>Alagoas</td>\n",
       "      <td>MaceiÃ³</td>\n",
       "      <td>AL</td>\n",
       "      <td>344.00</td>\n",
       "    </tr>\n",
       "    <tr>\n",
       "      <td>17597</td>\n",
       "      <td>2017</td>\n",
       "      <td>23</td>\n",
       "      <td>2310506</td>\n",
       "      <td>23118547</td>\n",
       "      <td>3</td>\n",
       "      <td>2</td>\n",
       "      <td>22.2</td>\n",
       "      <td>9.5</td>\n",
       "      <td>0.0</td>\n",
       "      <td>0</td>\n",
       "      <td>...</td>\n",
       "      <td>0.0</td>\n",
       "      <td>0.0</td>\n",
       "      <td>0.0</td>\n",
       "      <td>0.0</td>\n",
       "      <td>2.0</td>\n",
       "      <td>Nordeste</td>\n",
       "      <td>CearÃ¡</td>\n",
       "      <td>Fortaleza</td>\n",
       "      <td>CE</td>\n",
       "      <td>312.60</td>\n",
       "    </tr>\n",
       "    <tr>\n",
       "      <td>18114</td>\n",
       "      <td>2017</td>\n",
       "      <td>23</td>\n",
       "      <td>2312908</td>\n",
       "      <td>23220058</td>\n",
       "      <td>3</td>\n",
       "      <td>1</td>\n",
       "      <td>85.7</td>\n",
       "      <td>41.7</td>\n",
       "      <td>0.0</td>\n",
       "      <td>Grupo 2</td>\n",
       "      <td>...</td>\n",
       "      <td>0.0</td>\n",
       "      <td>0.0</td>\n",
       "      <td>0.0</td>\n",
       "      <td>0.0</td>\n",
       "      <td>2.0</td>\n",
       "      <td>Nordeste</td>\n",
       "      <td>CearÃ¡</td>\n",
       "      <td>Fortaleza</td>\n",
       "      <td>CE</td>\n",
       "      <td>324.90</td>\n",
       "    </tr>\n",
       "    <tr>\n",
       "      <td>25679</td>\n",
       "      <td>2017</td>\n",
       "      <td>27</td>\n",
       "      <td>2703759</td>\n",
       "      <td>27042774</td>\n",
       "      <td>3</td>\n",
       "      <td>2</td>\n",
       "      <td>35.0</td>\n",
       "      <td>8.3</td>\n",
       "      <td>0.0</td>\n",
       "      <td>Grupo 1</td>\n",
       "      <td>...</td>\n",
       "      <td>0.0</td>\n",
       "      <td>0.0</td>\n",
       "      <td>0.0</td>\n",
       "      <td>0.0</td>\n",
       "      <td>2.0</td>\n",
       "      <td>Nordeste</td>\n",
       "      <td>Alagoas</td>\n",
       "      <td>MaceiÃ³</td>\n",
       "      <td>AL</td>\n",
       "      <td>303.76</td>\n",
       "    </tr>\n",
       "    <tr>\n",
       "      <td>18097</td>\n",
       "      <td>2017</td>\n",
       "      <td>23</td>\n",
       "      <td>2312908</td>\n",
       "      <td>23026014</td>\n",
       "      <td>3</td>\n",
       "      <td>1</td>\n",
       "      <td>86.6</td>\n",
       "      <td>35.3</td>\n",
       "      <td>0.0</td>\n",
       "      <td>Grupo 2</td>\n",
       "      <td>...</td>\n",
       "      <td>0.0</td>\n",
       "      <td>0.0</td>\n",
       "      <td>0.0</td>\n",
       "      <td>0.0</td>\n",
       "      <td>2.0</td>\n",
       "      <td>Nordeste</td>\n",
       "      <td>CearÃ¡</td>\n",
       "      <td>Fortaleza</td>\n",
       "      <td>CE</td>\n",
       "      <td>329.64</td>\n",
       "    </tr>\n",
       "  </tbody>\n",
       "</table>\n",
       "<p>5 rows × 326 columns</p>\n",
       "</div>"
      ],
      "text/plain": [
       "       ID_PROVA_BRASIL  ID_UF  ID_MUNICIPIO  ID_ESCOLA  ID_DEPENDENCIA_ADM  \\\n",
       "25508             2017     27       2702306   27042863                   3   \n",
       "17597             2017     23       2310506   23118547                   3   \n",
       "18114             2017     23       2312908   23220058                   3   \n",
       "25679             2017     27       2703759   27042774                   3   \n",
       "18097             2017     23       2312908   23026014                   3   \n",
       "\n",
       "       ID_LOCALIZACAO  PC_FORMACAO_DOCENTE_INICIAL  PC_FORMACAO_DOCENTE_FINAL  \\\n",
       "25508               2                         69.6                       41.4   \n",
       "17597               2                         22.2                        9.5   \n",
       "18114               1                         85.7                       41.7   \n",
       "25679               2                         35.0                        8.3   \n",
       "18097               1                         86.6                       35.3   \n",
       "\n",
       "       PC_FORMACAO_DOCENTE_MEDIO NIVEL_SOCIO_ECONOMICO  ...  \\\n",
       "25508                        0.0               Grupo 2  ...   \n",
       "17597                        0.0                     0  ...   \n",
       "18114                        0.0               Grupo 2  ...   \n",
       "25679                        0.0               Grupo 1  ...   \n",
       "18097                        0.0               Grupo 2  ...   \n",
       "\n",
       "       IN_ESP_EXCLUSIVA_EJA_MEDIO  IN_ESP_EXCLUSIVA_EJA_PROF  IN_COMUM_PROF  \\\n",
       "25508                         0.0                        0.0            0.0   \n",
       "17597                         0.0                        0.0            0.0   \n",
       "18114                         0.0                        0.0            0.0   \n",
       "25679                         0.0                        0.0            0.0   \n",
       "18097                         0.0                        0.0            0.0   \n",
       "\n",
       "       IN_ESP_EXCLUSIVA_PROF  cod    regiao    NM_UF    Capital  NM_UF_SIGLA  \\\n",
       "25508                    0.0  2.0  Nordeste  Alagoas    MaceiÃ³           AL   \n",
       "17597                    0.0  2.0  Nordeste   CearÃ¡  Fortaleza           CE   \n",
       "18114                    0.0  2.0  Nordeste   CearÃ¡  Fortaleza           CE   \n",
       "25679                    0.0  2.0  Nordeste  Alagoas    MaceiÃ³           AL   \n",
       "18097                    0.0  2.0  Nordeste   CearÃ¡  Fortaleza           CE   \n",
       "\n",
       "       MEDIA_TOTAL_5EF  \n",
       "25508           344.00  \n",
       "17597           312.60  \n",
       "18114           324.90  \n",
       "25679           303.76  \n",
       "18097           329.64  \n",
       "\n",
       "[5 rows x 326 columns]"
      ]
     },
     "execution_count": 110,
     "metadata": {},
     "output_type": "execute_result"
    }
   ],
   "source": [
    "df7[df7['CO_REGIAO']==2].sort_values(by='MEDIA_5EF_LP', ascending=False).head(5)"
   ]
  },
  {
   "cell_type": "code",
   "execution_count": 114,
   "metadata": {},
   "outputs": [
    {
     "data": {
      "text/html": [
       "<div>\n",
       "<style scoped>\n",
       "    .dataframe tbody tr th:only-of-type {\n",
       "        vertical-align: middle;\n",
       "    }\n",
       "\n",
       "    .dataframe tbody tr th {\n",
       "        vertical-align: top;\n",
       "    }\n",
       "\n",
       "    .dataframe thead th {\n",
       "        text-align: right;\n",
       "    }\n",
       "</style>\n",
       "<table border=\"1\" class=\"dataframe\">\n",
       "  <thead>\n",
       "    <tr style=\"text-align: right;\">\n",
       "      <th></th>\n",
       "      <th>ID_PROVA_BRASIL</th>\n",
       "      <th>ID_UF</th>\n",
       "      <th>ID_MUNICIPIO</th>\n",
       "      <th>ID_ESCOLA</th>\n",
       "      <th>ID_DEPENDENCIA_ADM</th>\n",
       "      <th>ID_LOCALIZACAO</th>\n",
       "      <th>PC_FORMACAO_DOCENTE_INICIAL</th>\n",
       "      <th>PC_FORMACAO_DOCENTE_FINAL</th>\n",
       "      <th>PC_FORMACAO_DOCENTE_MEDIO</th>\n",
       "      <th>NIVEL_SOCIO_ECONOMICO</th>\n",
       "      <th>...</th>\n",
       "      <th>IN_ESP_EXCLUSIVA_EJA_MEDIO</th>\n",
       "      <th>IN_ESP_EXCLUSIVA_EJA_PROF</th>\n",
       "      <th>IN_COMUM_PROF</th>\n",
       "      <th>IN_ESP_EXCLUSIVA_PROF</th>\n",
       "      <th>cod</th>\n",
       "      <th>regiao</th>\n",
       "      <th>NM_UF</th>\n",
       "      <th>Capital</th>\n",
       "      <th>NM_UF_SIGLA</th>\n",
       "      <th>MEDIA_TOTAL_5EF</th>\n",
       "    </tr>\n",
       "  </thead>\n",
       "  <tbody>\n",
       "    <tr>\n",
       "      <td>18104</td>\n",
       "      <td>2017</td>\n",
       "      <td>23</td>\n",
       "      <td>2312908</td>\n",
       "      <td>23026340</td>\n",
       "      <td>3</td>\n",
       "      <td>2</td>\n",
       "      <td>60.0</td>\n",
       "      <td>44.4</td>\n",
       "      <td>0.0</td>\n",
       "      <td>0</td>\n",
       "      <td>...</td>\n",
       "      <td>0.0</td>\n",
       "      <td>0.0</td>\n",
       "      <td>0.0</td>\n",
       "      <td>0.0</td>\n",
       "      <td>2.0</td>\n",
       "      <td>Nordeste</td>\n",
       "      <td>CearÃ¡</td>\n",
       "      <td>Fortaleza</td>\n",
       "      <td>CE</td>\n",
       "      <td>351.47</td>\n",
       "    </tr>\n",
       "    <tr>\n",
       "      <td>25508</td>\n",
       "      <td>2017</td>\n",
       "      <td>27</td>\n",
       "      <td>2702306</td>\n",
       "      <td>27042863</td>\n",
       "      <td>3</td>\n",
       "      <td>2</td>\n",
       "      <td>69.6</td>\n",
       "      <td>41.4</td>\n",
       "      <td>0.0</td>\n",
       "      <td>Grupo 2</td>\n",
       "      <td>...</td>\n",
       "      <td>0.0</td>\n",
       "      <td>0.0</td>\n",
       "      <td>0.0</td>\n",
       "      <td>0.0</td>\n",
       "      <td>2.0</td>\n",
       "      <td>Nordeste</td>\n",
       "      <td>Alagoas</td>\n",
       "      <td>MaceiÃ³</td>\n",
       "      <td>AL</td>\n",
       "      <td>344.00</td>\n",
       "    </tr>\n",
       "    <tr>\n",
       "      <td>18090</td>\n",
       "      <td>2017</td>\n",
       "      <td>23</td>\n",
       "      <td>2312908</td>\n",
       "      <td>23025719</td>\n",
       "      <td>3</td>\n",
       "      <td>1</td>\n",
       "      <td>57.1</td>\n",
       "      <td>32.1</td>\n",
       "      <td>0.0</td>\n",
       "      <td>Grupo 2</td>\n",
       "      <td>...</td>\n",
       "      <td>0.0</td>\n",
       "      <td>0.0</td>\n",
       "      <td>0.0</td>\n",
       "      <td>0.0</td>\n",
       "      <td>2.0</td>\n",
       "      <td>Nordeste</td>\n",
       "      <td>CearÃ¡</td>\n",
       "      <td>Fortaleza</td>\n",
       "      <td>CE</td>\n",
       "      <td>333.47</td>\n",
       "    </tr>\n",
       "    <tr>\n",
       "      <td>16269</td>\n",
       "      <td>2017</td>\n",
       "      <td>23</td>\n",
       "      <td>2304707</td>\n",
       "      <td>23005963</td>\n",
       "      <td>3</td>\n",
       "      <td>2</td>\n",
       "      <td>24.1</td>\n",
       "      <td>22.2</td>\n",
       "      <td>0.0</td>\n",
       "      <td>0</td>\n",
       "      <td>...</td>\n",
       "      <td>0.0</td>\n",
       "      <td>0.0</td>\n",
       "      <td>0.0</td>\n",
       "      <td>0.0</td>\n",
       "      <td>2.0</td>\n",
       "      <td>Nordeste</td>\n",
       "      <td>CearÃ¡</td>\n",
       "      <td>Fortaleza</td>\n",
       "      <td>CE</td>\n",
       "      <td>333.23</td>\n",
       "    </tr>\n",
       "    <tr>\n",
       "      <td>16263</td>\n",
       "      <td>2017</td>\n",
       "      <td>23</td>\n",
       "      <td>2304707</td>\n",
       "      <td>23005645</td>\n",
       "      <td>3</td>\n",
       "      <td>1</td>\n",
       "      <td>13.8</td>\n",
       "      <td>0.0</td>\n",
       "      <td>0.0</td>\n",
       "      <td>0</td>\n",
       "      <td>...</td>\n",
       "      <td>0.0</td>\n",
       "      <td>0.0</td>\n",
       "      <td>0.0</td>\n",
       "      <td>0.0</td>\n",
       "      <td>2.0</td>\n",
       "      <td>Nordeste</td>\n",
       "      <td>CearÃ¡</td>\n",
       "      <td>Fortaleza</td>\n",
       "      <td>CE</td>\n",
       "      <td>331.71</td>\n",
       "    </tr>\n",
       "  </tbody>\n",
       "</table>\n",
       "<p>5 rows × 326 columns</p>\n",
       "</div>"
      ],
      "text/plain": [
       "       ID_PROVA_BRASIL  ID_UF  ID_MUNICIPIO  ID_ESCOLA  ID_DEPENDENCIA_ADM  \\\n",
       "18104             2017     23       2312908   23026340                   3   \n",
       "25508             2017     27       2702306   27042863                   3   \n",
       "18090             2017     23       2312908   23025719                   3   \n",
       "16269             2017     23       2304707   23005963                   3   \n",
       "16263             2017     23       2304707   23005645                   3   \n",
       "\n",
       "       ID_LOCALIZACAO  PC_FORMACAO_DOCENTE_INICIAL  PC_FORMACAO_DOCENTE_FINAL  \\\n",
       "18104               2                         60.0                       44.4   \n",
       "25508               2                         69.6                       41.4   \n",
       "18090               1                         57.1                       32.1   \n",
       "16269               2                         24.1                       22.2   \n",
       "16263               1                         13.8                        0.0   \n",
       "\n",
       "       PC_FORMACAO_DOCENTE_MEDIO NIVEL_SOCIO_ECONOMICO  ...  \\\n",
       "18104                        0.0                     0  ...   \n",
       "25508                        0.0               Grupo 2  ...   \n",
       "18090                        0.0               Grupo 2  ...   \n",
       "16269                        0.0                     0  ...   \n",
       "16263                        0.0                     0  ...   \n",
       "\n",
       "       IN_ESP_EXCLUSIVA_EJA_MEDIO  IN_ESP_EXCLUSIVA_EJA_PROF  IN_COMUM_PROF  \\\n",
       "18104                         0.0                        0.0            0.0   \n",
       "25508                         0.0                        0.0            0.0   \n",
       "18090                         0.0                        0.0            0.0   \n",
       "16269                         0.0                        0.0            0.0   \n",
       "16263                         0.0                        0.0            0.0   \n",
       "\n",
       "       IN_ESP_EXCLUSIVA_PROF  cod    regiao    NM_UF    Capital  NM_UF_SIGLA  \\\n",
       "18104                    0.0  2.0  Nordeste   CearÃ¡  Fortaleza           CE   \n",
       "25508                    0.0  2.0  Nordeste  Alagoas    MaceiÃ³           AL   \n",
       "18090                    0.0  2.0  Nordeste   CearÃ¡  Fortaleza           CE   \n",
       "16269                    0.0  2.0  Nordeste   CearÃ¡  Fortaleza           CE   \n",
       "16263                    0.0  2.0  Nordeste   CearÃ¡  Fortaleza           CE   \n",
       "\n",
       "       MEDIA_TOTAL_5EF  \n",
       "18104           351.47  \n",
       "25508           344.00  \n",
       "18090           333.47  \n",
       "16269           333.23  \n",
       "16263           331.71  \n",
       "\n",
       "[5 rows x 326 columns]"
      ]
     },
     "execution_count": 114,
     "metadata": {},
     "output_type": "execute_result"
    }
   ],
   "source": [
    "df7[df7['CO_REGIAO']==2].sort_values(by='MEDIA_5EF_MT', ascending=False).head(5)"
   ]
  },
  {
   "cell_type": "code",
   "execution_count": 111,
   "metadata": {},
   "outputs": [],
   "source": [
    "#[c for c in df7.columns]"
   ]
  },
  {
   "cell_type": "code",
   "execution_count": 113,
   "metadata": {},
   "outputs": [],
   "source": [
    "#[y for y in df7['NIVEL_9_MT5']]"
   ]
  },
  {
   "cell_type": "code",
   "execution_count": null,
   "metadata": {},
   "outputs": [],
   "source": [
    "col = ['CO_ENTIDADE','CO_REGIAO']\n",
    "#colunas = ['ID_UF', 'ID_MUNICIPIO', 'ID_ESCOLA', 'ID_DEPENDENCIA_ADM', 'ID_LOCALIZACAO', 'NIVEL_SOCIO_ECONOMICO', 'NU_MATRICULADOS_CENSO_5EF', 'NU_PRESENTES_5EF', 'TAXA_PARTICIPACAO_5EF', 'MEDIA_5EF_LP', 'MEDIA_5EF_MT', 'MEDIA_9EF_LP', 'MEDIA_9EF_MT', 'MEDIA_3EM_LP', 'MEDIA_3EM_MT']\n",
    "#df_TS_ESC.loc[:, col]\n",
    "df = df_ESC.loc[:, col]\n",
    "#df\n",
    "#df_TS_ESC.loc[:, col].to_csv(r'export_dataframe.csv', index=False,  header=True)"
   ]
  },
  {
   "cell_type": "code",
   "execution_count": null,
   "metadata": {},
   "outputs": [],
   "source": [
    "#list(filter(lambda x: x % 2 == 0, df_ESC.loc[:,'CO_ENTIDADE'], ))"
   ]
  },
  {
   "cell_type": "code",
   "execution_count": 91,
   "metadata": {
    "scrolled": false
   },
   "outputs": [],
   "source": [
    "#df_PU_ESC = pd.merge(df_PU_ESC, df, on='CO_ENTIDADE', how='left')\n",
    "\n",
    "df_PU_ESC = df_PU_ESC.fillna(0)\n",
    "\n",
    "df_PU_ESC['MEDIA_TOTAL_5EF'] = list(map(lambda a, b: ((a + b)/2), df_PU_ESC.loc[:,'MEDIA_5EF_MT'], df_PU_ESC.loc[:,'MEDIA_5EF_MT']))\n",
    "\n",
    "#df_PU_ESC"
   ]
  },
  {
   "cell_type": "code",
   "execution_count": null,
   "metadata": {},
   "outputs": [],
   "source": [
    "#maior = list(reduce((lambda x,y: x if(x>y) else y ), df_PU_ESC[:,'MEDIA_TOTAL_5EF']))\n",
    "#df_PU_ESC['MEDIA_TOTAL_5EF'].sum()"
   ]
  },
  {
   "cell_type": "code",
   "execution_count": 92,
   "metadata": {},
   "outputs": [
    {
     "data": {
      "text/plain": [
       "143.3916774337892"
      ]
     },
     "execution_count": 92,
     "metadata": {},
     "output_type": "execute_result"
    }
   ],
   "source": [
    "df_PU_ESC['MEDIA_TOTAL_5EF'].mean() #media do brasil 5 ano "
   ]
  },
  {
   "cell_type": "code",
   "execution_count": 93,
   "metadata": {},
   "outputs": [
    {
     "data": {
      "text/plain": [
       "351.47"
      ]
     },
     "execution_count": 93,
     "metadata": {},
     "output_type": "execute_result"
    }
   ],
   "source": [
    "df_PU_ESC['MEDIA_TOTAL_5EF'].max() #a maio media do"
   ]
  },
  {
   "cell_type": "code",
   "execution_count": 94,
   "metadata": {},
   "outputs": [],
   "source": [
    "#df1 = df_PU_ESC.sort_values(by='MEDIA_TOTAL_5EF', ascending=False).head(5)"
   ]
  },
  {
   "cell_type": "code",
   "execution_count": null,
   "metadata": {},
   "outputs": [],
   "source": [
    "#df5 = pd.merge(df, df1, on='CO_ENTIDADE')"
   ]
  },
  {
   "cell_type": "code",
   "execution_count": null,
   "metadata": {},
   "outputs": [],
   "source": [
    "#df5"
   ]
  },
  {
   "cell_type": "code",
   "execution_count": null,
   "metadata": {
    "scrolled": false
   },
   "outputs": [],
   "source": [
    "#pd.merge(df_PU_ESC, df, on='CO_ENTIDADE', how='left')"
   ]
  },
  {
   "cell_type": "code",
   "execution_count": null,
   "metadata": {
    "scrolled": true
   },
   "outputs": [],
   "source": [
    "#[x for x in df_TS_ESC.columns]"
   ]
  },
  {
   "cell_type": "code",
   "execution_count": 97,
   "metadata": {},
   "outputs": [],
   "source": [
    "#col = ['ID_PROVA_BRASIL','ID_UF','ID_MUNICIPIO','ID_ESCOLA','ID_DEPENDENCIA_ADM','ID_LOCALIZACAO','MEDIA_5EF_LP','MEDIA_5EF_MT','TAXA_PARTICIPACAO_5EF']\n",
    "#df6 = df_TS_ESC.loc[:, col] \n",
    "#df6['MEDIA_TOTAL_5EF'] = list(map(lambda a, b: ((a + b)/2), df6.loc[:,'MEDIA_5EF_MT'], df6.loc[:,'MEDIA_5EF_MT']))\n",
    "#df6.fillna(0)"
   ]
  }
 ],
 "metadata": {
  "kernelspec": {
   "display_name": "Python 3",
   "language": "python",
   "name": "python3"
  },
  "language_info": {
   "codemirror_mode": {
    "name": "ipython",
    "version": 3
   },
   "file_extension": ".py",
   "mimetype": "text/x-python",
   "name": "python",
   "nbconvert_exporter": "python",
   "pygments_lexer": "ipython3",
   "version": "3.7.4"
  }
 },
 "nbformat": 4,
 "nbformat_minor": 2
}
